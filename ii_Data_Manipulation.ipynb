{
 "cells": [
  {
   "cell_type": "markdown",
   "id": "a042c200-e2e1-4553-a263-95f2d0503e70",
   "metadata": {},
   "source": [
    "# Data Manipulation"
   ]
  },
  {
   "cell_type": "markdown",
   "id": "58bff72c-a908-4300-9b67-ef3962ecf9a4",
   "metadata": {},
   "source": [
    "## Importing necessary libraries and notebooks"
   ]
  },
  {
   "cell_type": "code",
   "execution_count": null,
   "id": "424fa3be-e658-4ef7-b8d7-32db148005bb",
   "metadata": {},
   "outputs": [],
   "source": [
    "import xarray as xr\n",
    "import matplotlib.pyplot as plt\n",
    "import matplotlib.colors as colors\n",
    "import numpy as np\n",
    "import cartopy.crs as ccrs\n",
    "import cartopy.feature as cfeature\n",
    "from datetime import datetime, timedelta\n",
    "from matplotlib import ticker\n",
    "\n",
    "# Import the notebook without running its cells\n",
    "from i_Getting_Started import visualize"
   ]
  },
  {
   "cell_type": "markdown",
   "id": "43750b31-bc93-4773-964a-0cd687ca477e",
   "metadata": {},
   "source": [
    "We're going to try to manipulate the data arrays in various ways to try and improve the visibility of the algae.\n",
    "From here on out, we're only going to work on **OLCI** and **ABI-GOES** images. We're going to test different visualization functions (**which we should probably try to unify into one function with optional parameters when they're written**)."
   ]
  },
  {
   "cell_type": "markdown",
   "id": "6edfcc1e-4fe1-4157-b712-edc91ac79747",
   "metadata": {},
   "source": [
    "## A bit of statistics\n",
    "Here we plot the histograms **(on a logarithmic scale)** of the index values to see how the values are distributed for the 3 instrument images."
   ]
  },
  {
   "cell_type": "code",
   "execution_count": null,
   "id": "0c4c7f6b-9758-494e-9016-37d83a3b83b8",
   "metadata": {},
   "outputs": [],
   "source": [
    "def histogram(file_path):\n",
    "    # Importing data\n",
    "    data = xr.open_dataset(file_path)\n",
    "    index_key = 'fai_anomaly' if \"abi\" in file_path else 'nfai_mean'\n",
    "    xlabel = 'Floating Algae Index Anomaly (FAI)' if \"abi\" in file_path else 'Normalized Floating Algae Index (NFAI)'\n",
    "    title = file_path[25:28].upper() + ' FAI anomaly histogram on ' if \"abi\" in file_path else file_path[25:29].upper() + ' NFAI histogram on ' \n",
    "    index_data = data[index_key]\n",
    "    # Flatten for histogram\n",
    "    flat_values = index_data.values.flatten()\n",
    "    # Remove NaN values for histogram (Changes nothing)\n",
    "    #values = flat_values[~np.isnan(flat_values)]\n",
    "\n",
    "    plt.hist(flat_values, bins=50, log = True)\n",
    "    plt.xlabel(xlabel)\n",
    "    plt.ylabel('Frequency')\n",
    "    plt.title(title + str(data.time.values[0]) )\n",
    "    plt.show()\n"
   ]
  },
  {
   "cell_type": "code",
   "execution_count": null,
   "id": "7c0767f3-6168-4938-a3da-337eec351d6c",
   "metadata": {},
   "outputs": [],
   "source": [
    "if __name__ == '__main__':\n",
    "    abi_path = \"/media/yahia/ballena/CLS/abi-goes-global-hr/cls-abi-goes-global-hr_1d_20220724_12-00.nc\"\n",
    "    histogram(abi_path)\n",
    "    olci_path = \"/media/yahia/ballena/CLS/olci-s3-global-lr/cls-olci-s3-global-lr_1d_20220724.nc\" \n",
    "    histogram(olci_path)\n",
    "    modis_path = \"/media/yahia/ballena/CLS/modis-aqua-global-lr/cls-modis-aqua-global-lr_1d_20220724.nc\"  \n",
    "    histogram(modis_path)"
   ]
  },
  {
   "cell_type": "markdown",
   "id": "6c41909e-821e-4619-a3a2-a809ed8a7507",
   "metadata": {},
   "source": [
    "All histograms show a very high frequency (about 10⁷) for lower values which correspond to land, clouds or sea. For this reason, we're going to try to change the scale of the colormaps to try and have more contrast between the algae and the rest of the image."
   ]
  },
  {
   "cell_type": "markdown",
   "id": "b9146b27-d664-4edc-b40d-08bb08c78692",
   "metadata": {},
   "source": [
    "## OLCI"
   ]
  },
  {
   "cell_type": "markdown",
   "id": "f45bc577-458e-4ec7-9fec-35298901d563",
   "metadata": {},
   "source": [
    "### Visualize_4: Setting a max for the scale\n",
    "Note: vmax doesn't set a threshold for the image, it's just that the colors are saturated at vmax (For example if vmax is 0.01, values greater than 0.01 will still be shown but will have the same saturated color)"
   ]
  },
  {
   "cell_type": "code",
   "execution_count": null,
   "id": "88df6527-fe0d-43a9-9f5f-d4c4aa90a02b",
   "metadata": {},
   "outputs": [],
   "source": [
    "def visualize_4(file_path, lat_range=None, lon_range=None, color=\"viridis\", vmax=0.1):\n",
    "    # Load the netCDF data\n",
    "    data = xr.open_dataset(file_path)\n",
    "    \n",
    "    # If ranges are specified, apply them to select the desired subset\n",
    "    if lat_range:\n",
    "        data = data.sel(latitude=slice(*lat_range))\n",
    "    if lon_range:\n",
    "        data = data.sel(longitude=slice(*lon_range))\n",
    "\n",
    "    # Determine the index data and labels based on instrument used\n",
    "    index_key = 'fai_anomaly' if \"abi\" in file_path else 'nfai_mean'\n",
    "    colorbar_label = 'Floating Algae Index Anomaly (FAI)' if \"abi\" in file_path else 'Normalized Floating Algae Index (NFAI)'\n",
    "    title = 'FAI anomaly across the selected region on ' if \"abi\" in file_path else 'NFAI across the selected region on '\n",
    "    \n",
    "    # Extract relevant data (NFAI or FAI anomaly)\n",
    "    index_data = data[index_key]\n",
    "\n",
    "    # Set non-positive values to a very small negative number, close to zero\n",
    "    index_data = xr.where(index_data > 0, index_data, -0.1)\n",
    "    \n",
    "    # Set up a plot with geographic projections\n",
    "    fig, ax = plt.subplots(figsize=(12, 10), subplot_kw={'projection': ccrs.PlateCarree()})\n",
    "    \n",
    "    # Customize the map with coastlines and features\n",
    "    ax.coastlines(resolution='10m', color='black')\n",
    "    ax.add_feature(cfeature.BORDERS, linestyle=':')\n",
    "    ax.add_feature(cfeature.LAND, facecolor='lightgray')\n",
    "\n",
    "    # Adding grid lines and disabling labels on the top and right\n",
    "    gl = ax.gridlines(draw_labels=True, linewidth=1, color='gray', alpha=0.5, linestyle='--')\n",
    "    gl.top_labels = False\n",
    "    gl.right_labels = False\n",
    "\n",
    "    # Plot the data with the modified contrast\n",
    "    im = index_data.plot(ax=ax, x='longitude', y='latitude', transform=ccrs.PlateCarree(),\n",
    "                         cmap=color, add_colorbar=True, extend='both',\n",
    "                         vmin=-0.01, vmax=vmax,  # Here we set the scale to max out at 0.5\n",
    "                         cbar_kwargs={'shrink': 0.35})\n",
    "\n",
    "    # Add color bar details\n",
    "    im.colorbar.set_label(colorbar_label)\n",
    "    \n",
    "    # Show the plot with title\n",
    "    plt.title(title + str(data.time.values[0]))\n",
    "    plt.show()"
   ]
  },
  {
   "cell_type": "code",
   "execution_count": null,
   "id": "bd77cb3f-7c8b-4dbd-b4db-0decffe8dc6b",
   "metadata": {},
   "outputs": [],
   "source": [
    "if __name__ == '__main__':\n",
    "    path = \"/media/yahia/ballena/CLS/olci-s3-global-lr/cls-olci-s3-global-lr_1d_20220724.nc\" \n",
    "    visualize_4(path,(12,17),(-67,-60))\n",
    "    visualize_4(path,(12,17),(-67,-60),\"binary\",vmax=0.01)\n",
    "    visualize(path,(12,17),(-67,-60))"
   ]
  },
  {
   "cell_type": "markdown",
   "id": "9cc43d75-ccbb-409d-ab11-526931ca8287",
   "metadata": {},
   "source": [
    "Another idea we've implemented here is to decrease the max ***vmax*** for the colorbar so that positive values change color very quickly. This method is very effective to distinguish the algae from the rest of the image, ***the smaller vmax is, the higher the contrast***. A good idea to try and maximize the contrast is to choose the binary cmap and set vmax to a very low value like ***vmax = 0.01*** for example (alternatively, we can simply set apply a map to the data array that makes all positive values very large, but I believe this method is computationally more efficient). "
   ]
  },
  {
   "cell_type": "markdown",
   "id": "e02baf82-2256-449c-a93b-238a928da960",
   "metadata": {},
   "source": [
    "For our purposes, **visualize_4** seems to be the best display function."
   ]
  },
  {
   "cell_type": "markdown",
   "id": "77b41026-7121-4598-ab97-73f404c3cda4",
   "metadata": {},
   "source": [
    "## ABI-GOES"
   ]
  },
  {
   "cell_type": "markdown",
   "id": "dc0f6270-b7fe-478d-9dcb-e1146fa5850d",
   "metadata": {},
   "source": [
    "### Trying these functions on ABI-GOES images"
   ]
  },
  {
   "cell_type": "code",
   "execution_count": null,
   "id": "ff6b3ca9-abab-4324-9abd-a06bccf30084",
   "metadata": {},
   "outputs": [],
   "source": [
    "if __name__ == '__main__':\n",
    "    path = \"/media/yahia/ballena/CLS/abi-goes-global-hr/cls-abi-goes-global-hr_1d_20220724_12-40.nc\" \n",
    "    visualize_4(path,(12,17),(-67,-60),vmax = 0.005)\n",
    "    visualize_3(path,(12,17),(-67,-60))\n",
    "    visualize_2(path,(12,17),(-67,-60))\n",
    "    visualize(path,(12,17),(-67,-60))"
   ]
  },
  {
   "cell_type": "markdown",
   "id": "540671bb-20ac-424b-8dfd-0a295ed00b6e",
   "metadata": {},
   "source": [
    "Applying these display functions on ABI-GOES images doesn't seem to produce the same results as on OLCI, the default visualization function still isn't very useful for detecting the algae, the second one, *visualize_2* shows good contrast in the non-nan values, **we can see in yellow the same patterns that are more clear in the OLCI image**, *visualize_3* and *visualize_4* don't seem very useful for ABI-GOES images, because they leave in a lot of pixels that do not correspond to algae."
   ]
  },
  {
   "cell_type": "markdown",
   "id": "e3203b45-566b-466e-adc4-a3c66936a83d",
   "metadata": {},
   "source": [
    "A good idea now would be to either try and manipulate the function *visualize_2* by changing the percentiles, or write another function that shows only pixels above a certain threshold (**0.32767** ?) on the FAI."
   ]
  },
  {
   "cell_type": "markdown",
   "id": "38b49e02-d310-4a13-901a-a5818fed0f0d",
   "metadata": {},
   "source": [
    "### Visualize_5: Fixing a positive threshold"
   ]
  },
  {
   "cell_type": "code",
   "execution_count": null,
   "id": "ffbb1d3a-ef4f-4ac3-b863-a9485a274f34",
   "metadata": {},
   "outputs": [],
   "source": [
    "def visualize_5(file_path, lat_range=None, lon_range=None, color=\"viridis\", vmax=0.001, threshold=0):\n",
    "    # Load the netCDF data\n",
    "    data = xr.open_dataset(file_path)\n",
    "    \n",
    "    # If ranges are specified, apply them to select the desired subset\n",
    "    if lat_range:\n",
    "        data = data.sel(latitude=slice(*lat_range))\n",
    "    if lon_range:\n",
    "        data = data.sel(longitude=slice(*lon_range))\n",
    "\n",
    "    # Determine the index data and labels based on instrument used\n",
    "    index_key = 'fai_anomaly' if \"abi\" in file_path else 'nfai_mean'\n",
    "    colorbar_label = 'Floating Algae Index Anomaly (FAI)' if \"abi\" in file_path else 'Normalized Floating Algae Index (NFAI)'\n",
    "    title = 'FAI anomaly across the selected region on ' if \"abi\" in file_path else 'NFAI across the selected region on '\n",
    "    \n",
    "    # Extract relevant data (NFAI or FAI anomaly)\n",
    "    index_data = data[index_key]\n",
    "\n",
    "    # Mask the data to only show values above the threshold\n",
    "    index_data = xr.where(index_data > threshold, index_data, np.nan)\n",
    "    \n",
    "    # Set up a plot with geographic projections\n",
    "    fig, ax = plt.subplots(figsize=(12, 10), subplot_kw={'projection': ccrs.PlateCarree()})\n",
    "    \n",
    "    # Customize the map with coastlines and features\n",
    "    ax.coastlines(resolution='10m', color='black')\n",
    "    ax.add_feature(cfeature.BORDERS, linestyle=':')\n",
    "    ax.add_feature(cfeature.LAND, facecolor='lightgray')\n",
    "\n",
    "    # Adding grid lines and disabling labels on the top and right\n",
    "    gl = ax.gridlines(draw_labels=True, linewidth=1, color='gray', alpha=0.5, linestyle='--')\n",
    "    gl.top_labels = False\n",
    "    gl.right_labels = False\n",
    "\n",
    "    # Plot the data with the modified contrast\n",
    "    im = index_data.plot(ax=ax, x='longitude', y='latitude', transform=ccrs.PlateCarree(),\n",
    "                         cmap=color, add_colorbar=True, extend='both',\n",
    "                         vmin=threshold, vmax=vmax,\n",
    "                         cbar_kwargs={'shrink': 0.35})\n",
    "\n",
    "    # Add color bar details\n",
    "    im.colorbar.set_label(colorbar_label)\n",
    "    \n",
    "    # Show the plot with title\n",
    "    plt.title(title + str(data.time.values[0]))\n",
    "    plt.show()"
   ]
  },
  {
   "cell_type": "code",
   "execution_count": null,
   "id": "534d822c-1f39-4b32-b08f-56e91c1236bb",
   "metadata": {},
   "outputs": [],
   "source": [
    "if __name__ == '__main__':\n",
    "    path = \"/media/yahia/ballena/CLS/abi-goes-global-hr/cls-abi-goes-global-hr_1d_20220724_12-40.nc\" \n",
    "    visualize_5(path,(12,17),(-67,-60),vmax = 0.001,color=\"winter\",threshold=0)\n",
    "    visualize_2(path,(12,17),(-67,-60))"
   ]
  },
  {
   "cell_type": "markdown",
   "id": "66149279-18db-483b-b275-8025f85c2f81",
   "metadata": {},
   "source": [
    "- Aside from the positive threshold, this time all values under the threshold are set to nan, so even with the threshold set to 0, it's different.\n",
    "- Setting the threshold to **0.0002** does seem to single out the areas where sargassum are most dense, but it also leaves out areas where sargassum could be present.\n",
    "- The problem is we're comparing to the density of the result of the function visualize_2, which depends directly on the colormap scale.\n",
    "- So maybe the best approach would be to simply choose fix **threshold=0**.\n",
    "- **NOTE: In the past methods, we made all the nan values zero (or negative), this time we made all the negative values nan.**"
   ]
  },
  {
   "cell_type": "markdown",
   "id": "8ebcce79-a8a1-43ed-8ce8-c3b8bebb284f",
   "metadata": {},
   "source": [
    "The best parameters so far for this particular date seem to be **threshold=0**, **vmax=0.01** and **color=\"winter\",\"cool\",\"bwr\"**."
   ]
  },
  {
   "cell_type": "markdown",
   "id": "cdfe9b33-3487-4bf4-9daf-dcaa3ff790ad",
   "metadata": {},
   "source": [
    "## Averaging ABI-GOES images for a given day:\n",
    "We could try to average the images for a given day to try and reproduce the images we see on the CLS datastore.\n",
    "GOES doesn't cover the same region from image to image, so we can't directly calculate the average, we'll have to calculate an average only when there is data (non-nan values). We're going to work on the same day of 24/07/2022."
   ]
  },
  {
   "cell_type": "markdown",
   "id": "0a04aa5d-2c5b-4145-aa30-69d3e76b25a9",
   "metadata": {},
   "source": [
    "### Time List Generator\n",
    "First, we should write a function that generates a lost of the times in the time intervals we need to make the importation of data easier. "
   ]
  },
  {
   "cell_type": "code",
   "execution_count": null,
   "id": "011e1e2e-d831-4acb-9123-f725c8064997",
   "metadata": {},
   "outputs": [],
   "source": [
    "def time_list(start_time, end_time, interval):\n",
    "    \"\"\"\n",
    "    Generate a list of datetime strings in the format 'YYYYMMDD_HH-MM' between start_time and end_time at intervals of 'interval' minutes.\n",
    "    \n",
    "    Parameters:\n",
    "    - start_time (datetime): The start time.\n",
    "    - end_time (datetime): The end time.\n",
    "    - interval (int): The interval in minutes between each time point.\n",
    "\n",
    "    Returns:\n",
    "    - times (list of str): List of formatted datetime strings.\n",
    "    \"\"\"\n",
    "    \n",
    "    # Generate a list of times at the specified interval\n",
    "    times = []\n",
    "    current_time = start_time\n",
    "    while current_time <= end_time:\n",
    "        times.append(current_time.strftime('%Y%m%d_%H-%M'))\n",
    "        current_time += timedelta(minutes=interval)\n",
    "\n",
    "    return times"
   ]
  },
  {
   "cell_type": "markdown",
   "id": "0ce5a4f3-5abd-454e-934b-e41210a60dcd",
   "metadata": {},
   "source": [
    "### Calculating aggregate data\n",
    "We should also write a function to calculate the aggregate (mean) data on the time frame we want using the previous function time_list. \n",
    "Note: **This is only adapted to ABI-GOES for the moment.**"
   ]
  },
  {
   "cell_type": "code",
   "execution_count": null,
   "id": "a55b1f48-697c-4ca3-8d38-fc690e50df8c",
   "metadata": {},
   "outputs": [],
   "source": [
    "def calculate_aggregate_data(time_list, threshold=0):\n",
    "    \"\"\"\n",
    "    Calculate the aggregate data of algae presence over a given time range based on a list of times.\n",
    "\n",
    "    Parameters:\n",
    "    - time_list (list of str): List of formatted datetime strings in the format 'YYYYMMDD_HH-MM'.\n",
    "    - threshold (float): The threshold above which data is considered.\n",
    "\n",
    "    Returns:\n",
    "    - average_algae_distribution (DataArray): The mean algae distribution.\n",
    "    \"\"\"\n",
    "    aggregate_data_list = []\n",
    "\n",
    "    # Loop over each time in the time list, loading the data and adding it to the list\n",
    "    for time_str in time_list:\n",
    "        file_path = f\"/media/yahia/ballena/CLS/abi-goes-global-hr/cls-abi-goes-global-hr_1d_{time_str}.nc\"\n",
    "        data = xr.open_dataset(file_path)\n",
    "\n",
    "        # Extract the index of interest and drop the 'time' coordinate\n",
    "        algae_data = data['fai_anomaly'].squeeze(drop=True)\n",
    "\n",
    "        # Mask the data to include only algae (values greater than the threshold)\n",
    "        algae_masked = algae_data.where(algae_data > threshold)\n",
    "\n",
    "        # Add the masked data to our list\n",
    "        aggregate_data_list.append(algae_masked)\n",
    "\n",
    "    # Combine the data along a new dimension, then calculate the mean along that dimension\n",
    "    aggregate_data = xr.concat(aggregate_data_list, dim='new_dim')\n",
    "    average_algae_distribution = aggregate_data.mean(dim='new_dim')\n",
    "\n",
    "    return average_algae_distribution\n"
   ]
  }
 ],
 "metadata": {
  "kernelspec": {
   "display_name": "Python 3 (ipykernel)",
   "language": "python",
   "name": "python3"
  },
  "language_info": {
   "codemirror_mode": {
    "name": "ipython",
    "version": 3
   },
   "file_extension": ".py",
   "mimetype": "text/x-python",
   "name": "python",
   "nbconvert_exporter": "python",
   "pygments_lexer": "ipython3",
   "version": "3.11.7"
  }
 },
 "nbformat": 4,
 "nbformat_minor": 5
}
