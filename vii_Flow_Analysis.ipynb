{
 "cells": [
  {
   "cell_type": "markdown",
   "id": "f5189c83-cfcc-4559-a82f-b8aca6a30050",
   "metadata": {},
   "source": [
    "# Flow_Analysis\n",
    "This notebook contains the functions to analyze the results of the OF algorithms (DeepFlow for the moment). This includes calculating the velocity of the algae, image segmentation (averaging the vectors to calculate velocity of each raft), surface area calculation, interactive plots, etc."
   ]
  },
  {
   "cell_type": "markdown",
   "id": "1b246285-6202-42ca-8f3c-30054f78ec00",
   "metadata": {},
   "source": [
    "## Importing necessary libraries and notebooks"
   ]
  },
  {
   "cell_type": "code",
   "execution_count": null,
   "id": "95142438-a67f-4113-b701-3c98204289cb",
   "metadata": {},
   "outputs": [],
   "source": [
    "import xarray as xr\n",
    "import io\n",
    "import os\n",
    "import cv2\n",
    "import imageio\n",
    "import plotly.graph_objects as go\n",
    "import mpld3\n",
    "import matplotlib.pyplot as plt\n",
    "import matplotlib.colors as colors\n",
    "import matplotlib.animation as animation\n",
    "import numpy as np\n",
    "import cartopy.crs as ccrs\n",
    "import cartopy.feature as cfeature\n",
    "from datetime import datetime, timedelta\n",
    "from IPython.display import Image, display, HTML\n",
    "from PIL import Image as PILImage\n",
    "from matplotlib.backends.backend_agg import FigureCanvasAgg as FigureCanvas\n",
    "from plotly.subplots import make_subplots\n",
    "from geopy.distance import geodesic\n",
    "from math import radians, sin, cos, sqrt, atan2\n",
    "import matplotlib as mpl\n",
    "\n",
    "# Import the other notebooks without running their cells\n",
    "from ii_Data_Manipulation import visualize_4\n",
    "from iii_GOES_average import time_list, visualize_aggregate, calculate_median\n",
    "from iv_Image_Processing import collect_times, crop_image, save_aggregate, binarize_image, bilateral_image, process_dates, process_directory\n",
    "from v_i_OF_Functions import *"
   ]
  },
  {
   "cell_type": "markdown",
   "id": "241de50f-487f-4326-9990-0c379aa82d2b",
   "metadata": {
    "editable": true,
    "slideshow": {
     "slide_type": ""
    },
    "tags": []
   },
   "source": [
    "## Quantitative Analysis\n",
    "Here we're going to try to visualize the magnitude of the displacement vectors in meters to be able to judge whether the flow our algorithm is physically consistent or not."
   ]
  },
  {
   "cell_type": "markdown",
   "id": "7a7a4bff-08fc-4cc5-8d44-e1be00f76b6e",
   "metadata": {},
   "source": [
    "### ~*calculate_velocity*~"
   ]
  },
  {
   "cell_type": "code",
   "execution_count": null,
   "id": "6485af1c-e432-4a3e-836f-ce86dc09aa70",
   "metadata": {},
   "outputs": [],
   "source": [
    "def calculate_velocity(flow, resolution_km=1, time_seconds=24*3600):\n",
    "    # Calculate the magnitude of the flow vectors\n",
    "    magnitude = np.sqrt(flow[..., 0]**2 + flow[..., 1]**2)\n",
    "    \n",
    "    # Convert from pixels to meters (1 km = 1000 meters)\n",
    "    magnitude_meters = magnitude * resolution_km * 1000\n",
    "    \n",
    "    # Calculate velocity in meters per second\n",
    "    velocity_m_per_s = magnitude_meters / time_seconds\n",
    "    return velocity_m_per_s"
   ]
  },
  {
   "cell_type": "markdown",
   "id": "be5733e1-9f76-42d3-be46-c6f943e5c40d",
   "metadata": {},
   "source": [
    "### *visualize_velocity*"
   ]
  },
  {
   "cell_type": "code",
   "execution_count": null,
   "id": "32c21dfe-7360-4a1c-8f89-46adfbf6aa3f",
   "metadata": {},
   "outputs": [],
   "source": [
    "def visualize_velocity(velocity, prev_img):\n",
    "    plt.figure(figsize=(10, 10))\n",
    "    plt.imshow(prev_img, cmap='gray', alpha=0.5)\n",
    "    plt.imshow(velocity, cmap='jet', alpha=0.5)\n",
    "    plt.colorbar(label='Velocity (m/s)')\n",
    "    plt.title('Flow Velocity Heatmap')\n",
    "    plt.show()"
   ]
  },
  {
   "cell_type": "code",
   "execution_count": null,
   "id": "4f6926be-1314-4719-b4e7-99177e4aa97e",
   "metadata": {},
   "outputs": [],
   "source": [
    "# Zoom\n",
    "if __name__ == '__main__':\n",
    "    prev_img = cv2.imread(\"/media/yahia/ballena/ABI/Spiral/ABI_Averages_Spiral_Binarized_Bilateral/Processed_algae_distribution_20220723.png\")\n",
    "    next_img = cv2.imread(\"/media/yahia/ballena/ABI/Spiral/ABI_Averages_Spiral_Binarized_Bilateral/Processed_algae_distribution_20220724.png\") \n",
    "    flow = deepflow(prev_img, next_img)\n",
    "    plot_flow_vectors(flow, prev_img, step=16, scale=1.25)\n",
    "    \n",
    "    # Calculate the velocity of the flow vectors\n",
    "    velocity_m_per_s = calculate_velocity(flow, resolution_km=1)\n",
    "    print(\"Flow Velocity (m/s):\", velocity_m_per_s)\n",
    "    visualize_velocity(velocity_m_per_s, prev_img)\n",
    "\n",
    "    # Masked Version\n",
    "    prev_img = cv2.imread(\"/media/yahia/ballena/ABI/Spiral/ABI_Averages_Spiral_Binarized_Bilateral/Processed_algae_distribution_20220723.png\")\n",
    "    next_img = cv2.imread(\"/media/yahia/ballena/ABI/Spiral/ABI_Averages_Spiral_Binarized_Bilateral/Processed_algae_distribution_20220724.png\")\n",
    "    prev_img = cv2.cvtColor(prev_img, cv2.COLOR_BGR2GRAY)\n",
    "    flow = deepflow(prev_img, next_img)\n",
    "    mask_flow_vectors(flow, prev_img, prev_img, step=16, scale=1.25)"
   ]
  },
  {
   "cell_type": "markdown",
   "id": "9101fb79-c6bc-4fa5-a208-8eef986615aa",
   "metadata": {},
   "source": [
    "## Image Segmentation\n",
    "Here we'll try to calculate the average of the vectors on each algae aggregate so as to be able to visualize and quantify the movement of the whole aggregate instead of individual pixels."
   ]
  },
  {
   "cell_type": "markdown",
   "id": "dae2ac2e-f85c-4424-9d0f-3bbb257ab1f4",
   "metadata": {},
   "source": [
    "### *segment_aggregations*"
   ]
  },
  {
   "cell_type": "code",
   "execution_count": null,
   "id": "37c607de-038b-4c8a-828b-2bd6130aeed7",
   "metadata": {},
   "outputs": [],
   "source": [
    "def segment_aggregations(mask):\n",
    "    # Ensure mask is binary and of type uint8\n",
    "    mask = (mask * 255).astype(np.uint8)\n",
    "    # Find contours in the mask\n",
    "    contours, _ = cv2.findContours(mask, cv2.RETR_EXTERNAL, cv2.CHAIN_APPROX_NONE)\n",
    "    return contours"
   ]
  },
  {
   "cell_type": "markdown",
   "id": "8707e578-4ba1-4772-b6d7-12b83371af95",
   "metadata": {},
   "source": [
    "### *calculate_average_vectors*"
   ]
  },
  {
   "cell_type": "code",
   "execution_count": null,
   "id": "bf3c200e-593e-4544-80d9-b73436426306",
   "metadata": {},
   "outputs": [],
   "source": [
    "def calculate_average_vectors(flow, contours):\n",
    "    avg_vectors = []\n",
    "    for contour in contours:\n",
    "        mask = np.zeros(flow.shape[:2], dtype=np.uint8)\n",
    "        cv2.drawContours(mask, [contour], -1, 1, thickness=cv2.FILLED)\n",
    "        masked_flow = flow[mask == 1]\n",
    "        if masked_flow.size != 0:  # Ensure there are vectors to average\n",
    "            avg_vector = masked_flow.mean(axis=0)\n",
    "            avg_vectors.append(avg_vector)\n",
    "        else:\n",
    "            avg_vectors.append(None)  # No valid vectors in this contour\n",
    "    return avg_vectors"
   ]
  },
  {
   "cell_type": "markdown",
   "id": "b42c54b9-c8f7-4b20-b637-bfe4f0028a8c",
   "metadata": {},
   "source": [
    "### *haversine*\n",
    "This function was tested and returns correct results (distance in km)"
   ]
  },
  {
   "cell_type": "code",
   "execution_count": null,
   "id": "2a01a815-b3b2-4dfa-83d1-5da3bc36de56",
   "metadata": {},
   "outputs": [],
   "source": [
    "def haversine(lon1, lat1, lon2, lat2):\n",
    "    \"\"\"\n",
    "    Calculate the great-circle distance between two points \n",
    "    on the Earth specified by their longitude and latitude.\n",
    "    \"\"\"\n",
    "    # Convert latitude and longitude from degrees to radians\n",
    "    lon1, lat1, lon2, lat2 = map(np.radians, [lon1, lat1, lon2, lat2])\n",
    "\n",
    "    # Haversine formula\n",
    "    dlon = lon2 - lon1\n",
    "    dlat = lat2 - lat1\n",
    "    a = np.sin(dlat / 2.0)**2 + np.cos(lat1) * np.cos(lat2) * np.sin(dlon / 2.0)**2\n",
    "    c = 2 * np.arcsin(np.sqrt(a))\n",
    "    r = 6371  # Radius of Earth in kilometers\n",
    "    return c * r"
   ]
  },
  {
   "cell_type": "markdown",
   "id": "0ad22604-7191-4d15-87db-1ec598392486",
   "metadata": {},
   "source": [
    "### *calculate_area_haversine*\n",
    "Since the distances are not uniform in the image we can't directly use **cv2.contourArea** to calculate the area as this function calculates it in terms of pixels."
   ]
  },
  {
   "cell_type": "code",
   "execution_count": null,
   "id": "8f276097-8c49-40ba-8c2b-7d887777ac8f",
   "metadata": {},
   "outputs": [],
   "source": [
    "def calculate_area_haversine(contour, lons, lats):\n",
    "    \"\"\"\n",
    "    Calculate the area of the contour using the Haversine formula.\n",
    "    \"\"\"\n",
    "    contour = contour.reshape(-1, 2)\n",
    "    points = [(lats[y, x], lons[y, x]) for x, y in contour]\n",
    "    centroid = np.mean(points, axis=0)\n",
    "\n",
    "    area_km2 = 0.0\n",
    "    for i in range(len(points)):\n",
    "        p1 = points[i]\n",
    "        p2 = points[(i + 1) % len(points)]\n",
    "        a = haversine(p1[0], p1[1], centroid[0], centroid[1])\n",
    "        b = haversine(p2[0], p2[1], centroid[0], centroid[1])\n",
    "        c = haversine(p1[0], p1[1], p2[0], p2[1])\n",
    "        s = (a + b + c) / 2\n",
    "        area_km2 += sqrt(s * (s - a) * (s - b) * (s - c))\n",
    "\n",
    "    return area_km2"
   ]
  },
  {
   "cell_type": "markdown",
   "id": "12e8d6b1-9282-412b-8133-92e3380945fb",
   "metadata": {},
   "source": [
    "### *generate_lat_lon_arrays*"
   ]
  },
  {
   "cell_type": "code",
   "execution_count": null,
   "id": "b1471a1d-27e8-4b3b-8c87-5fb57d701a88",
   "metadata": {},
   "outputs": [],
   "source": [
    "def generate_lat_lon_arrays(lat_range, lon_range, image_shape):\n",
    "    \"\"\"\n",
    "    Generate latitude and longitude arrays for the given image shape and coordinate ranges.\n",
    "    \"\"\"\n",
    "    latitudes = np.linspace(lat_range[0], lat_range[1], image_shape[0])\n",
    "    longitudes = np.linspace(lon_range[0], lon_range[1], image_shape[1])\n",
    "    lats, lons = np.meshgrid(latitudes, longitudes, indexing='ij')\n",
    "    return lats, lons"
   ]
  },
  {
   "cell_type": "markdown",
   "id": "244d1368-0a19-4e6d-a9d8-1c1a02d78d61",
   "metadata": {},
   "source": [
    "### *calculate_velocity_and_angles*\n",
    "A generalization of the calculate_velocity function defined above."
   ]
  },
  {
   "cell_type": "code",
   "execution_count": null,
   "id": "fd6c3691-9029-4bc4-a624-175f26e23cb4",
   "metadata": {},
   "outputs": [],
   "source": [
    "def calculate_velocity_and_angle(vector, lon1, lat1, lon2, lat2, time_seconds=24*3600):\n",
    "    \"\"\"\n",
    "    Calculate the velocity magnitude and angle between two points defined by longitude and latitude.\n",
    "    \"\"\"\n",
    "    distance_km = haversine(lon1, lat1, lon2, lat2)\n",
    "    magnitude_meters = distance_km * 1000\n",
    "    velocity_m_per_s = magnitude_meters / time_seconds\n",
    "    \n",
    "    # Calculate the angle of the vector (in degrees)\n",
    "    angle_degrees = np.degrees(np.arctan2(vector[1], vector[0]))\n",
    "    \n",
    "    return velocity_m_per_s, angle_degrees"
   ]
  },
  {
   "cell_type": "markdown",
   "id": "47be0150-820f-4d10-93df-80b4241ef02f",
   "metadata": {},
   "source": [
    "### *calculate_angular_velocity*\n",
    "Since we're not considering individual pixels in this section, we need the angular velocity along with the regular velocity to be able to describe the movement of the contour.\n",
    "\n",
    "**Right now, this function returns absurd results**."
   ]
  },
  {
   "cell_type": "code",
   "execution_count": null,
   "id": "c576dc03-0f38-40fe-be20-3d9d9f381502",
   "metadata": {},
   "outputs": [],
   "source": [
    "def calculate_angular_velocity(flow, contour, centroid, resolution_km=1, time_seconds=24*3600, units='degrees'):\n",
    "    mask = np.zeros(flow.shape[:2], dtype=np.uint8)\n",
    "    cv2.drawContours(mask, [contour], -1, 1, thickness=cv2.FILLED)\n",
    "    y, x = np.where(mask == 1)\n",
    "    \n",
    "    angular_velocity = 0\n",
    "    for (i, j) in zip(x, y):\n",
    "        vector = flow[j, i]\n",
    "        r_vector = np.array([i - centroid[0], j - centroid[1]])\n",
    "        cross_product = np.cross(r_vector, vector)\n",
    "        angular_velocity += cross_product\n",
    "\n",
    "    # Normalize by the number of points and convert to radians per second\n",
    "    if len(x) > 0:\n",
    "        angular_velocity /= len(x)\n",
    "        angular_velocity_meters = angular_velocity * resolution_km * 1000\n",
    "        angular_velocity_radians_per_s = angular_velocity_meters / time_seconds\n",
    "    else:\n",
    "        angular_velocity_radians_per_s = 0\n",
    "    \n",
    "    if units == 'degrees':\n",
    "        angular_velocity_units_per_s = np.degrees(angular_velocity_radians_per_s)\n",
    "    else:\n",
    "        angular_velocity_units_per_s = angular_velocity_radians_per_s\n",
    "    \n",
    "    return angular_velocity_units_per_s"
   ]
  },
  {
   "cell_type": "markdown",
   "id": "f52f873e-e0a3-439b-8707-700bc9f0d002",
   "metadata": {},
   "source": [
    "### *plot_aggregations_with_vectors*"
   ]
  },
  {
   "cell_type": "code",
   "execution_count": null,
   "id": "1f9f80f9-6a38-4e24-a6b1-f526b472b164",
   "metadata": {},
   "outputs": [],
   "source": [
    "def plot_aggregations_with_vectors(img, contours, avg_vectors):\n",
    "    colors = ['blue', 'green', 'red', 'cyan', 'magenta', 'yellow']\n",
    "    \n",
    "    fig, ax = plt.subplots(figsize=(10, 10))\n",
    "    ax.imshow(cv2.cvtColor(img, cv2.COLOR_BGR2RGB))  # Convert BGR to RGB for proper color display\n",
    "    \n",
    "    for idx, (contour, vector) in enumerate(zip(contours, avg_vectors)):\n",
    "        M = cv2.moments(contour)\n",
    "        color = colors[idx % len(colors)]\n",
    "        if M['m00'] != 0 and vector is not None:\n",
    "            cx = int(M['m10'] / M['m00'])\n",
    "            cy = int(M['m01'] / M['m00'])\n",
    "            ax.quiver(cx, cy, vector[0], vector[1], color=color, scale=1.5, angles='xy', scale_units='xy')\n",
    "            ax.text(cx, cy, str(idx), color=color, fontsize=12, verticalalignment='bottom')  # Label the vector\n",
    "            # Draw the contour\n",
    "            contour = contour.reshape(-1, 2)\n",
    "            ax.plot(contour[:, 0], contour[:, 1], color=color, linewidth=2)\n",
    "            # Label the contour\n",
    "            centroid_x, centroid_y = np.mean(contour, axis=0).astype(int)\n",
    "            ax.text(centroid_x, centroid_y, str(idx), color=color, fontsize=12, verticalalignment='top')  # Label the contour\n",
    "        else:\n",
    "            print(f\"Contour {idx} with no area or no valid vectors found.\")\n",
    "    \n",
    "    plt.show()"
   ]
  },
  {
   "cell_type": "code",
   "execution_count": null,
   "id": "a359ade8-6426-4243-8789-7028ed9930d4",
   "metadata": {},
   "outputs": [],
   "source": [
    "if __name__ == \"__main__\":\n",
    "    # Load images\n",
    "    prev_img = cv2.imread(\"/media/yahia/ballena/ABI/Spiral/ABI_Averages_Spiral_Binarized_Bilateral/Processed_algae_distribution_20220723.png\")\n",
    "    next_img = cv2.imread(\"/media/yahia/ballena/ABI/Spiral/ABI_Averages_Spiral_Binarized_Bilateral/Processed_algae_distribution_20220724.png\")\n",
    "    \n",
    "    # Calculate flow\n",
    "    flow = deepflow(prev_img, next_img)\n",
    "    \n",
    "    # Create a mask for the algae aggregation (example mask creation)\n",
    "    mask = (prev_img[:,:,0] > 200) & (prev_img[:,:,1] > 200) & (prev_img[:,:,2] > 200)\n",
    "    \n",
    "    # Segment the algae aggregations\n",
    "    contours = segment_aggregations(mask)\n",
    "\n",
    "    # Calculate average vectors for each aggregation\n",
    "    avg_vectors = calculate_average_vectors(flow, contours)\n",
    "    \n",
    "    # Plot the aggregations with their average vectors\n",
    "    plot_aggregations_with_vectors(prev_img, contours, avg_vectors)"
   ]
  },
  {
   "cell_type": "markdown",
   "id": "2499fabf-2cc5-4050-aa8d-f7b9cf77ade7",
   "metadata": {},
   "source": [
    "## Interactive Plot\n",
    "The idea here is to be able to hover with the mouse over a contour and see the corresponding velocity."
   ]
  },
  {
   "cell_type": "markdown",
   "id": "f9e0bef3-7717-4df0-b598-e62503f37502",
   "metadata": {},
   "source": [
    "### *plot_interactive_contours_with_vectors*"
   ]
  },
  {
   "cell_type": "code",
   "execution_count": null,
   "id": "e53a8f29-960d-4721-ae0f-bb5622e50831",
   "metadata": {},
   "outputs": [],
   "source": [
    "def plot_interactive_contours_with_vectors(img, contours, avg_vectors, flow, lons, lats, grid_step=10):\n",
    "    colors = ['red', 'blue', 'green', 'cyan', 'magenta', 'yellow']\n",
    "    rgb_img = cv2.cvtColor(img, cv2.COLOR_BGR2RGB)\n",
    "    fig = make_subplots(rows=1, cols=1)\n",
    "    fig.add_trace(go.Image(z=rgb_img), row=1, col=1)\n",
    "\n",
    "    height, width = img.shape[:2]\n",
    "\n",
    "    # Reverse the latitude array to ensure correct orientation\n",
    "    lats = np.flipud(lats)\n",
    "\n",
    "    # Create a scatter plot for the image with hover information at a lower resolution\n",
    "    hover_data = []\n",
    "    for y in range(0, height, grid_step):\n",
    "        for x in range(0, width, grid_step):\n",
    "            hover_data.append((x, y, lats[y, x], lons[y, x]))\n",
    "\n",
    "    hover_x, hover_y, hover_lat, hover_lon = zip(*hover_data)\n",
    "\n",
    "    fig.add_trace(go.Scatter(\n",
    "        x=hover_x,\n",
    "        y=hover_y,\n",
    "        mode='markers',\n",
    "        marker=dict(size=1, opacity=0),\n",
    "        hoverinfo='text',\n",
    "        text=[f\"Lat: {lat:.6f}, Lon: {lon:.6f}\" for lat, lon in zip(hover_lat, hover_lon)],\n",
    "        showlegend=False\n",
    "    ))\n",
    "\n",
    "    for idx, (contour, vector) in enumerate(zip(contours, avg_vectors)):\n",
    "        if vector is not None:\n",
    "            M = cv2.moments(contour)\n",
    "            cx = int(M['m10'] / M['m00'])\n",
    "            cy = int(M['m01'] / M['m00'])\n",
    "            lon1, lat1 = lons[cy, cx], lats[cy, cx]\n",
    "            lon2, lat2 = lons[cy + int(vector[1]), cx + int(vector[0])], lats[cy + int(vector[1]), cx + int(vector[0])]\n",
    "            velocity_m_per_s, angle_degrees = calculate_velocity_and_angle(vector, lon1, lat1, lon2, lat2)\n",
    "            contour = contour.reshape(-1, 2)\n",
    "            x_coords = contour[:, 0]\n",
    "            y_coords = contour[:, 1]\n",
    "            color = colors[idx % len(colors)]\n",
    "            \n",
    "            # Calculate the area using Haversine formula\n",
    "            area_km2 = calculate_area_haversine(contour, lons, lats)\n",
    "            \n",
    "            hovertext = (f\"Contour {idx}<br>\"\n",
    "                         f\"Velocity: {velocity_m_per_s:.2f} m/s<br>\"\n",
    "                         f\"Angle: {angle_degrees:.2f} degrees<br>\"\n",
    "                         f\"Lat: {lat1:.6f}, Lon: {lon1:.6f}<br>\"\n",
    "                         f\"Surface area: {area_km2:.6f} km²\")\n",
    "            fig.add_trace(go.Scatter(\n",
    "                x=x_coords, y=y_coords, mode='lines+markers',\n",
    "                line=dict(color=color), marker=dict(size=2), name=f'Contour {idx}',\n",
    "                hovertext=hovertext, showlegend=False\n",
    "            ))\n",
    "            fig.add_trace(go.Scatter(\n",
    "                x=[cx, cx + vector[0]], y=[cy, cy + vector[1]], \n",
    "                mode='lines+markers', line=dict(color=color), \n",
    "                marker=dict(size=2), name=f'Vector {idx}', \n",
    "                hovertext=hovertext, showlegend=False\n",
    "            ))\n",
    "            fig.add_annotation(\n",
    "                x=cx + vector[0], y=cy + vector[1], ax=cx, ay=cy,\n",
    "                xref=\"x\", yref=\"y\", axref=\"x\", ayref=\"y\",\n",
    "                showarrow=True, arrowhead=3, arrowsize=2, arrowwidth=1, arrowcolor=color\n",
    "            )\n",
    "\n",
    "    fig.update_layout(title='Algae Aggregations with Average Vectors', showlegend=False, \n",
    "                      xaxis=dict(visible=False), yaxis=dict(visible=False), \n",
    "                      width=1000, height=800)\n",
    "    fig.show()"
   ]
  },
  {
   "cell_type": "code",
   "execution_count": null,
   "id": "999e17d6-89fa-4570-83ee-d0579051371f",
   "metadata": {},
   "outputs": [],
   "source": [
    "if __name__ == \"__main__\":\n",
    "    # Load images\n",
    "    prev_img = cv2.imread(\"/media/yahia/ballena/ABI/Spiral/ABI_Averages_Spiral_Binarized_Bilateral/Processed_algae_distribution_20220723.png\")\n",
    "    next_img = cv2.imread(\"/media/yahia/ballena/ABI/Spiral/ABI_Averages_Spiral_Binarized_Bilateral/Processed_algae_distribution_20220724.png\")\n",
    "    \n",
    "    # Calculate flow\n",
    "    flow = deepflow(prev_img, next_img)\n",
    "    \n",
    "    # Create a mask for the algae aggregation (example mask creation)\n",
    "    mask = (prev_img[:,:,0] > 200) & (prev_img[:,:,1] > 200) & (prev_img[:,:,2] > 200)\n",
    "    \n",
    "    # Segment the algae aggregations\n",
    "    contours = segment_aggregations(mask)\n",
    "    \n",
    "    # Calculate average vectors for each aggregation\n",
    "    avg_vectors = calculate_average_vectors(flow, contours)\n",
    "    \n",
    "    # Define latitude and longitude ranges\n",
    "    lat_range = (14, 15)\n",
    "    lon_range = (-66, -65)\n",
    "    \n",
    "    # Get the shape of the image\n",
    "    image_shape = prev_img.shape[:2]\n",
    "    \n",
    "    # Generate latitude and longitude arrays\n",
    "    lats, lons = generate_lat_lon_arrays(lat_range, lon_range, image_shape)\n",
    "    \n",
    "    # Plot the aggregations with their average vectors\n",
    "    plot_interactive_contours_with_vectors(prev_img, contours, avg_vectors, flow, lons, lats)"
   ]
  },
  {
   "cell_type": "code",
   "execution_count": null,
   "id": "ccb3e396-03a8-41f4-ba91-6551930f458d",
   "metadata": {},
   "outputs": [],
   "source": []
  },
  {
   "cell_type": "code",
   "execution_count": null,
   "id": "981b0a51-9d31-4be4-8d10-2ea78a53442c",
   "metadata": {},
   "outputs": [],
   "source": [
    "import xarray as xr\n",
    "import io\n",
    "import os\n",
    "import cv2\n",
    "import imageio\n",
    "import plotly.graph_objects as go\n",
    "import mpld3\n",
    "import matplotlib.pyplot as plt\n",
    "import matplotlib.colors as colors\n",
    "import matplotlib.animation as animation\n",
    "import numpy as np\n",
    "import cartopy.crs as ccrs\n",
    "import cartopy.feature as cfeature\n",
    "from datetime import datetime, timedelta\n",
    "from IPython.display import Image, display, HTML\n",
    "from PIL import Image as PILImage\n",
    "from matplotlib.backends.backend_agg import FigureCanvasAgg as FigureCanvas\n",
    "from plotly.subplots import make_subplots\n",
    "from geopy.distance import geodesic\n",
    "from math import radians, sin, cos, sqrt, atan2\n",
    "import matplotlib as mpl\n",
    "# Increase the embed limit for animations\n",
    "mpl.rcParams['animation.embed_limit'] = 50  # Increase the limit to 50 MB\n",
    "\n",
    "# Import the other notebooks without running their cells\n",
    "from ii_Data_Manipulation import visualize_4\n",
    "from iii_GOES_average import time_list, visualize_aggregate, calculate_median\n",
    "from iv_Image_Processing import collect_times, crop_image, save_aggregate, binarize_image, bilateral_image, process_dates, process_directory"
   ]
  }
 ],
 "metadata": {
  "kernelspec": {
   "display_name": "Python 3 (ipykernel)",
   "language": "python",
   "name": "python3"
  },
  "language_info": {
   "codemirror_mode": {
    "name": "ipython",
    "version": 3
   },
   "file_extension": ".py",
   "mimetype": "text/x-python",
   "name": "python",
   "nbconvert_exporter": "python",
   "pygments_lexer": "ipython3",
   "version": "3.11.7"
  }
 },
 "nbformat": 4,
 "nbformat_minor": 5
}
