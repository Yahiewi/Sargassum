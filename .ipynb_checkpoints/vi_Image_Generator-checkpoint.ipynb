{
 "cells": [
  {
   "cell_type": "markdown",
   "id": "1a7142ac-4d67-4697-a8e1-d23a81908f82",
   "metadata": {},
   "source": [
    "# Image Generator\n",
    "This notebook was created to ease the image generation process, i.e turning the netCDF data into something the OF algorithms can take as input and saving it to the hard drive.\n",
    "\n",
    "**N.B: The functions used here do not create the directories, they have to be created manually. (NO LONGER)**"
   ]
  },
  {
   "cell_type": "markdown",
   "id": "76ae2488-f567-468e-a3ab-5a5e5dd482c6",
   "metadata": {},
   "source": [
    "## Importing necessary libraries and notebooks"
   ]
  },
  {
   "cell_type": "code",
   "execution_count": 1,
   "id": "910e1a4c-8b03-43d8-806f-ab125a525295",
   "metadata": {},
   "outputs": [],
   "source": [
    "import xarray as xr\n",
    "import os\n",
    "import cv2\n",
    "import matplotlib.pyplot as plt\n",
    "import matplotlib.colors as colors\n",
    "import numpy as np\n",
    "import cartopy.crs as ccrs\n",
    "import cartopy.feature as cfeature\n",
    "import time\n",
    "from datetime import datetime, timedelta\n",
    "from matplotlib import ticker\n",
    "from IPython.display import Image, display, HTML\n",
    "from concurrent.futures import ProcessPoolExecutor\n",
    "\n",
    "# Import the other notebooks without running their cells\n",
    "from ii_Data_Manipulation import visualize_4\n",
    "from iii_GOES_average import time_list, visualize_aggregate, calculate_median\n",
    "from iv_Image_Processing import collect_times, save_aggregate, crop_image, process_dates, binarize_image, bilateral_image, process_directory, save_image, process_dates_2"
   ]
  },
  {
   "cell_type": "markdown",
   "id": "ad3a1833-cefa-4c01-9374-8568fddfc059",
   "metadata": {},
   "source": [
    "## Antilles"
   ]
  },
  {
   "cell_type": "markdown",
   "id": "6157c68d-c816-41f8-a28a-c45c9dfdd534",
   "metadata": {},
   "source": [
    "### ABI_Averages_Antilles\n",
    "We're going to average and process all the ABI-GOES images and save them to the directory ABI_Averages on the hard drive \"ballena\". Running this block might take a while. To optimize we could try and parallelize this process using the GPU."
   ]
  },
  {
   "cell_type": "code",
   "execution_count": null,
   "id": "d5cc640b-4437-4496-b3ce-62320a1d0696",
   "metadata": {},
   "outputs": [],
   "source": [
    "# if __name__ == '__main__':\n",
    "#     start_date = '20221121'\n",
    "#     end_date = '20221231'\n",
    "#     directory = '/media/yahia/ballena/CLS/abi-goes-global-hr' \n",
    "#     output_directory = '/media/yahia/ballena/ABI_Averages_Antilles' \n",
    "#     latitude_range = (12, 17)  \n",
    "#     longitude_range = (-67, -60) \n",
    "    \n",
    "#     # Calculate the 1-day averages and save them\n",
    "#     process_dates(start_date, end_date, directory, output_directory, latitude_range, longitude_range, color=\"viridis\")\n",
    "    \n",
    "#     # Paths\n",
    "#     source_directory = '/media/yahia/ballena/ABI_Averages_Antilles' \n",
    "#     destination_directory = '/media/yahia/ballena/ABI_Averages_Antilles_Processed' \n",
    "    \n",
    "#     # Process the directory (filter, binarize and crop the images)\n",
    "#     process_directory(source_directory, destination_directory, threshold=180, bilateral=False, binarize=False)"
   ]
  },
  {
   "cell_type": "code",
   "execution_count": null,
   "id": "6e4dd0e9-771f-48f7-9d3c-bd54f39b7a7d",
   "metadata": {},
   "outputs": [],
   "source": [
    "# # Binarized and bilateral images\n",
    "# if __name__ == '__main__':\n",
    "#     # Paths\n",
    "#     source_directory = '/media/yahia/ballena/ABI/ABI_Averages_Antilles' \n",
    "#     destination_directory = '/media/yahia/ballena/ABI/ABI_Averages_Antilles_Binarized_Bilateral' \n",
    "    \n",
    "#     # Process the directory (filter, binarize and crop the images)\n",
    "#     process_directory(source_directory, destination_directory, threshold=100, bilateral=True, binarize=True)"
   ]
  },
  {
   "cell_type": "code",
   "execution_count": null,
   "id": "95ca3178-8ac2-496e-b159-129980d42b0e",
   "metadata": {},
   "outputs": [],
   "source": [
    "# # Binarized and bilateral images (negative)\n",
    "# if __name__ == '__main__':\n",
    "#     # Paths\n",
    "#     source_directory = '/media/yahia/ballena/ABI/ABI_Averages_Antilles' \n",
    "#     destination_directory = '/media/yahia/ballena/ABI/ABI_Averages_Antilles_Binarized_Bilateral_Negative' \n",
    "    \n",
    "#     # Process the directory (filter, binarize and crop the images)\n",
    "#     process_directory(source_directory, destination_directory, threshold=100, bilateral=True, binarize=True, negative=True)"
   ]
  },
  {
   "cell_type": "markdown",
   "id": "7025b89d-1259-4772-86bf-003c96943f81",
   "metadata": {},
   "source": [
    "### MODIS_Images\n",
    "The function **process_dates** we previously defined is only adapted to ABI-GOES images, we will need to write a function that does the same for MODIS and OLCI images. We will also need to do the same for **save_aggregate**."
   ]
  },
  {
   "cell_type": "markdown",
   "id": "de50e851-05e9-4a16-b13f-ec269ffbe320",
   "metadata": {},
   "source": [
    "Generating the MODIS images:"
   ]
  },
  {
   "cell_type": "code",
   "execution_count": null,
   "id": "5df5195a-685d-4368-961a-0c3712c6cd29",
   "metadata": {},
   "outputs": [],
   "source": [
    "# if __name__ == '__main__':\n",
    "#     start_date = '20201207'\n",
    "#     end_date = '20221231'\n",
    "#     directory = '/media/yahia/ballena/CLS/modis-aqua-global-lr' \n",
    "#     output_directory = '/media/yahia/ballena/MODIS_Antilles' \n",
    "#     latitude_range = (12, 17)  \n",
    "#     longitude_range = (-67, -60) \n",
    "    \n",
    "#     # Calculate the 1-day averages and save them\n",
    "#     process_dates2(start_date, end_date, directory, output_directory, latitude_range, longitude_range, color=\"viridis\")\n",
    "    \n",
    "#     # Paths\n",
    "#     source_directory = '/media/yahia/ballena/MODIS_Antilles' \n",
    "#     destination_directory = '/media/yahia/ballena/MODIS_Antilles_Processed' \n",
    "    \n",
    "#     # Process the directory (filter, binarize and crop the images)\n",
    "#     process_directory(source_directory, destination_directory, threshold=180, bilateral=False, binarize=False)"
   ]
  },
  {
   "cell_type": "markdown",
   "id": "2fa738af-1bc1-4d1f-a484-173c5e1bb8c5",
   "metadata": {},
   "source": [
    "### OLCI_Images"
   ]
  },
  {
   "cell_type": "markdown",
   "id": "314a6e4d-41a7-4d15-b052-a86da7f8485d",
   "metadata": {},
   "source": [
    "Generating the OLCI images:"
   ]
  },
  {
   "cell_type": "code",
   "execution_count": null,
   "id": "b54451ff-9a0c-4c2a-9b8a-02093d01385a",
   "metadata": {},
   "outputs": [],
   "source": [
    "# if __name__ == '__main__':\n",
    "#     start_date = '20201207'\n",
    "#     end_date = '20240122'\n",
    "#     directory = '/media/yahia/ballena/CLS/olci-s3-global-lr' \n",
    "#     output_directory = '/media/yahia/ballena/OLCI_Antilles' \n",
    "#     latitude_range = (12, 17)  \n",
    "#     longitude_range = (-67, -60) \n",
    "    \n",
    "#     # Calculate the 1-day averages and save them\n",
    "#     process_dates2(start_date, end_date, directory, output_directory, latitude_range, longitude_range, color=\"viridis\")\n",
    "    \n",
    "#     # Paths\n",
    "#     source_directory = '/media/yahia/ballena/OLCI_Antilles' \n",
    "#     destination_directory = '/media/yahia/ballena/OLCI_Antilles_Processed' \n",
    "    \n",
    "#     # Process the directory (filter, binarize and crop the images)\n",
    "#     process_directory(source_directory, destination_directory, threshold=180, bilateral=False, binarize=False)"
   ]
  },
  {
   "cell_type": "markdown",
   "id": "07aa07bc-8ad4-46ef-a2ef-2fac784f3898",
   "metadata": {},
   "source": [
    "## Range: (14, 15) (-66, -65)"
   ]
  },
  {
   "cell_type": "markdown",
   "id": "eef29d36-f402-4e71-bd80-e8c0013e7b51",
   "metadata": {},
   "source": [
    "### ABI_Averages"
   ]
  },
  {
   "cell_type": "code",
   "execution_count": null,
   "id": "4ed830d6-82d5-4ba8-94ca-cc3c28fb4c9f",
   "metadata": {},
   "outputs": [],
   "source": [
    "# if __name__ == '__main__':\n",
    "#     start_date = '20220701'\n",
    "#     end_date = '20220730'\n",
    "#     directory = '/media/yahia/ballena/CLS/abi-goes-global-hr' \n",
    "#     output_directory = '/media/yahia/ballena/ABI/Spiral/ABI_Averages_Spiral' \n",
    "#     latitude_range = (14, 15)  \n",
    "#     longitude_range = (-66, -65) \n",
    "    \n",
    "#     # Calculate the 1-day averages and save them\n",
    "#     process_dates(start_date, end_date, directory, output_directory, latitude_range, longitude_range, color=\"viridis\")"
   ]
  },
  {
   "cell_type": "code",
   "execution_count": null,
   "id": "f04d3c99-ec7b-49a8-800a-41a901edf132",
   "metadata": {},
   "outputs": [],
   "source": [
    "# # Cropped and Bilateral\n",
    "# if __name__ == '__main__':\n",
    "#     # Paths\n",
    "#     source_directory = '/media/yahia/ballena/ABI/Spiral/ABI_Averages_Spiral'\n",
    "#     destination_directory = '/media/yahia/ballena/ABI/Spiral/ABI_Averages_Spiral_Processed'\n",
    "    \n",
    "#     # Process the directory (filter, binarize and crop the images)\n",
    "#     process_directory(source_directory, destination_directory, threshold=180, bilateral=True, binarize=False)"
   ]
  },
  {
   "cell_type": "code",
   "execution_count": null,
   "id": "b2c9bfa7-f535-4dd6-8d60-54627e0b2e09",
   "metadata": {},
   "outputs": [],
   "source": [
    "# # Binarized and bilateral images\n",
    "# if __name__ == '__main__':\n",
    "#     # Paths\n",
    "#     source_directory = '/media/yahia/ballena/ABI/Spiral/ABI_Averages_Spiral'\n",
    "#     destination_directory = '/media/yahia/ballena/ABI/Spiral/ABI_Averages_Spiral_Binarized_Bilateral'\n",
    "    \n",
    "#     # Process the directory (filter, binarize and crop the images)\n",
    "#     process_directory(source_directory, destination_directory, threshold=90, bilateral=True, binarize=True)"
   ]
  },
  {
   "cell_type": "markdown",
   "id": "4ac78325-536b-462e-8866-e2a594e47079",
   "metadata": {},
   "source": [
    "## Atlantic"
   ]
  },
  {
   "cell_type": "code",
   "execution_count": null,
   "id": "f2a18eef-7bcd-41b4-9fa3-46e9063a6050",
   "metadata": {},
   "outputs": [],
   "source": [
    "# if __name__ == '__main__':\n",
    "#     start_date = '20220528'\n",
    "#     end_date = '20221231'\n",
    "#     directory = '/media/yahia/ballena/CLS/abi-goes-global-hr' \n",
    "#     output_directory = '/media/yahia/ballena/ABI/Atlantic/Averages' \n",
    "    \n",
    "#     # Calculate the 1-day averages and save them\n",
    "#     process_dates(start_date, end_date, directory, output_directory, color=\"viridis\")\n",
    "    \n",
    "#     # Paths\n",
    "#     source_directory = '/media/yahia/ballena/ABI/Atlantic/Averages' \n",
    "#     destination_directory = '/media/yahia/ballena/ABI/Atlantic/Averages_Cropped' \n",
    "    \n",
    "#     # Process the directory (crop the images)\n",
    "#     process_directory(source_directory, destination_directory, threshold=180, bilateral=False, binarize=False)"
   ]
  },
  {
   "cell_type": "code",
   "execution_count": 2,
   "id": "d52ef9eb-3f6e-4c5b-abb4-923986695e32",
   "metadata": {},
   "outputs": [],
   "source": [
    "# # Binarized and bilateral images\n",
    "# if __name__ == '__main__':\n",
    "#     # Paths\n",
    "#     source_directory = '/media/yahia/ballena/ABI/Atlantic/Averages' \n",
    "#     destination_directory = '/media/yahia/ballena/ABI/Atlantic/Averages_Binarized_Bilateral' \n",
    "    \n",
    "#     # Process the directory (filter, binarize and crop the images)\n",
    "#     process_directory(source_directory, destination_directory, threshold=100, bilateral=True, binarize=True)"
   ]
  },
  {
   "cell_type": "markdown",
   "id": "8b54d28a-d75b-477a-aaf3-ba9a454f0f1f",
   "metadata": {},
   "source": [
    "### Partitioning the Atlantic\n",
    "We're going to divide the Atlantic into $n²$ regions (latitudes: 12°N-40°N, longitudes: 12°W-100°W), then process each region (average the ABI-GOES images, then apply filters) so we can later apply an OF algorithm on them and finally combine the result."
   ]
  },
  {
   "cell_type": "markdown",
   "id": "28443211-eb57-4d43-b758-ec8603ede49d",
   "metadata": {},
   "source": [
    "#### Sequential"
   ]
  },
  {
   "cell_type": "code",
   "execution_count": 8,
   "id": "10f4fb4c-94e5-4e9c-bf4f-f751db63de15",
   "metadata": {},
   "outputs": [
    {
     "name": "stdout",
     "output_type": "stream",
     "text": [
      "Total execution time: 108.82 seconds\n"
     ]
    }
   ],
   "source": [
    "# if __name__ == '__main__':\n",
    "#     lat_splits = [12, 15.5, 19, 22.5, 26, 29.5, 33, 36.5, 40] \n",
    "#     lon_splits = [-12, -23, -34, -45, -56, -67, -78, -89, -100] \n",
    "#     start_date = '20220723'\n",
    "#     end_date = '20220724'\n",
    "\n",
    "#     start_time = time.time()\n",
    "\n",
    "#     for i in range(len(lat_splits)-1):\n",
    "#         for j in range(len(lon_splits)-1):\n",
    "#             # Calculate the 1-day averages and save them\n",
    "#             directory = '/media/yahia/ballena/CLS/abi-goes-global-hr' \n",
    "#             output_directory = f'/media/yahia/ballena/ABI/Partition/Averages/[{lat_splits[i]},{lat_splits[i+1]}],[{lon_splits[j]},{lon_splits[j+1]}]' \n",
    "#             process_dates(start_date, end_date, directory, output_directory, (lat_splits[i],lat_splits[i+1]), (lon_splits[j+1],lon_splits[j]), color=\"viridis\")\n",
    "\n",
    "#     end_time = time.time()\n",
    "#     # Calculate and print the elapsed time\n",
    "#     elapsed_time = end_time - start_time\n",
    "#     print(f\"Total execution time: {elapsed_time:.2f} seconds\")"
   ]
  },
  {
   "cell_type": "markdown",
   "id": "04af562b-0515-43bd-9bb8-0d801f1c165c",
   "metadata": {},
   "source": [
    "Total execution time: 108.82 seconds"
   ]
  },
  {
   "cell_type": "markdown",
   "id": "c5a73a92-a373-4529-ad45-970b60abc461",
   "metadata": {},
   "source": [
    "#### Concurrent\n",
    "We should be able to do this faster by using a concurrent program"
   ]
  },
  {
   "cell_type": "code",
   "execution_count": 2,
   "id": "ea64ff8b-bee3-460c-a270-f3b1d5424db3",
   "metadata": {},
   "outputs": [],
   "source": [
    "def process_partition(lat_range, lon_range, start_date, end_date, directory, base_output_directory, color):\n",
    "    output_directory = os.path.join(base_output_directory, f'[{lat_range[0]},{lat_range[1]}],[{lon_range[1]},{lon_range[0]}]')\n",
    "    process_dates(start_date, end_date, directory, output_directory, lat_range, lon_range, color)"
   ]
  },
  {
   "cell_type": "code",
   "execution_count": 16,
   "id": "5c1515f1-9047-4bf4-8383-128df34cc9cb",
   "metadata": {},
   "outputs": [
    {
     "name": "stdout",
     "output_type": "stream",
     "text": [
      "Total execution time: 27.60 seconds\n"
     ]
    }
   ],
   "source": [
    "# if __name__ == '__main__':\n",
    "#     lat_splits = [12, 15.5, 19, 22.5, 26, 29.5, 33, 36.5, 40] \n",
    "#     lon_splits = [-12, -23, -34, -45, -56, -67, -78, -89, -100] \n",
    "#     start_date = '20220723'\n",
    "#     end_date = '20220724'\n",
    "#     directory = '/media/yahia/ballena/CLS/abi-goes-global-hr' \n",
    "#     base_output_directory = '/media/yahia/ballena/ABI/Partition/Averages'\n",
    "#     color = \"viridis\"\n",
    "    \n",
    "#     start_time = time.time()\n",
    "#     tasks = []\n",
    "    \n",
    "#     with ProcessPoolExecutor() as executor:\n",
    "#         for i in range(len(lat_splits)-1):\n",
    "#             for j in range(len(lon_splits)-1):\n",
    "#                 lat_range = (lat_splits[i], lat_splits[i+1])\n",
    "#                 lon_range = (lon_splits[j+1], lon_splits[j])\n",
    "#                 tasks.append(executor.submit(process_partition, lat_range, lon_range, start_date, end_date, directory, base_output_directory, color))\n",
    "        \n",
    "#         # Optionally, wait for all tasks to complete\n",
    "#         for task in tasks:\n",
    "#             task.result()\n",
    "\n",
    "#     end_time = time.time()\n",
    "#     # Calculate and print the elapsed time\n",
    "#     elapsed_time = end_time - start_time\n",
    "#     print(f\"Total execution time: {elapsed_time:.2f} seconds\")"
   ]
  },
  {
   "cell_type": "markdown",
   "id": "87ff3af8-098f-46ad-ba5c-9f7607a9ce38",
   "metadata": {},
   "source": [
    "Total execution time: 27.74 seconds"
   ]
  },
  {
   "cell_type": "code",
   "execution_count": 17,
   "id": "5eb4d606-afda-4c3e-8949-40488623801f",
   "metadata": {},
   "outputs": [],
   "source": [
    "# # Cropped\n",
    "# if __name__ == '__main__':\n",
    "#     for i in range(len(lat_splits)-1):\n",
    "#         for j in range(len(lon_splits)-1):\n",
    "#             # Calculate the 1-day averages and save them\n",
    "#             directory = '/media/yahia/ballena/CLS/abi-goes-global-hr' \n",
    "#             source_directory = f'/media/yahia/ballena/ABI/Partition/Averages/[{lat_splits[i]},{lat_splits[i+1]}],[{lon_splits[j]},{lon_splits[j+1]}]' \n",
    "#             destination_directory = f'/media/yahia/ballena/ABI/Partition/Averages_Cropped/[{lat_splits[i]},{lat_splits[i+1]}],[{lon_splits[j]},{lon_splits[j+1]}]' \n",
    "#             process_directory(source_directory, destination_directory, threshold=180, bilateral=False, binarize=False)"
   ]
  },
  {
   "cell_type": "code",
   "execution_count": 18,
   "id": "63ce2483-7118-4e65-a628-d06d6499923a",
   "metadata": {},
   "outputs": [],
   "source": [
    "# # Binarized_Bilateral\n",
    "# if __name__ == '__main__':\n",
    "#     for i in range(len(lat_splits)-1):\n",
    "#         for j in range(len(lon_splits)-1):\n",
    "#             # Calculate the 1-day averages and save them\n",
    "#             directory = '/media/yahia/ballena/CLS/abi-goes-global-hr' \n",
    "#             source_directory = f'/media/yahia/ballena/ABI/Partition/Averages/[{lat_splits[i]},{lat_splits[i+1]}],[{lon_splits[j]},{lon_splits[j+1]}]' \n",
    "#             destination_directory = f'/media/yahia/ballena/ABI/Partition/Averages_Binarized_Bilateral/[{lat_splits[i]},{lat_splits[i+1]}],[{lon_splits[j]},{lon_splits[j+1]}]' \n",
    "#             process_directory(source_directory, destination_directory, threshold=100, bilateral=True, binarize=True, negative=True)"
   ]
  },
  {
   "cell_type": "markdown",
   "id": "eb80e32f-8fcf-45a2-8d74-a19586736796",
   "metadata": {},
   "source": [
    "#### Increasing the number of regions"
   ]
  },
  {
   "cell_type": "code",
   "execution_count": 4,
   "id": "f765a163-7101-4bd2-9970-5f09a5c55a34",
   "metadata": {},
   "outputs": [
    {
     "name": "stdout",
     "output_type": "stream",
     "text": [
      "Total execution time: 200.18 seconds\n"
     ]
    }
   ],
   "source": [
    "if __name__ == '__main__':\n",
    "    n = 24\n",
    "    lat_splits = np.linspace(12, 40, n+1)\n",
    "    lon_splits = np.linspace(-12, -100, n+1)\n",
    "    lat_splits = lat_splits.tolist()\n",
    "    lon_splits = lon_splits.tolist()\n",
    "    start_date = '20220723'\n",
    "    end_date = '20220724'\n",
    "    directory = '/media/yahia/ballena/CLS/abi-goes-global-hr' \n",
    "    base_output_directory = f'/media/yahia/ballena/ABI/Partition/n = {n}/Averages'\n",
    "    color = \"viridis\"\n",
    "    \n",
    "    start_time = time.time()\n",
    "    tasks = []\n",
    "    \n",
    "    with ProcessPoolExecutor() as executor:\n",
    "        for i in range(len(lat_splits)-1):\n",
    "            for j in range(len(lon_splits)-1):\n",
    "                lat_range = (lat_splits[i], lat_splits[i+1])\n",
    "                lon_range = (lon_splits[j+1], lon_splits[j])\n",
    "                tasks.append(executor.submit(process_partition, lat_range, lon_range, start_date, end_date, directory, base_output_directory, color))\n",
    "        \n",
    "        # Optionally, wait for all tasks to complete\n",
    "        for task in tasks:\n",
    "            task.result()\n",
    "\n",
    "    end_time = time.time()\n",
    "    # Calculate and print the elapsed time\n",
    "    elapsed_time = end_time - start_time\n",
    "    print(f\"Total execution time: {elapsed_time:.2f} seconds\")"
   ]
  },
  {
   "cell_type": "markdown",
   "id": "278b11f8-8750-4185-b812-76f560c92cf6",
   "metadata": {},
   "source": [
    "Total execution time: 200.18 seconds"
   ]
  },
  {
   "cell_type": "code",
   "execution_count": 7,
   "id": "01aff614-9763-4c30-bfe4-d144e48b669f",
   "metadata": {},
   "outputs": [],
   "source": [
    "# Cropped\n",
    "if __name__ == '__main__':\n",
    "    for i in range(len(lat_splits)-1):\n",
    "        for j in range(len(lon_splits)-1):\n",
    "            # Calculate the 1-day averages and save them\n",
    "            directory = '/media/yahia/ballena/CLS/abi-goes-global-hr' \n",
    "            source_directory = f'/media/yahia/ballena/ABI/Partition/n = {n}/Averages/[{lat_splits[i]},{lat_splits[i+1]}],[{lon_splits[j]},{lon_splits[j+1]}]' \n",
    "            destination_directory = f'/media/yahia/ballena/ABI/Partition/n = {n}/Averages_Cropped/[{lat_splits[i]},{lat_splits[i+1]}],[{lon_splits[j]},{lon_splits[j+1]}]' \n",
    "            process_directory(source_directory, destination_directory, threshold=180, bilateral=False, binarize=False)"
   ]
  },
  {
   "cell_type": "code",
   "execution_count": 9,
   "id": "8123255b-a230-471e-8366-156536f11239",
   "metadata": {},
   "outputs": [],
   "source": [
    "# Binarized_Bilateral\n",
    "if __name__ == '__main__':\n",
    "    for i in range(len(lat_splits)-1):\n",
    "        for j in range(len(lon_splits)-1):\n",
    "            # Calculate the 1-day averages and save them\n",
    "            directory = '/media/yahia/ballena/CLS/abi-goes-global-hr' \n",
    "            source_directory = f'/media/yahia/ballena/ABI/Partition/n = {n}/Averages/[{lat_splits[i]},{lat_splits[i+1]}],[{lon_splits[j]},{lon_splits[j+1]}]' \n",
    "            destination_directory = f'/media/yahia/ballena/ABI/Partition/n = {n}/Averages_Binarized_Bilateral/[{lat_splits[i]},{lat_splits[i+1]}],[{lon_splits[j]},{lon_splits[j+1]}]' \n",
    "            process_directory(source_directory, destination_directory, threshold=100, bilateral=True, binarize=True, negative=True)"
   ]
  },
  {
   "cell_type": "code",
   "execution_count": null,
   "id": "8a6c0cb2-85db-4325-b880-f4b8cc9a3e6e",
   "metadata": {},
   "outputs": [],
   "source": []
  }
 ],
 "metadata": {
  "kernelspec": {
   "display_name": "Python 3 (ipykernel)",
   "language": "python",
   "name": "python3"
  },
  "language_info": {
   "codemirror_mode": {
    "name": "ipython",
    "version": 3
   },
   "file_extension": ".py",
   "mimetype": "text/x-python",
   "name": "python",
   "nbconvert_exporter": "python",
   "pygments_lexer": "ipython3",
   "version": "3.11.7"
  }
 },
 "nbformat": 4,
 "nbformat_minor": 5
}
