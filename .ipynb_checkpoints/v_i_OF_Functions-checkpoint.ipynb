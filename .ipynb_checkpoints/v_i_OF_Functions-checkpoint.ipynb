{
 "cells": [
  {
   "cell_type": "markdown",
   "id": "913665e7-f6a8-44e5-89c4-01ba935ffe28",
   "metadata": {},
   "source": [
    "# Optical Flow Functions\n",
    "In this notebook, we're going to define the functions we will need for the display, calculations, GIF creation and other utilities that are useful (these functions were previously defined in v_Motion_Estimation but we moved them here to avoid circular dependencies)."
   ]
  },
  {
   "cell_type": "markdown",
   "id": "5b116660-52d0-4f9d-bf95-a0c3b2d604e4",
   "metadata": {},
   "source": [
    "## Importing necessary libraries and notebooks"
   ]
  },
  {
   "cell_type": "code",
   "execution_count": 1,
   "id": "515b4cd8-d658-461b-bf13-82b82a32616d",
   "metadata": {},
   "outputs": [],
   "source": [
    "import xarray as xr\n",
    "import io\n",
    "import os\n",
    "import cv2\n",
    "import imageio\n",
    "import matplotlib.pyplot as plt\n",
    "import matplotlib.colors as colors\n",
    "import numpy as np\n",
    "import cartopy.crs as ccrs\n",
    "import cartopy.feature as cfeature\n",
    "from datetime import datetime, timedelta\n",
    "from matplotlib import ticker\n",
    "from IPython.display import Image, display\n",
    "from PIL import Image as PILImage\n",
    "\n",
    "# Import the other notebooks without running their cells\n",
    "from ii_Data_Manipulation import visualize_4\n",
    "from iii_GOES_average import time_list, visualize_aggregate, calculate_median\n",
    "from iv_Image_Processing import collect_times, crop_image, save_aggregate, binarize_image, bilateral_image, process_dates, process_directory"
   ]
  },
  {
   "cell_type": "markdown",
   "id": "b066d2cb-bfff-4505-948d-c4720ea2dacf",
   "metadata": {},
   "source": [
    "### plot_of"
   ]
  },
  {
   "cell_type": "code",
   "execution_count": 2,
   "id": "7ccdbb96-80b4-4534-9882-75c023b93c1c",
   "metadata": {},
   "outputs": [],
   "source": [
    "def plot_of(flow):\n",
    "    mag, ang = cv2.cartToPolar(flow[..., 0], flow[..., 1])\n",
    "    plt.figure(figsize=(10, 10))\n",
    "    plt.imshow(mag, cmap='hot')\n",
    "    plt.colorbar()\n",
    "    plt.title('Optical Flow Magnitude')\n",
    "    plt.show()"
   ]
  },
  {
   "cell_type": "code",
   "execution_count": 3,
   "id": "ad045f26-ccd4-45d6-9eda-e1ce6eeb3e6f",
   "metadata": {},
   "outputs": [],
   "source": [
    "# if __name__ == '__main__':\n",
    "#     prev_img = cv2.imread(\"/home/yahia/Documents/Jupyter/Sargassum/Images/ABI_Averages_Binarized_Bilateral/Binarized_Bilateral_algae_distribution_20220723.png\")\n",
    "#     next_img = cv2.imread(\"/home/yahia/Documents/Jupyter/Sargassum/Images/ABI_Averages_Binarized_Bilateral/Binarized_Bilateral_algae_distribution_20220724.png\")\n",
    "#     flow = farneback_flow(prev_img, next_img)\n",
    "#     plot_of(flow)"
   ]
  },
  {
   "cell_type": "markdown",
   "id": "46c61e10-b5e0-4638-8282-bf616ad37a7c",
   "metadata": {},
   "source": [
    "### plot_of_vectors\n",
    "We can also visualize the motion field through vectors."
   ]
  },
  {
   "cell_type": "code",
   "execution_count": 11,
   "id": "a3b303aa-160b-4029-958d-06c570629c32",
   "metadata": {},
   "outputs": [],
   "source": [
    "def plot_of_vectors(flow, base_img, step=16, scale=1):\n",
    "    \"\"\"\n",
    "    Plots the optical flow vectors over the base image.\n",
    "    \n",
    "    :param flow: Computed flow vectors with shape (H, W, 2).\n",
    "    :param base_img: Base image on which to plot the vectors.\n",
    "    :param step: Grid step size for sampling vectors. Smaller values increase density.\n",
    "    :param scale: Scaling factor for the magnitude of vectors to enhance visibility.\n",
    "    \"\"\"\n",
    "    H, W = flow.shape[:2]\n",
    "    y, x = np.mgrid[0:H:step, 0:W:step].reshape(2, -1).astype(int)\n",
    "    fx, fy = flow[y, x].T\n",
    "\n",
    "    plt.figure(figsize=(10, 10))\n",
    "    plt.imshow(base_img)  # Convert grayscale to RGB\n",
    "    plt.quiver(x, y, fx, fy, color='r', angles='xy', scale_units='xy', scale=scale, width=0.005)\n",
    "    plt.xlim([0, W])\n",
    "    plt.ylim([H, 0])\n",
    "    plt.title('Optical Flow Vectors')\n",
    "    plt.show()"
   ]
  },
  {
   "cell_type": "code",
   "execution_count": 12,
   "id": "b90eb85a-fcb7-4b87-92ce-6612034cbc65",
   "metadata": {},
   "outputs": [],
   "source": [
    "# if __name__ == '__main__':\n",
    "#     prev_img = cv2.imread(\"/home/yahia/Documents/Jupyter/Sargassum/Images/ABI_Averages_Binarized_Bilateral/Binarized_Bilateral_algae_distribution_20220723.png\")\n",
    "#     next_img = cv2.imread(\"/home/yahia/Documents/Jupyter/Sargassum/Images/ABI_Averages_Binarized_Bilateral/Binarized_Bilateral_algae_distribution_20220724.png\")\n",
    "#     flow = farneback_flow(prev_img, next_img)\n",
    "#     plot_of_vectors(flow, prev_img, step=16, scale=1.25)\n",
    "#     display(Image(filename=\"/home/yahia/Documents/Jupyter/Sargassum/Images/ABI_Averages_Binarized_Bilateral/Binarized_Bilateral_algae_distribution_20220724.png\", width =750))"
   ]
  },
  {
   "cell_type": "markdown",
   "id": "e40f62d9-ddcb-431d-9dff-713b1fbac24e",
   "metadata": {},
   "source": [
    "### overlay_of_vectors"
   ]
  },
  {
   "cell_type": "code",
   "execution_count": 13,
   "id": "6323c465-1fa1-4949-80a0-a867264b4e9e",
   "metadata": {},
   "outputs": [],
   "source": [
    "def overlay_of_vectors(flow, base_img, step=16, scale=1, color=(255, 0, 0)):\n",
    "    \"\"\"\n",
    "    Overlays optical flow vectors on an image and returns the resulting image with vectors.\n",
    "    \"\"\"\n",
    "    # Ensure base_img is in RGB to display colored vectors\n",
    "    if len(base_img.shape) == 2:\n",
    "        base_img = cv2.cvtColor(base_img, cv2.COLOR_GRAY2RGB)\n",
    "    \n",
    "    H, W = flow.shape[:2]\n",
    "    y, x = np.mgrid[0:H:step, 0:W:step].reshape(2, -1).astype(int)\n",
    "    fx, fy = flow[y, x].T\n",
    "\n",
    "    # Create a figure for drawing\n",
    "    result_img = np.copy(base_img)\n",
    "    for i in range(len(x)):\n",
    "        start_point = (x[i], y[i])\n",
    "        end_point = (int(x[i] + fx[i] * scale), int(y[i] + fy[i] * scale))\n",
    "        cv2.arrowedLine(result_img, start_point, end_point, color, 1, tipLength=0.3)\n",
    "\n",
    "    return result_img"
   ]
  },
  {
   "cell_type": "markdown",
   "id": "7f9a31fd-6964-4312-b703-0a41c3a195d4",
   "metadata": {},
   "source": [
    "### create_of_gif\n",
    "We can try to visualize the result using a GIF."
   ]
  },
  {
   "cell_type": "code",
   "execution_count": 14,
   "id": "f4e7029e-869b-41da-a7f3-54df81933248",
   "metadata": {},
   "outputs": [],
   "source": [
    "def create_of_gif(images, gif_path, fps=1, loop=10):\n",
    "    \"\"\"\n",
    "    This function already calculates the flow, so no need to do that outside the function\n",
    "    \"\"\"\n",
    "    images_for_gif = []\n",
    "    \n",
    "    for i in range(len(images) - 1):\n",
    "        prev_img = images[i]\n",
    "        next_img = images[i+1]\n",
    "        flow = farneback_flow(prev_img, next_img)\n",
    "        overlay_img = overlay_optical_flow_vectors(flow, prev_img)\n",
    "        \n",
    "        images_for_gif.append(prev_img)  # Add original image\n",
    "        images_for_gif.append(overlay_img)  # Add image with vectors\n",
    "\n",
    "    # Add the last image to the gif\n",
    "    images_for_gif.append(images[-1])\n",
    "\n",
    "    # Write GIF\n",
    "    imageio.mimsave(gif_path, images_for_gif, fps=fps, loop=loop)"
   ]
  },
  {
   "cell_type": "code",
   "execution_count": 15,
   "id": "bf9f82c6-c59a-489b-a126-0fe60a5da580",
   "metadata": {},
   "outputs": [],
   "source": [
    "# if __name__ == '__main__':\n",
    "#     # Saving the GIF\n",
    "#     prev_img = cv2.imread(\"/home/yahia/Documents/Jupyter/Sargassum/Images/ABI_Averages_Binarized_Bilateral/Binarized_Bilateral_algae_distribution_20220723.png\")\n",
    "#     next_img = cv2.imread(\"/home/yahia/Documents/Jupyter/Sargassum/Images/ABI_Averages_Binarized_Bilateral/Binarized_Bilateral_algae_distribution_20220724.png\")\n",
    "#     images = [prev_img, next_img]\n",
    "#     create_of_gif(images, '/home/yahia/Documents/Jupyter/Sargassum/Images/GIFs/optical_flow.gif', fps=0.2, loop=10)\n",
    "    \n",
    "#     # Displaying the GIF\n",
    "#     gif_path = '/home/yahia/Documents/Jupyter/Sargassum/Images/GIFs/optical_flow.gif' \n",
    "#     display(Image(filename=gif_path))"
   ]
  },
  {
   "cell_type": "markdown",
   "id": "3b7d0450-62d0-4f87-8522-09b3409572f3",
   "metadata": {},
   "source": [
    "### 2. Lucas-Kanade"
   ]
  },
  {
   "cell_type": "code",
   "execution_count": 12,
   "id": "02d7bd88-237d-4e3a-bc57-c7b9c852367e",
   "metadata": {},
   "outputs": [],
   "source": [
    "def LK_flow(prev_img, next_img):\n",
    "    \"\"\"\n",
    "    Returns:\n",
    "        new_points (np.ndarray): The points in the second image.\n",
    "        status (np.ndarray): Array of statuses for each point.\n",
    "        err (np.ndarray): Error for each point.\n",
    "    \"\"\"\n",
    "    # Ensure images are grayscale\n",
    "    if len(prev_img.shape) == 3:\n",
    "        prev_img = cv2.cvtColor(prev_img, cv2.COLOR_BGR2GRAY)\n",
    "    if len(next_img.shape) == 3:\n",
    "        next_img = cv2.cvtColor(next_img, cv2.COLOR_BGR2GRAY)\n",
    "    \n",
    "    # Parameters for ShiTomasi corner detection\n",
    "    feature_params = {'maxCorners': 100,\n",
    "                      'qualityLevel': 0.3,\n",
    "                      'minDistance': 7,\n",
    "                      'blockSize': 7}\n",
    "\n",
    "    # Parameters for Lucas-Kanade optical flow\n",
    "    lk_params = {'winSize': (15, 15),\n",
    "                 'maxLevel': 2,\n",
    "                 'criteria': (cv2.TERM_CRITERIA_EPS | cv2.TERM_CRITERIA_COUNT, 10, 0.03)}\n",
    "\n",
    "    # Find good features to track (Shi-Tomasi corner detector)\n",
    "    p0 = cv2.goodFeaturesToTrack(prev_img, mask=None, **feature_params)\n",
    "    \n",
    "    # Calculate optical flow (Lucas-Kanade)\n",
    "    if p0 is not None:\n",
    "        p1, st, err = cv2.calcOpticalFlowPyrLK(prev_img, next_img, p0, None, **lk_params)\n",
    "        return p0, p1, st, err\n",
    "    else:\n",
    "        return None, None, None, None"
   ]
  },
  {
   "cell_type": "markdown",
   "id": "8baf77b2-e9ce-49d7-a931-9bcd54d31df8",
   "metadata": {},
   "source": [
    "### plot_vector_field\n",
    "A function to plot a vector field using two sets of points (that represenet the ends of the vector)."
   ]
  },
  {
   "cell_type": "code",
   "execution_count": 9,
   "id": "dc14aedb-e3ba-4fe4-b27c-d1b763ae5f17",
   "metadata": {},
   "outputs": [],
   "source": [
    "def plot_vector_field(p0, p1, status):\n",
    "    plt.figure(figsize=(10, 10))\n",
    "    for i, (new, old) in enumerate(zip(p1, p0)):\n",
    "        a, b = new.ravel()\n",
    "        c, d = old.ravel()\n",
    "        if status[i]:\n",
    "            plt.arrow(c, d, (a - c), (b - d), color='red', head_width=2, head_length=3, linewidth=1.5, length_includes_head=True)\n",
    "\n",
    "    plt.axis('off')\n",
    "    plt.imshow(prev_img, cmap='gray')\n",
    "    plt.show()"
   ]
  },
  {
   "cell_type": "code",
   "execution_count": 16,
   "id": "b13aaa26-25d9-45cc-92a9-e3fd02d67a1b",
   "metadata": {},
   "outputs": [],
   "source": [
    "# if __name__ == '__main__':\n",
    "#     # Binarized\n",
    "#     prev_img = cv2.imread(\"/home/yahia/Documents/Jupyter/Sargassum/Images/ABI_Averages_Binarized_Bilateral/Binarized_Bilateral_algae_distribution_20220723.png\")\n",
    "#     next_img = cv2.imread(\"/home/yahia/Documents/Jupyter/Sargassum/Images/ABI_Averages_Binarized_Bilateral/Binarized_Bilateral_algae_distribution_20220724.png\")\n",
    "#     p0, p1, st, err = LK_flow(prev_img, next_img)\n",
    "#     if p0 is not None and p1 is not None:\n",
    "#         # Filter out only points with successful tracking\n",
    "#         good_new = p1[st==1]\n",
    "#         good_old = p0[st==1]\n",
    "    \n",
    "#         plot_vector_field(good_old, good_new, st[st==1])\n",
    "#     # Viridis\n",
    "#     prev_img = cv2.imread(\"/home/yahia/Documents/Jupyter/Sargassum/Images/ABI_Averages_Processed_Viridis/Processed_algae_distribution_20220723.png\")\n",
    "#     next_img = cv2.imread(\"/home/yahia/Documents/Jupyter/Sargassum/Images/ABI_Averages_Processed_Viridis/Processed_algae_distribution_20220724.png\")\n",
    "#     p0, p1, st, err = LK_flow(prev_img, next_img)\n",
    "#     if p0 is not None and p1 is not None:\n",
    "#         # Filter out only points with successful tracking\n",
    "#         good_new = p1[st==1]\n",
    "#         good_old = p0[st==1]\n",
    "    \n",
    "#         plot_vector_field(good_old, good_new, st[st==1])"
   ]
  },
  {
   "cell_type": "markdown",
   "id": "c28e9f8f-0268-4b7a-8813-286350c0219a",
   "metadata": {},
   "source": [
    "This function doesn't plot the image directly but returns it instead."
   ]
  },
  {
   "cell_type": "code",
   "execution_count": 15,
   "id": "40b2b17e-0709-493d-9e27-c3256115f638",
   "metadata": {},
   "outputs": [],
   "source": [
    "def LK_vector_field(p0, p1, status, prev_img):\n",
    "    \"\"\"\n",
    "    Creates an image with vectors plotted over the input image.\n",
    "    \n",
    "    Args:\n",
    "    - p0: Initial points in the first image.\n",
    "    - p1: Corresponding points in the second image.\n",
    "    - status: Status array from optical flow indicating which points are valid.\n",
    "    - prev_img: The first image on which vectors are drawn.\n",
    "    \n",
    "    Returns:\n",
    "    - An image array with vectors drawn.\n",
    "    \"\"\"\n",
    "    # Create a figure to draw the vectors\n",
    "    fig, ax = plt.subplots(figsize=(10, 10))\n",
    "    ax.imshow(prev_img, cmap='gray')\n",
    "    for i, (new, old) in enumerate(zip(p1, p0)):\n",
    "        #if status[i]:\n",
    "        a, b = new.ravel()\n",
    "        c, d = old.ravel()\n",
    "        ax.arrow(c, d, (a - c), (b - d), color='red', head_width=2, head_length=3, linewidth=1.5, length_includes_head=True)\n",
    "    \n",
    "    ax.axis('off')\n",
    "    \n",
    "    # Save the plot to a buffer instead of showing it\n",
    "    buf = io.BytesIO()\n",
    "    plt.savefig(buf, format='png')\n",
    "    plt.close(fig)\n",
    "    buf.seek(0)\n",
    "    \n",
    "    # Load the image from the buffer\n",
    "    img_array = np.array(PILImage.open(buf))\n",
    "    \n",
    "    return img_array"
   ]
  },
  {
   "cell_type": "markdown",
   "id": "99bd4970-d53c-49ab-8872-dd65a8635150",
   "metadata": {},
   "source": [
    "### display_image_cv"
   ]
  },
  {
   "cell_type": "code",
   "execution_count": 16,
   "id": "6ae6543c-3437-4dc4-a409-f6984c8bf944",
   "metadata": {},
   "outputs": [],
   "source": [
    "def display_image_cv(image_array):\n",
    "    # OpenCV might load images in BGR format, ensure to convert to RGB if necessary\n",
    "    if image_array.shape[2] == 3:  # Color image\n",
    "        image_array = cv2.cvtColor(image_array, cv2.COLOR_BGR2RGB)\n",
    "    cv2.imshow('Optical Flow Vectors', image_array)\n",
    "    while True:\n",
    "        if cv2.waitKey(1) & 0xFF == ord('q'):\n",
    "            break\n",
    "    cv2.destroyAllWindows()"
   ]
  },
  {
   "cell_type": "code",
   "execution_count": 17,
   "id": "4e03f72a-9592-40e1-88d0-c4c6b85ea36b",
   "metadata": {},
   "outputs": [],
   "source": [
    "# if __name__ == '__main__':\n",
    "#     # Binary image\n",
    "#     prev_img = cv2.imread(\"/home/yahia/Documents/Jupyter/Sargassum/Images/ABI_Averages_Binarized_Bilateral/Binarized_Bilateral_algae_distribution_20220723.png\")\n",
    "#     next_img = cv2.imread(\"/home/yahia/Documents/Jupyter/Sargassum/Images/ABI_Averages_Binarized_Bilateral/Binarized_Bilateral_algae_distribution_20220724.png\")\n",
    "#     p0, p1, st, err = LK_flow(prev_img, next_img)\n",
    "#     img_with_vectors = LK_vector_field(p0, p1, st, prev_img)\n",
    "#     display_image_cv(img_with_vectors)"
   ]
  },
  {
   "cell_type": "markdown",
   "id": "f3b5af60-9dcc-4b76-9b51-1efb459e1a57",
   "metadata": {},
   "source": [
    "### superpose_images\n",
    "This is a function that takes two images (preferably binarized for clarity) and superposes them on top of each other with different colors."
   ]
  },
  {
   "cell_type": "code",
   "execution_count": 10,
   "id": "8f0f7ce2-085a-49b2-86da-9a3b58b83500",
   "metadata": {},
   "outputs": [],
   "source": [
    "def superpose_images(image1, image2, color1=(255, 0, 0), color2=(0, 255, 0)):\n",
    "    \"\"\"\n",
    "    Superposes the black regions of two binarized images onto a white background with different colors.\n",
    "    Black areas from image1 and image2 are shown in distinct colors, and the background remains white.\n",
    "\n",
    "    Parameters:\n",
    "    - image1 (numpy.ndarray): The first binarized image, white background with black algae.\n",
    "    - image2 (numpy.ndarray): The second binarized image, white background with black algae.\n",
    "    - color1 (tuple): RGB color for the algae in the first image.\n",
    "    - color2 (tuple): RGB color for the algae in the second image.\n",
    "\n",
    "    Returns:\n",
    "    - numpy.ndarray: An image with the black regions of the two input images superposed in the specified colors.\n",
    "    \"\"\"\n",
    "    # Ensure images are grayscale\n",
    "    if len(image1.shape) == 3:\n",
    "        image1 = cv2.cvtColor(image1, cv2.COLOR_BGR2GRAY)\n",
    "    if len(image2.shape) == 3:\n",
    "        image2 = cv2.cvtColor(image2, cv2.COLOR_BGR2GRAY)\n",
    "\n",
    "    # Threshold images to ensure they are binary\n",
    "    _, image1 = cv2.threshold(image1, 127, 255, cv2.THRESH_BINARY)\n",
    "    _, image2 = cv2.threshold(image2, 127, 255, cv2.THRESH_BINARY)\n",
    "\n",
    "    # Create a white RGB image with the same dimensions as the input images\n",
    "    height, width = image1.shape\n",
    "    colored_image = np.full((height, width, 3), fill_value=(255, 255, 255), dtype=np.uint8)  # White background\n",
    "\n",
    "    # Apply the specified colors to the black regions of each binary image\n",
    "    colored_image[(image1 == 0)] = color1  # Apply color1 where image1 is black\n",
    "    colored_image[(image2 == 0)] = color2  # Apply color2 where image2 is black\n",
    "\n",
    "    return colored_image"
   ]
  },
  {
   "cell_type": "code",
   "execution_count": 19,
   "id": "fbdb1313-62fb-4d5b-98c8-7bb06c75c9d4",
   "metadata": {},
   "outputs": [],
   "source": [
    "# if __name__ == '__main__':\n",
    "#     prev_img = cv2.imread(\"/home/yahia/Documents/Jupyter/Sargassum/Images/ABI_Averages_Binarized_Bilateral/Binarized_Bilateral_algae_distribution_20220723.png\")\n",
    "#     next_img = cv2.imread(\"/home/yahia/Documents/Jupyter/Sargassum/Images/ABI_Averages_Binarized_Bilateral/Binarized_Bilateral_algae_distribution_20220724.png\")\n",
    "#     superposed = superpose_images(prev_img, next_img)\n",
    "#     display_image_cv(superposed)"
   ]
  },
  {
   "cell_type": "code",
   "execution_count": null,
   "id": "192dc00c-8906-4d02-b459-72a9a64ab90e",
   "metadata": {},
   "outputs": [],
   "source": [
    "# if __name__ == '__main__':\n",
    "#     motion_field = overlay_optical_flow_vectors(flow, superposed, step=16, scale=1, color=(0,0,255))\n",
    "#     display_image_cv(motion_field)"
   ]
  }
 ],
 "metadata": {
  "kernelspec": {
   "display_name": "Python 3 (ipykernel)",
   "language": "python",
   "name": "python3"
  },
  "language_info": {
   "codemirror_mode": {
    "name": "ipython",
    "version": 3
   },
   "file_extension": ".py",
   "mimetype": "text/x-python",
   "name": "python",
   "nbconvert_exporter": "python",
   "pygments_lexer": "ipython3",
   "version": "3.11.7"
  }
 },
 "nbformat": 4,
 "nbformat_minor": 5
}
