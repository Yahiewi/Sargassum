{
 "cells": [
  {
   "cell_type": "markdown",
   "id": "9503bf90-be3f-4e58-a5c0-64a4530c7ee6",
   "metadata": {},
   "source": [
    "# Image Processing\n",
    "Using the results of the previous notebook, we're going to try to use the OpenCV library to process the images and save them so we can then apply our motion estimation algorithms to ABI-GOES aggregate images over a certain period of time (10 days perhaps)."
   ]
  },
  {
   "cell_type": "markdown",
   "id": "486cb3ae-e170-477a-a648-dd35b80b2096",
   "metadata": {},
   "source": [
    "## Importing necessary libraries and notebooks"
   ]
  },
  {
   "cell_type": "code",
   "execution_count": null,
   "id": "b30506ff-412b-4471-a57c-269137d2e2e8",
   "metadata": {},
   "outputs": [],
   "source": [
    "import xarray as xr\n",
    "import os\n",
    "import cv2\n",
    "import matplotlib.pyplot as plt\n",
    "import matplotlib.colors as colors\n",
    "import numpy as np\n",
    "import cartopy.crs as ccrs\n",
    "import cartopy.feature as cfeature\n",
    "from datetime import datetime, timedelta\n",
    "from matplotlib import ticker\n",
    "from IPython.display import Image, display, HTML\n",
    "\n",
    "# Import the other notebooks without running their cells\n",
    "from ii_Data_Manipulation import visualize_4\n",
    "from iii_GOES_average import time_list, visualize_aggregate, calculate_median"
   ]
  },
  {
   "cell_type": "markdown",
   "id": "74e2465b-a0ec-4c11-9d50-da51ec7fe9ed",
   "metadata": {},
   "source": [
    "## Preparing the Images\n",
    "We're going to work on 10 images obtained from averaging all ABI-GOES images for a given day. First, we need to average the images for each day and then save them to our hard drive.\n",
    "\n",
    "One challenge is that acquisitions don't start and end at the same time for each day (acquisitions start at 12:00 for 2022/07/24 for example), so we need to be able to collect a list of the times at which we have data. "
   ]
  },
  {
   "cell_type": "markdown",
   "id": "b2fafb31-72eb-4468-b4dd-cdd8e811a044",
   "metadata": {},
   "source": [
    "### Time Collector"
   ]
  },
  {
   "cell_type": "code",
   "execution_count": null,
   "id": "dc2aef99-4bfc-493e-b59b-6e9f2d473a91",
   "metadata": {},
   "outputs": [],
   "source": [
    "def collect_times(date, directory):\n",
    "    \"\"\" Collect the earliest and latest acquisition times for a given date from file names. \"\"\"\n",
    "    prefix = f\"cls-abi-goes-global-hr_1d_{date}\"\n",
    "    files = [f for f in os.listdir(directory) if f.startswith(prefix)]\n",
    "    times = [f.split('_')[-1].split('.')[0] for f in files]  # Assumes files are named '..._HH-MM.nc'\n",
    "    if times:\n",
    "        return min(times), max(times)\n",
    "    return None"
   ]
  },
  {
   "cell_type": "markdown",
   "id": "ab9548f1-9c30-4226-b59b-6c4b9d50b818",
   "metadata": {},
   "source": [
    "### Saving a Figure\n",
    "Because we've encountered bugs and stack overflow when we tried to modify the function of notebook 3 by adding an optional parameter (**output_filepath**=None), which if specified saves the figure instead of showing it (and removes the legend), we've decided instead to write a new function here **save_aggregate** that can also display the image."
   ]
  },
  {
   "cell_type": "code",
   "execution_count": null,
   "id": "bc1dc050-f434-415e-8a9c-0daec7b77bfb",
   "metadata": {},
   "outputs": [],
   "source": [
    "def save_aggregate(aggregate_data, lat_range=None, lon_range=None, color=\"viridis\", vmax=0.001, threshold=0.0001, output_filepath=None, filter_clouds=True):\n",
    "    # Select the desired subset\n",
    "    if lat_range:\n",
    "        aggregate_data = aggregate_data.sel(latitude=slice(*lat_range))\n",
    "    if lon_range:\n",
    "        aggregate_data = aggregate_data.sel(longitude=slice(*lon_range))\n",
    "\n",
    "    # If filtering clouds, set NaN values to -0.1\n",
    "    if filter_clouds:\n",
    "        aggregate_data = xr.where(np.isnan(aggregate_data), -0.1, aggregate_data)\n",
    "        \n",
    "    # Set up a plot with geographic projections\n",
    "    fig, ax = plt.subplots(figsize=(12, 10), subplot_kw={'projection': ccrs.PlateCarree()})\n",
    "    \n",
    "    # Customize the map with coastlines and features\n",
    "    ax.coastlines(resolution='10m', color='black', visible=output_filepath is None)\n",
    "    ax.add_feature(cfeature.BORDERS, linestyle=':', visible=output_filepath is None)\n",
    "    ax.add_feature(cfeature.LAND, facecolor='lightgray', visible=output_filepath is None)\n",
    "\n",
    "\n",
    "    # Show gridlines only when visualizing interactively, not when saving the output\n",
    "    if output_filepath is None:\n",
    "        gl = ax.gridlines(draw_labels=True, linewidth=1, color='gray', alpha=0.5, linestyle='--')\n",
    "        gl.top_labels = False\n",
    "        gl.right_labels = False\n",
    "        cbar_kwargs = {'shrink': 0.35}\n",
    "    else:\n",
    "        cbar_kwargs = None\n",
    "\n",
    "    # Plot the aggregate data with the specified color, vmax, and threshold (depending if output mode is on or not)\n",
    "    im = aggregate_data.plot(ax=ax, x='longitude', y='latitude', transform=ccrs.PlateCarree(),\n",
    "                             cmap=color, add_colorbar=output_filepath is None,\n",
    "                             vmin=threshold, vmax=vmax, cbar_kwargs=cbar_kwargs if cbar_kwargs else None)\n",
    "    \n",
    "    # Set title and colorbar only when visualizing interactively\n",
    "    if output_filepath is None:\n",
    "        im.colorbar.set_label('Aggregate Floating Algae Index (FAI)')\n",
    "        plot_date = aggregate_data.attrs.get('date', 'Unknown Date')\n",
    "        plt.title(f\"Aggregate Algae Distribution on {plot_date}\")\n",
    "\n",
    "    if output_filepath:\n",
    "        plt.savefig(output_filepath)  \n",
    "        plt.close(fig)  \n",
    "    else:\n",
    "        plt.show()  \n"
   ]
  },
  {
   "cell_type": "markdown",
   "id": "eae94ba0-04c6-4e86-a620-19761912b5f8",
   "metadata": {},
   "source": [
    "We have the option to get the raw average (without the mask for the land) or to mask the land and we should test both images to see which is best for the OF algorithms."
   ]
  },
  {
   "cell_type": "markdown",
   "id": "950018c9-e878-4ada-94ca-ed4054ae4996",
   "metadata": {},
   "source": [
    "### Cropping Images\n",
    "Let's write a function to crop images so as to remove the white space from the figure."
   ]
  },
  {
   "cell_type": "code",
   "execution_count": null,
   "id": "c8778671-cb6d-4fd0-b808-c855793e2049",
   "metadata": {},
   "outputs": [],
   "source": [
    "def crop_image(image):\n",
    "    # Convert to grayscale if it is a color image\n",
    "    if len(image.shape) == 3:\n",
    "        gray_img = cv2.cvtColor(image, cv2.COLOR_BGR2GRAY)\n",
    "    else:\n",
    "        gray_img = image\n",
    "\n",
    "    # Threshold the image to isolate the content\n",
    "    _, thresh = cv2.threshold(gray_img, 240, 255, cv2.THRESH_BINARY_INV)\n",
    "\n",
    "    # Find contours from the thresholded image\n",
    "    contours, _ = cv2.findContours(thresh, cv2.RETR_EXTERNAL, cv2.CHAIN_APPROX_SIMPLE)\n",
    "\n",
    "    if contours:\n",
    "        # Find the largest contour which will encompass the area of interest\n",
    "        c = max(contours, key=cv2.contourArea)\n",
    "        \n",
    "        # Get the bounding rectangle of the largest contour\n",
    "        x, y, w, h = cv2.boundingRect(c)\n",
    "        \n",
    "        # Crop the original image using the dimensions of the bounding rectangle\n",
    "        cropped_img = image[y:y+h, x:x+w]\n",
    "        return cropped_img\n",
    "    else:\n",
    "        print(\"No significant contours found.\")\n",
    "        return image  # Return original image if no contours were found"
   ]
  },
  {
   "cell_type": "markdown",
   "id": "85dc6aa7-20e7-4102-b29b-1691cb4e5ebc",
   "metadata": {},
   "source": [
    "### Producing the Mini Database"
   ]
  },
  {
   "cell_type": "code",
   "execution_count": null,
   "id": "4a52bd4d-b580-4d2b-b950-3075f3cf992c",
   "metadata": {},
   "outputs": [],
   "source": [
    "def process_dates(start_date, end_date, directory, output_dir, lat_range=None, lon_range=None, color=\"viridis\"):\n",
    "    # Convert the start and end dates from strings to datetime objects\n",
    "    current_date = datetime.strptime(start_date, '%Y%m%d')\n",
    "    end_date = datetime.strptime(end_date, '%Y%m%d')\n",
    "    \n",
    "    while current_date <= end_date:\n",
    "        # Format the current date as a string in 'YYYYMMDD' format\n",
    "        date_str = current_date.strftime('%Y%m%d')\n",
    "        \n",
    "        # Discover the start and end times of image acquisition on the current day by scanning the directory\n",
    "        times = collect_times(date_str, directory)\n",
    "        \n",
    "        if times:\n",
    "            # Create a list of timestamps for the day using the discovered start and end times\n",
    "            times_for_day = time_list(\n",
    "                datetime.strptime(date_str + '_' + times[0], '%Y%m%d_%H-%M'),\n",
    "                datetime.strptime(date_str + '_' + times[1], '%Y%m%d_%H-%M'), \n",
    "                10  # Interval between images in minutes\n",
    "            )\n",
    "            \n",
    "            # Calculate the median distribution of algae based on the list of timestamps\n",
    "            median_distribution = calculate_median(times_for_day, lat_range, lon_range)\n",
    "            \n",
    "            # Prepare the output file path for the current day's visualization\n",
    "            output_file_path = os.path.join(output_dir, f'algae_distribution_{date_str}.png')\n",
    "            \n",
    "            # Visualize the median algae distribution and save it using the provided visualization function\n",
    "            save_aggregate(median_distribution, lat_range, lon_range, color=color, output_filepath=output_file_path)\n",
    "            # No need to save and close the plot here as it's handled within visualize_aggregate\n",
    "        \n",
    "        # Increment the current date by one day\n",
    "        current_date += timedelta(days=1)"
   ]
  },
  {
   "cell_type": "code",
   "execution_count": null,
   "id": "2b6ead57-f625-424d-a740-4852c4b6dd3e",
   "metadata": {},
   "outputs": [],
   "source": [
    "# start_date = '20220724'\n",
    "# end_date = '20220802'\n",
    "# directory = '/media/yahia/ballena/CLS/abi-goes-global-hr' \n",
    "# output_directory = '/home/yahia/Documents/Jupyter/Images/ABI_Averages' \n",
    "# latitude_range = (12, 17)  \n",
    "# longitude_range = (-67, -60) \n",
    "\n",
    "# # Call the function\n",
    "# process_dates(start_date, end_date, directory, output_directory, latitude_range, longitude_range, color=\"binary\")"
   ]
  },
  {
   "cell_type": "code",
   "execution_count": null,
   "id": "aaa83d25-787c-48e8-97ed-a4dad20eb385",
   "metadata": {},
   "outputs": [],
   "source": [
    "# #Displaying the result\n",
    "# image_path = '/home/yahia/Documents/Jupyter/Images/algae_distribution_20220724.png'\n",
    "# display(Image(filename=image_path, width = 500))"
   ]
  },
  {
   "cell_type": "markdown",
   "id": "cf28ce06-2c61-4899-ac41-d214287435ce",
   "metadata": {},
   "source": [
    "If we look at the images, we can see that some of them are covered by clouds which makes detecting the algae impossible. A solution we could implement is to use the OLCI images (if they're more clear) and add them to the ABI aggregates (using OpenCV's **OR** operator for example)."
   ]
  },
  {
   "cell_type": "markdown",
   "id": "1a463b6b-aeb8-403f-b1a9-cc7116100797",
   "metadata": {},
   "source": [
    "### Image Filters"
   ]
  },
  {
   "cell_type": "markdown",
   "id": "571c1bf9-5f8d-4c07-b546-6fdde84c5ede",
   "metadata": {},
   "source": [
    "#### Binarizing the Images\n",
    "Binarizing the images (indicating the presence of algae by absolute black and the rest by white) might be beneficial for our Optical Flow algorithms."
   ]
  },
  {
   "cell_type": "code",
   "execution_count": null,
   "id": "97fc3a38-712e-46dc-b2af-1b1b927c223b",
   "metadata": {},
   "outputs": [],
   "source": [
    "def binarize_image(image, threshold):\n",
    "    # Load image in grayscale\n",
    "    image = cv2.cvtColor(image, cv2.COLOR_BGR2GRAY)\n",
    "    # Apply binary thresholding\n",
    "    _, binary_image = cv2.threshold(image, threshold, 255, cv2.THRESH_BINARY)\n",
    "    return binary_image"
   ]
  },
  {
   "cell_type": "markdown",
   "id": "1d1cb3a0-e107-412e-95ce-cfd9b6984fea",
   "metadata": {},
   "source": [
    "#### Bilateral Filter"
   ]
  },
  {
   "cell_type": "code",
   "execution_count": null,
   "id": "d8277a28-8157-489d-a898-d0be83efe6c3",
   "metadata": {},
   "outputs": [],
   "source": [
    "def bilateral_image(image, diameter=9, sigmaColor=75, sigmaSpace=75):\n",
    "    \"\"\"\n",
    "    Apply a bilateral filter to an image to reduce noise while keeping edges sharp.\n",
    "    \n",
    "    Parameters:\n",
    "    - diameter (int): Diameter of each pixel neighborhood that is used during filtering.\n",
    "                      If it is non-positive, it is computed from sigmaSpace.\n",
    "    - sigmaColor (float): Filter sigma in the color space. A larger value of the parameter\n",
    "                          means that farther colors within the pixel neighborhood (see sigmaSpace)\n",
    "                          will be mixed together, resulting in larger areas of semi-equal color.\n",
    "    - sigmaSpace (float): Filter sigma in the coordinate space. A larger value of the parameter\n",
    "                          means that farther pixels will influence each other as long as their\n",
    "                          colors are close enough (see sigmaColor). When d>0, it specifies the\n",
    "                          neighborhood size regardless of sigmaSpace. Otherwise, d is proportional\n",
    "                          to sigmaSpace.\n",
    "\n",
    "    Returns:\n",
    "    - filtered_image (ndarray): The image after applying the bilateral filter.\n",
    "    \"\"\"\n",
    "    bilateral = cv2.bilateralFilter(image, diameter, sigmaColor, sigmaSpace)\n",
    "    return bilateral"
   ]
  },
  {
   "cell_type": "code",
   "execution_count": null,
   "id": "252d4598-c54b-4a8e-a699-95afdde1c325",
   "metadata": {},
   "outputs": [],
   "source": [
    "# image_path = \"/home/yahia/Documents/Jupyter/Images/ABI_Averages/algae_distribution_20220724.png\"\n",
    "# image = cv2.imread(image_path)\n",
    "# bilateral = bilateral_image(image, diameter=7, sigmaColor=75, sigmaSpace=75)\n",
    "# new_filename = \"Bilateral_algae_distribution_20220724.png\"\n",
    "# output_path = os.path.join('/home/yahia/Documents/Jupyter/Images/ABI_Averages_Bilateral', new_filename)\n",
    "# cv2.imwrite(output_path, bilateral)\n",
    "# # Displaying the non-filtered image\n",
    "# display(Image(filename='/home/yahia/Documents/Jupyter/Images/ABI_Averages/algae_distribution_20220724.png', width=700)) \n",
    "# # Displaying the bilateral image\n",
    "# display(Image(filename='/home/yahia/Documents/Jupyter/Images/ABI_Averages_Bilateral/Bilateral_algae_distribution_20220724.png', width=700)) "
   ]
  },
  {
   "cell_type": "markdown",
   "id": "725a2fd0-5694-436b-8230-465501431987",
   "metadata": {},
   "source": [
    "##### Bilateral then Binarization"
   ]
  },
  {
   "cell_type": "code",
   "execution_count": null,
   "id": "5d223d31-68b9-4bee-bab5-98c64bed48ee",
   "metadata": {},
   "outputs": [],
   "source": [
    "# image_path = \"/home/yahia/Documents/Jupyter/Images/ABI_Averages_Bilateral/Bilateral_algae_distribution_20220724.png\"\n",
    "# image = cv2.imread(image_path)\n",
    "# binary = binarize_image(image, threshold=180)\n",
    "# new_filename = \"Binarized_Bilateral_algae_distribution_20220724.png\"\n",
    "# output_path = os.path.join('/home/yahia/Documents/Jupyter/Images/ABI_Averages_Binarized_Bilateral', new_filename)\n",
    "# cv2.imwrite(output_path, binary)\n",
    "# # Displaying the binarized median image \n",
    "# display(Image(filename='/home/yahia/Documents/Jupyter/Images/ABI_Averages_Binarized_Median/Binarized_Median_algae_distribution_20220724.png', width=700))  \n",
    "# # Displaying the binarized bilateral image \n",
    "# display(Image(filename='/home/yahia/Documents/Jupyter/Images/ABI_Averages_Binarized_Bilateral/Binarized_Bilateral_algae_distribution_20220724.png', width=700))  "
   ]
  },
  {
   "cell_type": "markdown",
   "id": "b1a10ae7-7cc8-4d35-aa8e-a14e7cedeed2",
   "metadata": {},
   "source": [
    "#### ~Edge Detection~"
   ]
  },
  {
   "cell_type": "code",
   "execution_count": null,
   "id": "f0dab25a-a4a8-4b6a-b0b3-65955b7d5a5a",
   "metadata": {},
   "outputs": [],
   "source": [
    "def edges(image_path):\n",
    "    # Load image in grayscale\n",
    "    image = cv2.imread(image_path, cv2.IMREAD_GRAYSCALE)\n",
    "    # The thresholds for hysteresis procedure are respectively the lower and upper bounds of gradient values\n",
    "    edges = cv2.Canny(image, 100, 200)\n",
    "    return edges"
   ]
  },
  {
   "cell_type": "code",
   "execution_count": null,
   "id": "fe469747-3921-4233-9394-30f85da5662b",
   "metadata": {},
   "outputs": [],
   "source": [
    "# image_path = \"/home/yahia/Documents/Jupyter/Images/ABI_Averages_Binarized_Median/Binarized_Median_algae_distribution_20220724.png\"\n",
    "# edges = edges(image_path)\n",
    "# new_filename = \"Edges_algae_distribution_20220724.png\"\n",
    "# output_path = os.path.join('/home/yahia/Documents/Jupyter/Images/ABI_Averages_Edges', new_filename)\n",
    "# cv2.imwrite(output_path, edges)\n",
    "# display(Image(filename='/home/yahia/Documents/Jupyter/Images/ABI_Averages_Edges/Edges_algae_distribution_20220724.png', width=700))  "
   ]
  },
  {
   "cell_type": "markdown",
   "id": "8d1aa6e8-e16d-4976-9156-2008b991e2dd",
   "metadata": {},
   "source": [
    "Here we've applied the edge detection algorithm to the binarized filtered image. This algorithm clearly delimits the edges of the algae rafts which may be useful later on."
   ]
  },
  {
   "cell_type": "markdown",
   "id": "1493668f-b3d4-44df-8ec5-6baf1608506c",
   "metadata": {},
   "source": [
    "#### ~equalize_image~\n",
    "This is an optional image processing step which should increase contrast in the image."
   ]
  },
  {
   "cell_type": "code",
   "execution_count": 33,
   "id": "9f76cff2-d82c-4a6f-860d-f27e075c2589",
   "metadata": {},
   "outputs": [],
   "source": [
    "def equalize_image(image):\n",
    "    \"\"\"\n",
    "    Enhances contrast by applying histogram equalization.\n",
    "    \n",
    "    :param image: The input image.\n",
    "    :return: The preprocessed image.\n",
    "    \"\"\"\n",
    "    gray = cv2.cvtColor(image, cv2.COLOR_BGR2GRAY)\n",
    "    equalized = cv2.equalizeHist(gray)\n",
    "    return equalized"
   ]
  },
  {
   "cell_type": "code",
   "execution_count": 34,
   "id": "4cfb16f9-01bc-4d71-8900-4dccab54d15f",
   "metadata": {},
   "outputs": [],
   "source": [
    "# if __name__ == \"__main__\":\n",
    "#     img = cv2.imread(\"/home/yahia/Documents/Jupyter/Sargassum/Images/ABI_Averages_Processed_Viridis/Processed_algae_distribution_20220723.png\")\n",
    "#     img_eq = equalize_image(img)\n",
    "#     display_image_mpl(img)\n",
    "#     display_image_mpl(img_eq)"
   ]
  },
  {
   "cell_type": "markdown",
   "id": "12b7b755-274f-4ed1-ac53-1ea6757e27dd",
   "metadata": {},
   "source": [
    "#### Conclusion\n",
    "After trying out various combinations, it seems the best image we have obtained so far is by **applying a bilateral filter and then binarizing the image** (median filter is still an option, although bilateral filters are better for preserving the edges)."
   ]
  },
  {
   "cell_type": "markdown",
   "id": "223d1826-a9a6-4da7-83ae-a0bb34427dd8",
   "metadata": {},
   "source": [
    "### Saving Images\n",
    "This function takes as input images and applies a certain function (for now bilateral_function then binarize_image but we could generalize this to work with other functions) to them and then saves them in the provided directory."
   ]
  },
  {
   "cell_type": "code",
   "execution_count": null,
   "id": "098b1383-3b6e-4809-af31-2a159d9d4592",
   "metadata": {},
   "outputs": [],
   "source": [
    "def process_directory(source_dir, dest_dir, threshold=180, bilateral=False, binarize=False, crop=True, negative=False):\n",
    "    # # Ensure the destination directory exists\n",
    "    # if not os.path.exists(dest_dir):\n",
    "    #     os.makedirs(dest_dir)\n",
    "\n",
    "    # Iterate over all files in the source directory\n",
    "    for filename in os.listdir(source_dir):\n",
    "        if filename.endswith('.png'):\n",
    "            # Original image path\n",
    "            image_path = os.path.join(source_dir, filename)\n",
    "            image = cv2.imread(image_path)\n",
    "            \n",
    "            # Filter the image\n",
    "            if bilateral:\n",
    "                image = bilateral_image(image)\n",
    "            \n",
    "            # Binarize the image\n",
    "            if binarize:\n",
    "                image = binarize_image(image, threshold)\n",
    "\n",
    "            # Crop the image\n",
    "            if crop:\n",
    "                image = crop_image(image)\n",
    "\n",
    "            # Make the image negative\n",
    "            if negative:\n",
    "                image = cv2.bitwise_not(image)\n",
    "            \n",
    "            # New filename with 'Processed' prefix\n",
    "            new_filename = 'Processed_' + filename\n",
    "            \n",
    "            # Define the output path for the processed image\n",
    "            output_path = os.path.join(dest_dir, new_filename)\n",
    "            \n",
    "            # Save the processed image\n",
    "            cv2.imwrite(output_path, image)"
   ]
  },
  {
   "cell_type": "code",
   "execution_count": null,
   "id": "bb3acf2d-18b7-40b7-9edc-3275647f488b",
   "metadata": {},
   "outputs": [],
   "source": [
    "# if __name__ == '__main__':\n",
    "#     # Paths\n",
    "#     source_directory = '/home/yahia/Documents/Jupyter/Sargassum/Images/ABI_Averages'\n",
    "#     destination_directory = '/home/yahia/Documents/Jupyter/Sargassum/Images/ABI_Averages_Binarized_Bilateral'\n",
    "    \n",
    "#     # Process the directory\n",
    "#     process_directory(source_directory, destination_directory, threshold=100, bilateral=True, binarize=True)"
   ]
  },
  {
   "cell_type": "code",
   "execution_count": null,
   "id": "b39b66db-5eba-403d-b7bf-609c3c2a4d2a",
   "metadata": {},
   "outputs": [],
   "source": [
    "# if __name__ == '__main__':\n",
    "#     # Display the processed image\n",
    "#     image_path = '/home/yahia/Documents/Jupyter/Sargassum/Images/ABI_Averages_Binarized_Bilateral/Binarized_Bilateral_algae_distribution_20220724.png'\n",
    "#     display(Image(filename=image_path, width=700))  "
   ]
  },
  {
   "cell_type": "markdown",
   "id": "afe3d0ce-bb13-4242-b3f3-0bb06b64871f",
   "metadata": {},
   "source": [
    "The **threshold** value must be chosen carefully so as to leave all the algae, but not leave the clouds, land or other undesirable features. \n",
    "\n",
    "This is what the Binarized version looks like (for **cmap=\"binary\"** and **threshold=180**), this should make it easier for the OF algorithms to track the algae. If we increase the threshold (which leaves in more algae), we get a lot of discrete algae spots, which is probably not going to be good for our algorithms."
   ]
  },
  {
   "cell_type": "code",
   "execution_count": null,
   "id": "fba034e9-2fff-4603-bd9e-ce7f46e56039",
   "metadata": {},
   "outputs": [],
   "source": [
    "# if __name__ == '__main__':\n",
    "#     image_path = '/home/yahia/Documents/Jupyter/Sargassum/Images/Binarized_algae_distribution_20220724_thresh_200.png'\n",
    "#     display(Image(filename=image_path, width=700))  "
   ]
  },
  {
   "cell_type": "markdown",
   "id": "25fe4e1f-7501-4e1a-ada3-2e101df6c6aa",
   "metadata": {},
   "source": [
    "This is what the binarized version looks like for **threshold=200**.\n",
    "Maybe we could still use this, if we apply a filter to it (median filter for example)."
   ]
  },
  {
   "cell_type": "markdown",
   "id": "095d14e6-4014-4941-a190-ca4c1e9b205f",
   "metadata": {},
   "source": [
    "## Finding a Good Example\n",
    "The 10-day period we have chosen (starting on 2022/07/24 and ending on 2022/08/02) may not be enough on its own to visualize motion vectors because a lot of the acquisitions are masked by clouds, so we're going to try to find 2 consecutive days in which the detections are clear after averaging the ABI-GOES images.\n",
    "\n",
    "After a few tries, we've found the week of 2022/07/18 - 2022/07/24 to be good, with 22, 23 and 24 having particularly clear images."
   ]
  },
  {
   "cell_type": "code",
   "execution_count": null,
   "id": "7ef566cc-9604-4252-b8fb-1005495109ac",
   "metadata": {},
   "outputs": [],
   "source": [
    "if __name__ == '__main__':\n",
    "    start_date = '20220718'\n",
    "    end_date = '20220724'\n",
    "    directory = '/media/yahia/ballena/CLS/abi-goes-global-hr' \n",
    "    output_directory = '/home/yahia/Documents/Jupyter/Sargassum/Images/ABI_Averages' \n",
    "    latitude_range = (12, 17)  \n",
    "    longitude_range = (-67, -60) \n",
    "    \n",
    "    # Calculate the 1-day averages and save them\n",
    "    process_dates(start_date, end_date, directory, output_directory, latitude_range, longitude_range, color=\"binary\")\n",
    "    \n",
    "    # Paths\n",
    "    source_directory = '/home/yahia/Documents/Jupyter/Sargassum/Images/ABI_Averages'\n",
    "    destination_directory = '/home/yahia/Documents/Jupyter/Images/Sargassum/ABI_Averages_Binarized_Bilateral'\n",
    "    \n",
    "    # Process the directory (filter, binarize and crop the images)\n",
    "    process_directory(source_directory, destination_directory, threshold=180, bilateral=True, binarize=True)"
   ]
  },
  {
   "cell_type": "markdown",
   "id": "b2d80cfa-17d8-464a-a01a-bc2effb15f2e",
   "metadata": {},
   "source": [
    "## Producing Viridis Images\n",
    "After all the image processing we did, the algorithm may not be able to track individual pixels any more, so raw viridis images may actually be better than the images we processed."
   ]
  },
  {
   "cell_type": "code",
   "execution_count": null,
   "id": "af6d6bdc-77c9-4d1c-b4b6-6817e87a5604",
   "metadata": {},
   "outputs": [],
   "source": [
    "if __name__ == '__main__':\n",
    "    start_date = '20220718'\n",
    "    end_date = '20220724'\n",
    "    directory = '/media/yahia/ballena/CLS/abi-goes-global-hr' \n",
    "    output_directory = '/home/yahia/Documents/Jupyter/Sargassum/Images/ABI_Averages_Viridis' \n",
    "    latitude_range = (12, 17)  \n",
    "    longitude_range = (-67, -60) \n",
    "    \n",
    "    # Calculate the 1-day averages and save them\n",
    "    process_dates(start_date, end_date, directory, output_directory, latitude_range, longitude_range, color=\"viridis\")\n",
    "    \n",
    "    # Paths\n",
    "    source_directory = '/home/yahia/Documents/Jupyter/Sargassum/Images/ABI_Averages_Viridis'\n",
    "    destination_directory = '/home/yahia/Documents/Jupyter/Sargassum/Images/ABI_Averages_Processed_Viridis'\n",
    "    \n",
    "    # Process the directory (filter, binarize and crop the images)\n",
    "    process_directory(source_directory, destination_directory, threshold=180, bilateral=False, binarize=False)"
   ]
  },
  {
   "cell_type": "markdown",
   "id": "a71bdf97-1a49-40e8-86cd-be9c955095ab",
   "metadata": {},
   "source": [
    "# Producing the Databases"
   ]
  },
  {
   "cell_type": "markdown",
   "id": "148f76c5-9320-4528-9ce1-a5b8e90e31b4",
   "metadata": {},
   "source": [
    "## ABI_Averages_Antilles\n",
    "We're going to average and process all the ABI-GOES images and save them to the directory ABI_Averages on the hard drive \"ballena\". Running this block might take a while. To optimize we could try and parallelize this process using the GPU."
   ]
  },
  {
   "cell_type": "code",
   "execution_count": null,
   "id": "4d4fd4a7-5cbe-4091-b4c8-f82d7195cb32",
   "metadata": {},
   "outputs": [],
   "source": [
    "if __name__ == '__main__':\n",
    "    start_date = '20221121'\n",
    "    end_date = '20221231'\n",
    "    directory = '/media/yahia/ballena/CLS/abi-goes-global-hr' \n",
    "    output_directory = '/media/yahia/ballena/ABI_Averages_Antilles' \n",
    "    latitude_range = (12, 17)  \n",
    "    longitude_range = (-67, -60) \n",
    "    \n",
    "    # Calculate the 1-day averages and save them\n",
    "    process_dates(start_date, end_date, directory, output_directory, latitude_range, longitude_range, color=\"viridis\")\n",
    "    \n",
    "    # Paths\n",
    "    source_directory = '/media/yahia/ballena/ABI_Averages_Antilles' \n",
    "    destination_directory = '/media/yahia/ballena/ABI_Averages_Antilles_Processed' \n",
    "    \n",
    "    # Process the directory (filter, binarize and crop the images)\n",
    "    process_directory(source_directory, destination_directory, threshold=180, bilateral=False, binarize=False)"
   ]
  },
  {
   "cell_type": "code",
   "execution_count": null,
   "id": "5617c345-1cba-40ed-9d61-7d940ec3a978",
   "metadata": {},
   "outputs": [],
   "source": [
    "# Binarized and bilateral images\n",
    "if __name__ == '__main__':\n",
    "    # Paths\n",
    "    source_directory = '/media/yahia/ballena/ABI/ABI_Averages_Antilles' \n",
    "    destination_directory = '/media/yahia/ballena/ABI/ABI_Averages_Antilles_Binarized_Bilateral' \n",
    "    \n",
    "    # Process the directory (filter, binarize and crop the images)\n",
    "    process_directory(source_directory, destination_directory, threshold=100, bilateral=True, binarize=True)"
   ]
  },
  {
   "cell_type": "code",
   "execution_count": null,
   "id": "da1db967-3257-4af5-8e45-cba974a4613d",
   "metadata": {},
   "outputs": [],
   "source": [
    "# Binarized and bilateral images (negative)\n",
    "if __name__ == '__main__':\n",
    "    # Paths\n",
    "    source_directory = '/media/yahia/ballena/ABI/ABI_Averages_Antilles' \n",
    "    destination_directory = '/media/yahia/ballena/ABI/ABI_Averages_Antilles_Binarized_Bilateral_Negative' \n",
    "    \n",
    "    # Process the directory (filter, binarize and crop the images)\n",
    "    process_directory(source_directory, destination_directory, threshold=100, bilateral=True, binarize=True, negative=True)"
   ]
  },
  {
   "cell_type": "markdown",
   "id": "77bcfff9-16d3-42c1-93f5-30d2902a6610",
   "metadata": {},
   "source": [
    "## MODIS_Images\n",
    "The function **process_dates** we previously defined is only adapted to ABI-GOES images, we will need to write a function that does the same for MODIS and OLCI images. We will also need to do the same for **save_aggregate**."
   ]
  },
  {
   "cell_type": "code",
   "execution_count": null,
   "id": "3277a3c6-290d-4965-b335-4185762009e9",
   "metadata": {},
   "outputs": [],
   "source": [
    "def save_image(file_path, lat_range=None, lon_range=None, color=\"viridis\", vmax=0.1, output_filepath=None):\n",
    "    # Load the netCDF data\n",
    "    data = xr.open_dataset(file_path)\n",
    "    \n",
    "    # If ranges are specified, apply them to select the desired subset\n",
    "    if lat_range:\n",
    "        data = data.sel(latitude=slice(*lat_range))\n",
    "    if lon_range:\n",
    "        data = data.sel(longitude=slice(*lon_range))\n",
    "\n",
    "    # Determine the index data and labels based on instrument used\n",
    "    index_key = 'fai_anomaly' if \"abi\" in file_path else 'nfai_mean'\n",
    "    colorbar_label = 'Floating Algae Index Anomaly (FAI)' if \"abi\" in file_path else 'Normalized Floating Algae Index (NFAI)'\n",
    "    title = 'FAI anomaly across the selected region on ' if \"abi\" in file_path else 'NFAI across the selected region on '\n",
    "    \n",
    "    # Extract relevant data (NFAI or FAI anomaly)\n",
    "    index_data = data[index_key]\n",
    "\n",
    "    # Set non-positive values to a very small negative number, close to zero\n",
    "    index_data = xr.where(index_data > 0, index_data, -0.1)\n",
    "    \n",
    "    # Set up a plot with geographic projections\n",
    "    fig, ax = plt.subplots(figsize=(12, 10), subplot_kw={'projection': ccrs.PlateCarree()})\n",
    "    \n",
    "    # Customize the map with coastlines and features\n",
    "    ax.coastlines(resolution='10m', color='black')\n",
    "    ax.add_feature(cfeature.BORDERS, linestyle=':')\n",
    "    ax.add_feature(cfeature.LAND, facecolor='lightgray')\n",
    "\n",
    "    # Show gridlines only when visualizing interactively, not when saving the output\n",
    "    if output_filepath is None:\n",
    "        gl = ax.gridlines(draw_labels=True, linewidth=1, color='gray', alpha=0.5, linestyle='--')\n",
    "        gl.top_labels = False\n",
    "        gl.right_labels = False\n",
    "        cbar_kwargs = {'shrink': 0.35}\n",
    "    else:\n",
    "        cbar_kwargs = None\n",
    "\n",
    "    # Plot the data with the modified contrast\n",
    "    im = index_data.plot(ax=ax, x='longitude', y='latitude', transform=ccrs.PlateCarree(),\n",
    "                         cmap=color, add_colorbar=True, extend='both',\n",
    "                         vmin=-0.01, vmax=vmax,  # Here we set the scale to max out at 0.5\n",
    "                         cbar_kwargs={'shrink': 0.35})\n",
    "\n",
    "    # Set title and colorbar only when visualizing interactively\n",
    "    if output_filepath is None:\n",
    "        im.colorbar.set_label('Normalized Floating Algae Index (NFAI)')\n",
    "        plot_date = data.attrs.get('date', 'Unknown Date')\n",
    "        plt.title(f\"Algae Distribution on {plot_date}\")\n",
    "\n",
    "    if output_filepath:\n",
    "        plt.savefig(output_filepath)  \n",
    "        plt.close(fig)  \n",
    "    else:\n",
    "        plt.show()  "
   ]
  },
  {
   "cell_type": "code",
   "execution_count": null,
   "id": "23844ac3-4b2f-4d23-b28e-1f480660f4f1",
   "metadata": {},
   "outputs": [],
   "source": [
    "def process_dates_2(start_date, end_date, directory, output_dir, lat_range=None, lon_range=None, color=\"viridis\"):\n",
    "    # Convert the start and end dates from strings to datetime objects\n",
    "    current_date = datetime.strptime(start_date, '%Y%m%d')\n",
    "    end_date = datetime.strptime(end_date, '%Y%m%d')\n",
    "    \n",
    "    while current_date <= end_date:\n",
    "        # Format the current date as a string in 'YYYYMMDD' format\n",
    "        date_str = current_date.strftime('%Y%m%d')\n",
    "        \n",
    "        # Prepare the output file path for the current day's visualization\n",
    "        # Visualize the median algae distribution and save it using the provided visualization function\n",
    "        if \"modis\" in directory:\n",
    "            output_file_path = os.path.join(output_dir, f'MODIS_{date_str}.png')\n",
    "            file_path = directory + f\"/cls-modis-aqua-global-lr_1d_{date_str}.nc\"\n",
    "        elif \"olci\" in directory:\n",
    "            output_file_path = os.path.join(output_dir, f'OLCI_{date_str}.png')\n",
    "            file_path = directory + f\"/cls-olci-s3-global-lr_1d_{date_str}.nc\"\n",
    "\n",
    "        # Check if the file exists before proceeding\n",
    "        if not os.path.exists(file_path):\n",
    "            print(f\"File not found for date: {date_str}, skipping...\")\n",
    "        else:\n",
    "            try:\n",
    "                save_image(file_path, lat_range, lon_range, color=color, output_filepath=output_file_path)\n",
    "            except Exception as e:\n",
    "                print(f\"Failed to process {file_path}: {e}\")\n",
    "    \n",
    "        # Increment the current date by one day\n",
    "        current_date += timedelta(days=1)"
   ]
  },
  {
   "cell_type": "markdown",
   "id": "c3ed8a19-da1b-4ec5-bb57-7c51a67e76c9",
   "metadata": {},
   "source": [
    "Generating the MODIS images:"
   ]
  },
  {
   "cell_type": "code",
   "execution_count": null,
   "id": "2af9a3f7-db27-4c3d-85ad-135070a01f13",
   "metadata": {},
   "outputs": [],
   "source": [
    "if __name__ == '__main__':\n",
    "    start_date = '20201207'\n",
    "    end_date = '20221231'\n",
    "    directory = '/media/yahia/ballena/CLS/modis-aqua-global-lr' \n",
    "    output_directory = '/media/yahia/ballena/MODIS_Antilles' \n",
    "    latitude_range = (12, 17)  \n",
    "    longitude_range = (-67, -60) \n",
    "    \n",
    "    # Calculate the 1-day averages and save them\n",
    "    process_dates_2(start_date, end_date, directory, output_directory, latitude_range, longitude_range, color=\"viridis\")\n",
    "    \n",
    "    # Paths\n",
    "    source_directory = '/media/yahia/ballena/MODIS_Antilles' \n",
    "    destination_directory = '/media/yahia/ballena/MODIS_Antilles_Processed' \n",
    "    \n",
    "    # Process the directory (filter, binarize and crop the images)\n",
    "    process_directory(source_directory, destination_directory, threshold=180, bilateral=False, binarize=False)"
   ]
  },
  {
   "cell_type": "markdown",
   "id": "3a3f0dda-86c6-470c-a078-0dabc6ca162f",
   "metadata": {},
   "source": [
    "## OLCI_Images"
   ]
  },
  {
   "cell_type": "markdown",
   "id": "e7f3e06c-c8a6-425f-b6f9-80e1b914d43f",
   "metadata": {},
   "source": [
    "Generating the OLCI images:"
   ]
  },
  {
   "cell_type": "code",
   "execution_count": null,
   "id": "93740a50-d18b-41c6-b59e-6dbf51f69b32",
   "metadata": {},
   "outputs": [],
   "source": [
    "if __name__ == '__main__':\n",
    "    start_date = '20201207'\n",
    "    end_date = '20240122'\n",
    "    directory = '/media/yahia/ballena/CLS/olci-s3-global-lr' \n",
    "    output_directory = '/media/yahia/ballena/OLCI_Antilles' \n",
    "    latitude_range = (12, 17)  \n",
    "    longitude_range = (-67, -60) \n",
    "    \n",
    "    # Calculate the 1-day averages and save them\n",
    "    process_dates_2(start_date, end_date, directory, output_directory, latitude_range, longitude_range, color=\"viridis\")\n",
    "    \n",
    "    # Paths\n",
    "    source_directory = '/media/yahia/ballena/OLCI_Antilles' \n",
    "    destination_directory = '/media/yahia/ballena/OLCI_Antilles_Processed' \n",
    "    \n",
    "    # Process the directory (filter, binarize and crop the images)\n",
    "    process_directory(source_directory, destination_directory, threshold=180, bilateral=False, binarize=False)"
   ]
  },
  {
   "cell_type": "code",
   "execution_count": null,
   "id": "92054f3c-d2b3-4f73-9816-0c2e15bd2e74",
   "metadata": {},
   "outputs": [],
   "source": []
  }
 ],
 "metadata": {
  "kernelspec": {
   "display_name": "Python 3 (ipykernel)",
   "language": "python",
   "name": "python3"
  },
  "language_info": {
   "codemirror_mode": {
    "name": "ipython",
    "version": 3
   },
   "file_extension": ".py",
   "mimetype": "text/x-python",
   "name": "python",
   "nbconvert_exporter": "python",
   "pygments_lexer": "ipython3",
   "version": "3.11.7"
  }
 },
 "nbformat": 4,
 "nbformat_minor": 5
}
