{
 "cells": [
  {
   "cell_type": "markdown",
   "id": "9503bf90-be3f-4e58-a5c0-64a4530c7ee6",
   "metadata": {},
   "source": [
    "# Image Processing\n",
    "Using the results of the previous notebook, we're going to try to use the OpenCV library to process the images and save them so we can then apply our motion estimation algorithms to ABI-GOES aggregate images over a certain period of time (a month perhaps)."
   ]
  },
  {
   "cell_type": "markdown",
   "id": "486cb3ae-e170-477a-a648-dd35b80b2096",
   "metadata": {},
   "source": [
    "## Importing necessary libraries and notebooks"
   ]
  },
  {
   "cell_type": "code",
   "execution_count": 4,
   "id": "b30506ff-412b-4471-a57c-269137d2e2e8",
   "metadata": {},
   "outputs": [],
   "source": [
    "import xarray as xr\n",
    "import os\n",
    "import cv2\n",
    "import matplotlib.pyplot as plt\n",
    "import cartopy.crs as ccrs\n",
    "import cartopy.feature as cfeature\n",
    "import numpy as np\n",
    "from datetime import datetime, timedelta\n",
    "from matplotlib import ticker\n",
    "from multiprocessing import Pool\n",
    "from scipy.ndimage import label\n",
    "import mplcursors\n",
    "import plotly.graph_objs as go\n",
    "\n",
    "# Import the other notebooks without running their cells\n",
    "from i_GOES_average import time_list, calculate_median, split_and_aggregate_median, save_as_netcdf"
   ]
  },
  {
   "cell_type": "markdown",
   "id": "74e2465b-a0ec-4c11-9d50-da51ec7fe9ed",
   "metadata": {},
   "source": [
    "## Preparing the Images\n",
    "We're going to work on 10 images obtained from averaging all ABI-GOES images for a given day. First, we need to average the images for each day and then save them to our hard drive.\n",
    "\n",
    "One challenge is that acquisitions don't start and end at the same time for each day (acquisitions start at 12:00 for 2022/07/24 for example), so we need to be able to collect a list of the times at which we have data. "
   ]
  },
  {
   "cell_type": "markdown",
   "id": "b2fafb31-72eb-4468-b4dd-cdd8e811a044",
   "metadata": {},
   "source": [
    "### *collect_times*"
   ]
  },
  {
   "cell_type": "code",
   "execution_count": 4,
   "id": "dc2aef99-4bfc-493e-b59b-6e9f2d473a91",
   "metadata": {},
   "outputs": [],
   "source": [
    "def collect_times(date, directory):\n",
    "    \"\"\" Collect the earliest and latest acquisition times for a given date from file names. \"\"\"\n",
    "    prefix = f\"cls-abi-goes-global-hr_1d_{date}\"\n",
    "    files = [f for f in os.listdir(directory) if f.startswith(prefix)]\n",
    "    times = [f.split('_')[-1].split('.')[0] for f in files]  # Assumes files are named '..._HH-MM.nc'\n",
    "    if times:\n",
    "        return min(times), max(times)\n",
    "    return None"
   ]
  },
  {
   "cell_type": "markdown",
   "id": "ab9548f1-9c30-4226-b59b-6c4b9d50b818",
   "metadata": {},
   "source": [
    "### *save_aggregate*\n",
    "Because we've encountered bugs and stack overflow when we tried to modify the function of notebook 3 by adding an optional parameter (**output_filepath**=None), which if specified saves the figure instead of showing it (and removes the legend), we've decided instead to write a new function here **save_aggregate** that can also display the image."
   ]
  },
  {
   "cell_type": "code",
   "execution_count": 5,
   "id": "bc1dc050-f434-415e-8a9c-0daec7b77bfb",
   "metadata": {},
   "outputs": [],
   "source": [
    "def save_aggregate(aggregate_data, lat_range=None, lon_range=None, color=\"viridis\", vmax=0.001, threshold=0.0001, output_filepath=None, netcdf_filepath=None, filter_clouds=True, display=False):\n",
    "    # Select the desired subset\n",
    "    if lat_range:\n",
    "        aggregate_data = aggregate_data.sel(latitude=slice(*lat_range))\n",
    "    if lon_range:\n",
    "        aggregate_data = aggregate_data.sel(longitude=slice(*lon_range))\n",
    "\n",
    "    # If filtering clouds, set NaN values to zero\n",
    "    if filter_clouds:\n",
    "        aggregate_data = xr.where(np.isnan(aggregate_data), 0, aggregate_data)\n",
    "\n",
    "    # Set up a plot with geographic projections\n",
    "    fig, ax = plt.subplots(figsize=(12, 10), subplot_kw={'projection': ccrs.PlateCarree()})\n",
    "    \n",
    "    # Customize the map with coastlines and features\n",
    "    ax.coastlines(resolution='10m', color='black', visible=True)\n",
    "    ax.add_feature(cfeature.BORDERS, linestyle=':', visible=True)\n",
    "    ax.add_feature(cfeature.LAND, facecolor='lightgray', visible=True)\n",
    "\n",
    "    # Show gridlines only when visualizing interactively\n",
    "    if display:\n",
    "        gl = ax.gridlines(draw_labels=True, linewidth=1, color='gray', alpha=0.5, linestyle='--')\n",
    "        gl.top_labels = False\n",
    "        gl.right_labels = False\n",
    "        cbar_kwargs = {'shrink': 0.35}\n",
    "    else:\n",
    "        cbar_kwargs = None\n",
    "\n",
    "    # Plot the aggregate data with the specified color, vmax, and threshold\n",
    "    im = aggregate_data.plot(ax=ax, x='longitude', y='latitude', transform=ccrs.PlateCarree(),\n",
    "                             cmap=color, add_colorbar=display,\n",
    "                             vmin=threshold, vmax=vmax, cbar_kwargs=cbar_kwargs)\n",
    "\n",
    "    # Set title and colorbar only when visualizing interactively\n",
    "    if display:\n",
    "        im.colorbar.set_label('Aggregate Floating Algae Index (FAI)')\n",
    "        plot_date = aggregate_data.attrs.get('date', 'Unknown Date')\n",
    "        plt.title(f\"Aggregate Algae Distribution on {plot_date}\")\n",
    "        plt.show()\n",
    "\n",
    "    if output_filepath:\n",
    "        plt.savefig(output_filepath)  \n",
    "        plt.close(fig)\n",
    "\n",
    "    # Save the data as a NetCDF file if a filepath is provided\n",
    "    if netcdf_filepath:\n",
    "        # Create a new Dataset to include latitude and longitude\n",
    "        dataset = xr.Dataset({\n",
    "            'fai_anomaly': aggregate_data\n",
    "        }, coords={\n",
    "            'latitude': aggregate_data.latitude,\n",
    "            'longitude': aggregate_data.longitude\n",
    "        })\n",
    "        dataset.to_netcdf(netcdf_filepath)\n",
    "        plt.close(fig)"
   ]
  },
  {
   "cell_type": "markdown",
   "id": "eae94ba0-04c6-4e86-a620-19761912b5f8",
   "metadata": {},
   "source": [
    "We have the option to get the raw average (without the mask for the land) or to mask the land and we should test both images to see which is best for the OF algorithms."
   ]
  },
  {
   "cell_type": "markdown",
   "id": "85dc6aa7-20e7-4102-b29b-1691cb4e5ebc",
   "metadata": {},
   "source": [
    "### *process_dates*"
   ]
  },
  {
   "cell_type": "code",
   "execution_count": 5,
   "id": "4a52bd4d-b580-4d2b-b950-3075f3cf992c",
   "metadata": {},
   "outputs": [],
   "source": [
    "def process_dates(start_date, end_date, directory, output_dir, lat_range=None, lon_range=None, color=\"viridis\", save_image=True, save_netcdf=False):\n",
    "    # Create the output directory if it doesn't exist\n",
    "    os.makedirs(output_dir, exist_ok=True)\n",
    "    \n",
    "    # Convert the start and end dates from strings to datetime objects\n",
    "    current_date = datetime.strptime(start_date, '%Y%m%d')\n",
    "    end_date = datetime.strptime(end_date, '%Y%m%d')\n",
    "    \n",
    "    while current_date <= end_date:\n",
    "        # Format the current date as a string in 'YYYYMMDD' format\n",
    "        date_str = current_date.strftime('%Y%m%d')\n",
    "        \n",
    "        # Discover the start and end times of image acquisition on the current day by scanning the directory\n",
    "        times = collect_times(date_str, directory)\n",
    "        \n",
    "        if times:\n",
    "            # Create a list of timestamps for the day using the discovered start and end times\n",
    "            times_for_day = time_list(\n",
    "                datetime.strptime(date_str + '_' + times[0], '%Y%m%d_%H-%M'),\n",
    "                datetime.strptime(date_str + '_' + times[1], '%Y%m%d_%H-%M'), \n",
    "                10  # Interval between images in minutes\n",
    "            )\n",
    "            \n",
    "            # Calculate the median distribution of algae based on the list of timestamps\n",
    "            median_distribution = calculate_median(times_for_day, lat_range, lon_range)\n",
    "            \n",
    "            # Prepare the output file paths for the current day's visualization and NetCDF file\n",
    "            output_image_path = os.path.join(output_dir, f'algae_distribution_{date_str}.png') if save_image else None\n",
    "            output_netcdf_path = os.path.join(output_dir, f'algae_distribution_{date_str}.nc') if save_netcdf else None\n",
    "            \n",
    "            # Visualize the median algae distribution and save it as both an image and NetCDF file (if the optional parameters are provided)\n",
    "            save_aggregate(median_distribution, lat_range, lon_range, color=color, output_filepath=output_image_path, netcdf_filepath=output_netcdf_path, display=False)\n",
    "            \n",
    "            # Print a message indicating the completion of processing for the current date\n",
    "            print(f\"Processed and saved data for {date_str}\")\n",
    "\n",
    "        # Increment the current date by one day\n",
    "        current_date += timedelta(days=1)"
   ]
  },
  {
   "cell_type": "code",
   "execution_count": null,
   "id": "65fc9de9-92dc-4fe8-b29f-300562d18583",
   "metadata": {},
   "outputs": [],
   "source": [
    "# start_date = '20220723'\n",
    "# end_date = '20220724'\n",
    "# directory = '/media/yahia/ballena/CLS/abi-goes-global-hr' \n",
    "# output_directory = '/home/yahia/Documents/Jupyter/Sargassum/Images/Test/ABI_Averages' \n",
    "# lat_range = (12, 17)  \n",
    "# lon_range = (-67, -60) \n",
    "\n",
    "# # Call the function\n",
    "# process_dates(start_date, end_date, directory, output_directory, lat_range, lon_range, save_image=True, save_netcdf=True)"
   ]
  },
  {
   "cell_type": "markdown",
   "id": "1a463b6b-aeb8-403f-b1a9-cc7116100797",
   "metadata": {},
   "source": [
    "### Image Filters"
   ]
  },
  {
   "cell_type": "markdown",
   "id": "571c1bf9-5f8d-4c07-b546-6fdde84c5ede",
   "metadata": {},
   "source": [
    "#### *binarize_image*\n",
    "Binarizing the images (indicating the presence of algae by absolute black and the rest by white) might be beneficial for our Optical Flow algorithms."
   ]
  },
  {
   "cell_type": "code",
   "execution_count": 4,
   "id": "97fc3a38-712e-46dc-b2af-1b1b927c223b",
   "metadata": {},
   "outputs": [],
   "source": [
    "def binarize_image(image, threshold):\n",
    "    # Ensure the image is grayscale\n",
    "    if len(image.shape) == 3:\n",
    "        image = cv2.cvtColor(image, cv2.COLOR_BGR2GRAY)\n",
    "    # Apply binary thresholding\n",
    "    _, binary_image = cv2.threshold(image, threshold, 255, cv2.THRESH_BINARY)\n",
    "    return binary_image"
   ]
  },
  {
   "cell_type": "markdown",
   "id": "7677def9-8695-4a79-b5b7-20104acd5439",
   "metadata": {},
   "source": [
    "#### *filter_by_size*\n",
    "This function filters out the small sargassum aggregates which might be noise."
   ]
  },
  {
   "cell_type": "code",
   "execution_count": 38,
   "id": "4d4b7cf6-ce63-4ac3-bf68-42bbd850e37a",
   "metadata": {},
   "outputs": [],
   "source": [
    "def filter_by_size(image, size_threshold):\n",
    "    if len(image.shape) != 2:\n",
    "        image = cv2.cvtColor(image, cv2.COLOR_BGR2GRAY)\n",
    "\n",
    "    num_labels, labels, stats, centroids = cv2.connectedComponentsWithStats(image, connectivity=8)\n",
    "    valid_labels = [i for i in range(1, num_labels) if stats[i, cv2.CC_STAT_AREA] >= size_threshold]\n",
    "    \n",
    "    filtered_image = np.isin(labels, valid_labels).astype(np.uint8) * 255\n",
    "    return filtered_image"
   ]
  },
  {
   "cell_type": "markdown",
   "id": "f8c239ed-e143-40e6-bb26-ba9944e4af93",
   "metadata": {},
   "source": [
    "#### *adaptive_filter_by_size*\n",
    "Applies a different size threshold above a certain latitude (usually 30° N). This is done to filter more detections which are probably noise (in the north) and not filter out too much the the areas where there are genuine detections."
   ]
  },
  {
   "cell_type": "code",
   "execution_count": null,
   "id": "a8883e83-c0e4-49d4-be8f-ff39d48d3e50",
   "metadata": {},
   "outputs": [],
   "source": [
    "def adaptive_filter_by_size(dataset, base_threshold, higher_threshold, latitude_limit=30):\n",
    "    \"\"\"\n",
    "    Filters image components by size using xarray, applying a higher threshold for regions with latitude > 30.\n",
    "\n",
    "    Args:\n",
    "    dataset (xarray.Dataset): The input dataset containing the image data and latitude coordinate.\n",
    "    base_threshold (int): The base threshold for the area of connected components.\n",
    "    higher_threshold (int): The threshold for areas with latitude > latitude_limit.\n",
    "    latitude_limit (float): The latitude above which the higher threshold is applied.\n",
    "\n",
    "    Returns:\n",
    "    xarray.Dataset: The dataset with the image data filtered by size.\n",
    "    \"\"\"\n",
    "    # Ensure dataset has 'latitude' coordinate\n",
    "    if 'latitude' not in dataset.coords:\n",
    "        raise ValueError(\"Dataset must have 'latitude' as a coordinate\")\n",
    "\n",
    "    # Convert the data array to a numpy array\n",
    "    image = dataset.to_array().values.squeeze()\n",
    "\n",
    "    # Convert image to grayscale if it is not already\n",
    "    if len(image.shape) != 2:\n",
    "        image = cv2.cvtColor(image, cv2.COLOR_BGR2GRAY)\n",
    "\n",
    "    # Label the connected components\n",
    "    num_labels, labels, stats, _ = cv2.connectedComponentsWithStats(image.astype(np.uint8), connectivity=8)\n",
    "\n",
    "    # Create an empty array to store the filtered image\n",
    "    filtered_image = np.zeros_like(image, dtype=np.uint8)\n",
    "\n",
    "    # Iterate over each component\n",
    "    for i in range(1, num_labels):\n",
    "        # Component stats\n",
    "        _, y, _, h, area = stats[i]\n",
    "        # Determine the latitude at the component's centroid\n",
    "        centroid_latitude = dataset.latitude[y + h // 2].values\n",
    "\n",
    "        # Apply thresholds based on latitude\n",
    "        effective_threshold = higher_threshold if centroid_latitude > latitude_limit else base_threshold\n",
    "        if area >= effective_threshold:\n",
    "            filtered_image[labels == i] = 255\n",
    "\n",
    "    # Convert the numpy array back to an xarray DataArray\n",
    "    filtered_da = xr.DataArray(filtered_image, dims=dataset.dims, coords=dataset.coords)\n",
    "\n",
    "    return filtered_da"
   ]
  },
  {
   "cell_type": "markdown",
   "id": "83cd0323-537f-4eda-807f-d45db610fbd3",
   "metadata": {},
   "source": [
    "The following function is used to create a NetCDF that will be used for mask_coast. (One-time use)"
   ]
  },
  {
   "cell_type": "code",
   "execution_count": null,
   "id": "1d153e77-1087-488d-89d3-021529a461d4",
   "metadata": {},
   "outputs": [],
   "source": [
    "# def create_reduced_netcdf(input_file, output_file):\n",
    "#     # Load the original dataset\n",
    "#     ds = xr.open_dataset(input_file)\n",
    "    \n",
    "#     # Extract the latitude and longitude values from gphit and glamt\n",
    "#     latitude = ds['gphit'].values[:, 0]  # Assuming latitude varies along the first dimension\n",
    "#     longitude = ds['glamt'].values[0, :]  # Assuming longitude varies along the second dimension\n",
    "    \n",
    "#     # Ensure unique and sorted values for coordinates\n",
    "#     latitude = np.unique(latitude)\n",
    "#     longitude = np.unique(longitude)\n",
    "    \n",
    "#     # Create a new DataArray for Distcoast with the new coordinates\n",
    "#     distcoast = xr.DataArray(ds['Distcoast'].values, dims=('latitude', 'longitude'), coords={'latitude': latitude, 'longitude': longitude})\n",
    "    \n",
    "#     # Create a new dataset\n",
    "#     new_ds = xr.Dataset({'Distcoast': distcoast})\n",
    "    \n",
    "#     # Save the new dataset to a NetCDF file\n",
    "#     new_ds.to_netcdf(output_file)\n",
    "    \n",
    "#     return new_ds\n",
    "    \n",
    "# if __name__ == \"__main__\":\n",
    "#     input_file = \"/home/yahia/Documents/Jupyter/Sargassum/SARG12_distcoast.nc\"\n",
    "#     output_file = '/home/yahia/Documents/Jupyter/Sargassum/distcoast.nc'\n",
    "#     new_dataset = create_reduced_netcdf(input_file, output_file)\n",
    "#     print(new_dataset)"
   ]
  },
  {
   "cell_type": "markdown",
   "id": "44de316d-ca68-45a2-8707-bab6848602ef",
   "metadata": {},
   "source": [
    "#### *mask_coast*\n",
    "Function to filter detections that are close to the coast. Unlike the other functions, this one takes in a dataset as input not an image."
   ]
  },
  {
   "cell_type": "code",
   "execution_count": 39,
   "id": "359f187b-53e2-485b-a42d-d838b4c98e47",
   "metadata": {},
   "outputs": [],
   "source": [
    "def mask_coast(fai_dataset, distcoast_dataset_path='/home/yahia/Documents/Jupyter/Sargassum/Utilities/distcoast.nc', \n",
    "               threshold=5000, land_mask=True):\n",
    "    # Load the distance from coast dataset\n",
    "    distcoast_dataset = xr.open_dataset(distcoast_dataset_path)\n",
    "    dist_from_coast = distcoast_dataset['Distcoast']\n",
    "    \n",
    "    # Ensure fai_dataset has 'latitude' and 'longitude' coordinates\n",
    "    if 'latitude' not in fai_dataset.coords or 'longitude' not in fai_dataset.coords:\n",
    "        fai_dataset = fai_dataset.rename({'y': 'latitude', 'x': 'longitude'})\n",
    "    \n",
    "    # Interpolate the distance from coast data to match fai_dataset's coordinate grid\n",
    "    interpolated_dist_from_coast = dist_from_coast.interp(\n",
    "        latitude=fai_dataset.latitude, \n",
    "        longitude=fai_dataset.longitude, \n",
    "        method='nearest'\n",
    "    )\n",
    "    \n",
    "    # Define the boxes representing parts of North America\n",
    "    box1 = (fai_dataset.longitude >= -100) & (fai_dataset.longitude <= -72) & (fai_dataset.latitude >= 28) & (fai_dataset.latitude <= 40)\n",
    "    box2 = (fai_dataset.longitude >= -100) & (fai_dataset.longitude <= -79.68) & (fai_dataset.latitude >= 24) & (fai_dataset.latitude <= 28)\n",
    "    box3 = (fai_dataset.longitude >= -100) & (fai_dataset.longitude <= -86) & (fai_dataset.latitude >= 17) & (fai_dataset.latitude <= 24)\n",
    "    box4 = (fai_dataset.longitude >= -100) & (fai_dataset.longitude <= -79) & (fai_dataset.latitude >= 12) & (fai_dataset.latitude <= 17)\n",
    "    \n",
    "    # Combine the boxes into a single mask where True means it's within the NA boxes\n",
    "    na_mask = box1 | box2 | box3 | box4\n",
    "    \n",
    "    # Mask where the distance is greater than or equal to the threshold OR outside NA boxes\n",
    "    mask = (interpolated_dist_from_coast >= threshold) | ~na_mask\n",
    "    \n",
    "    # Optionally set land (distcoast == 0) to NaN\n",
    "    if land_mask:\n",
    "        land_mask = interpolated_dist_from_coast == 0\n",
    "        interpolated_dist_from_coast = interpolated_dist_from_coast.where(~land_mask, other=np.nan)\n",
    "        # Apply the mask to keep original values where the mask is True or set to 0 where False, and NaN for land\n",
    "        masked_fai_dataset = fai_dataset.where(mask, other=0)\n",
    "        masked_fai_dataset = masked_fai_dataset.where(~land_mask, other=np.nan)\n",
    "    else:\n",
    "        # Apply the mask without considering the land explicitly\n",
    "        masked_fai_dataset = fai_dataset.where(mask, other=0)\n",
    "    \n",
    "    return masked_fai_dataset"
   ]
  },
  {
   "cell_type": "markdown",
   "id": "7bcef2af-1095-4b1b-a094-4f6073dfa1f4",
   "metadata": {},
   "source": [
    "### *process_netCDF*\n",
    "Takes as input a netCDF file and applies the wanted filters to it and outputs another netCDF file."
   ]
  },
  {
   "cell_type": "code",
   "execution_count": 5,
   "id": "1bffb316-6eb1-4347-b038-28e71b1be36e",
   "metadata": {},
   "outputs": [],
   "source": [
    "def process_netCDF(\n",
    "    source_path, dest_path=None, threshold=1, binarize=False, \n",
    "    filter_small=False, size_threshold=50, \n",
    "    coast_mask=False, coast_threshold=5000, land_mask=False,\n",
    "    adaptive_small=False, base_threshold=15, higher_threshold=50, latitude_limit=30):\n",
    "    \n",
    "    # Read the NetCDF file\n",
    "    dataset = xr.open_dataset(source_path)\n",
    "    \n",
    "    # Extract the only variable in the dataset\n",
    "    variable_name = list(dataset.data_vars)[0]\n",
    "    data = dataset[variable_name].values\n",
    "\n",
    "    # Ensure the data is 2D (grayscale image)\n",
    "    if len(data.shape) == 3:\n",
    "        data = data[0]  # Assuming the data is 3D and taking the first slice\n",
    "    \n",
    "    # Convert the data to an 8-bit image\n",
    "    image = cv2.normalize(data, None, 0, 255, cv2.NORM_MINMAX, cv2.CV_8U)\n",
    "    \n",
    "    # Apply binary thresholding if required\n",
    "    if binarize:\n",
    "        image = binarize_image(image, threshold)\n",
    "\n",
    "    # Filter small components if required\n",
    "    if filter_small:\n",
    "        image = filter_by_size(image, size_threshold)\n",
    "\n",
    "    # Convert image back to data array for further processing\n",
    "    processed_data = xr.DataArray(image, dims=dataset[variable_name].dims, coords=dataset[variable_name].coords)\n",
    "\n",
    "    # Reconstruct dataset with processed data for applying coastal mask\n",
    "    processed_dataset = xr.Dataset({variable_name: processed_data})\n",
    "\n",
    "    if adaptive_small:\n",
    "        processed_dataset = adaptive_filter_by_size(processed_dataset, base_threshold=base_threshold, higher_threshold=higher_threshold, latitude_limit=latitude_limit)\n",
    "    \n",
    "    # Apply coastal mask if required (the else clause is to allow application of land_mask without coast_mask)\n",
    "    if coast_mask:\n",
    "        processed_dataset = mask_coast(processed_dataset, threshold=coast_threshold, land_mask=land_mask)\n",
    "\n",
    "    else:\n",
    "        processed_dataset = mask_coast(processed_dataset, threshold=0, land_mask=land_mask)\n",
    "\n",
    "    # Save the processed data back to a new NetCDF file only if dest_path is specified\n",
    "    if dest_path:\n",
    "        processed_dataset.to_netcdf(dest_path)\n",
    "\n",
    "    return processed_dataset"
   ]
  },
  {
   "cell_type": "code",
   "execution_count": null,
   "id": "c0e39aaf-7480-4bab-bb89-1e91a9af0c60",
   "metadata": {},
   "outputs": [],
   "source": [
    "# Atlantic Average\n",
    "if __name__ == \"__main__\":\n",
    "    # Paths\n",
    "    source_path = \"/media/yahia/ballena/ABI/NetCDF/Atlantic/Averages/algae_distribution_20220723.nc\"\n",
    "    dest_path = '/home/yahia/Documents/Jupyter/Sargassum/Images/Test/Filtered_20220723.nc'\n",
    "    \n",
    "    # Process the directory\n",
    "    process_netCDF(source_path, dest_path, threshold=1, bilateral=False, binarize=True, negative=False, \n",
    "                   filter_small=False, size_threshold=10, land_mask=False, coast_mask=False, coast_threshold=50000,\n",
    "                   adaptive=False, adaptive_base_threshold=25, window_size=30, density_scale_factor=1.5,\n",
    "                   adaptive_small=True, base_threshold=15, higher_threshold=10000, latitude_limit=30)\n",
    "    # NOTE: if you get permission denied, don't forget to close ncviewer first"
   ]
  },
  {
   "cell_type": "markdown",
   "id": "34b4c36b-c8ad-4d56-9dd2-d114a297d47c",
   "metadata": {},
   "source": [
    "Saving the result as a NetCDF with two variables (fai_anomaly and filtered)."
   ]
  },
  {
   "cell_type": "markdown",
   "id": "fa9305d7-7e20-4bf5-8f87-513435270172",
   "metadata": {},
   "source": [
    "### *process_directory_netCDF*\n",
    "Processes all the netCDF file in a given directory by calling the process_netCDF function on each one."
   ]
  },
  {
   "cell_type": "code",
   "execution_count": 40,
   "id": "1eb0e1db-f3a1-46fb-bff9-0ee952382d4e",
   "metadata": {},
   "outputs": [],
   "source": [
    "def process_directory_netCDF(\n",
    "    source_dir, dest_dir, threshold=9, binarize=False, \n",
    "    filter_small=False, size_threshold=50, \n",
    "    coast_mask=False, coast_threshold=5000, land_mask=False,\n",
    "    adaptive_small=False, base_threshold=15, higher_threshold=50, latitude_limit=30):\n",
    "    \n",
    "    # Ensure the destination directory exists\n",
    "    if not os.path.exists(dest_dir):\n",
    "        os.makedirs(dest_dir)\n",
    "\n",
    "    # Iterate over all files in the source directory\n",
    "    for filename in os.listdir(source_dir):\n",
    "        if filename.endswith('.nc'):\n",
    "            # Original NetCDF file path\n",
    "            source_path = os.path.join(source_dir, filename)\n",
    "            \n",
    "            # New filename with 'Processed' prefix\n",
    "            new_filename = 'Processed_' + filename\n",
    "            \n",
    "            # Define the output path for the processed NetCDF file\n",
    "            dest_path = os.path.join(dest_dir, new_filename)\n",
    "            \n",
    "            # Process the NetCDF file\n",
    "            process_netCDF(\n",
    "                source_path, dest_path, threshold, bilateral, binarize, \n",
    "                negative, filter_small, opened, kernel_size, size_threshold, median, \n",
    "                coast_mask, coast_threshold, land_mask, adaptive, adaptive_base_threshold, \n",
    "                window_size, density_scale_factor, adaptive_small, base_threshold, \n",
    "                higher_threshold, latitude_limit\n",
    "            )"
   ]
  },
  {
   "cell_type": "code",
   "execution_count": 45,
   "id": "688ee7f1-07e3-439a-bbfb-6e22ea3d8fa1",
   "metadata": {},
   "outputs": [],
   "source": [
    "if __name__ == '__main__':\n",
    "    source_dir = '/home/yahia/Documents/Jupyter/Sargassum/Images/Sub-Daily'\n",
    "    dest_dir = '/home/yahia/Documents/Jupyter/Sargassum/Images/Sub-Daily/Binarized'\n",
    "    process_directory_netCDF(source_dir, dest_dir, threshold=1, bilateral=False, binarize=True, negative=False, filter_small=True, size_threshold=15)"
   ]
  }
 ],
 "metadata": {
  "kernelspec": {
   "display_name": "Python 3 (ipykernel)",
   "language": "python",
   "name": "python3"
  },
  "language_info": {
   "codemirror_mode": {
    "name": "ipython",
    "version": 3
   },
   "file_extension": ".py",
   "mimetype": "text/x-python",
   "name": "python",
   "nbconvert_exporter": "python",
   "pygments_lexer": "ipython3",
   "version": "3.11.7"
  }
 },
 "nbformat": 4,
 "nbformat_minor": 5
}
