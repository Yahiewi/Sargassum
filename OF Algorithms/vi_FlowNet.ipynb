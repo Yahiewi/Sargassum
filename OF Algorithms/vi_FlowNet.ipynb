{
 "cells": [
  {
   "cell_type": "markdown",
   "id": "8d6d4bba-1f2d-492b-aafb-dbf21a6e87ef",
   "metadata": {},
   "source": [
    "# FlowNet\n",
    "A deep learning approach that uses a convolutional neural network to learn optical flow estimation from synthetic training data. FlowNet is designed to predict optical flow in a single forward pass, making it faster than traditional iterative methods but still moderate in terms of speed and computation."
   ]
  },
  {
   "cell_type": "markdown",
   "id": "0acd7d65-fb51-415c-8134-d5b4d813571e",
   "metadata": {},
   "source": [
    "## Importing necessary libraries and notebooks"
   ]
  },
  {
   "cell_type": "code",
   "execution_count": null,
   "id": "7e5d3c33-2896-4274-b59a-69dcd72bd1ce",
   "metadata": {},
   "outputs": [],
   "source": [
    "import xarray as xr\n",
    "import io\n",
    "import os\n",
    "import cv2\n",
    "import imageio\n",
    "import matplotlib.pyplot as plt\n",
    "import matplotlib.colors as colors\n",
    "import numpy as np\n",
    "import cartopy.crs as ccrs\n",
    "import cartopy.feature as cfeature\n",
    "from datetime import datetime, timedelta\n",
    "from matplotlib import ticker\n",
    "from IPython.display import Image, display\n",
    "from PIL import Image as PILImage\n",
    "\n",
    "# Append the parent directory (Sargassum) to the system path\n",
    "sys.path.append(os.path.abspath(os.path.join(os.getcwd(), os.pardir)))\n",
    "# Import the other notebooks without running their cells\n",
    "from ii_Data_Manipulation import visualize_4\n",
    "from iii_GOES_average import time_list, visualize_aggregate, calculate_median\n",
    "from iv_Image_Processing import collect_times, crop_image, save_aggregate, binarize_image, bilateral_image, process_dates, process_directory\n",
    "from v_i_OF_Functions import *"
   ]
  },
  {
   "cell_type": "code",
   "execution_count": null,
   "id": "508999d1-1af5-450e-859c-0e9ba3cd0d4e",
   "metadata": {},
   "outputs": [],
   "source": [
    "import torch\n",
    "import numpy as np\n",
    "import cv2\n",
    "from PIL import Image\n",
    "import matplotlib.pyplot as plt\n",
    "import sys\n",
    "import os0\n",
    "\n",
    "sys.path.append('flownet2-pytorch')\n",
    "\n",
    "from models import FlowNet2  # the path is depended on where you create this module\n",
    "from utils.frame_utils import read_gen  # the path is depended on where you create this module\n",
    "from utils.flow_utils import flow2img\n",
    "\n",
    "# Load FlowNet2 model\n",
    "def load_flownet2():\n",
    "    model = FlowNet2()\n",
    "    checkpoint = torch.load('FlowNet2_checkpoint.pth.tar')\n",
    "    model.load_state_dict(checkpoint['state_dict'])\n",
    "    model = model.cuda()\n",
    "    model.eval()\n",
    "    return model\n",
    "\n",
    "# Preprocess images\n",
    "def preprocess_image(image_path):\n",
    "    img = read_gen(image_path)\n",
    "    img = img.astype(np.float32).transpose(2, 0, 1)\n",
    "    img = torch.from_numpy(img).unsqueeze(0).cuda()\n",
    "    return img\n",
    "\n",
    "# Compute optical flow\n",
    "def compute_flow(model, img1, img2):\n",
    "    with torch.no_grad():\n",
    "        result = model(img1, img2)\n",
    "    flow = result[0].cpu().data.numpy().transpose(1, 2, 0)\n",
    "    return flow\n",
    "\n",
    "# Plot flow vectors\n",
    "def plot_flow_vectors(flow, img, step=16, scale=1.25):\n",
    "    h, w = flow.shape[:2]\n",
    "    y, x = np.mgrid[step/2:h:step, step/2:w:step].astype(int)\n",
    "    fx, fy = flow[y, x].T\n",
    "\n",
    "    plt.figure(figsize=(10, 10))\n",
    "    plt.imshow(img)\n",
    "    plt.quiver(x, y, fx, fy, color='r', scale=scale, width=0.002, headwidth=3, headlength=4)\n",
    "    plt.show()\n",
    "\n",
    "# Main function\n",
    "if __name__ == \"__main__\":\n",
    "    model = load_flownet2()\n",
    "\n",
    "    img1_path = \"/path/to/first/image.png\"\n",
    "    img2_path = \"/path/to/second/image.png\"\n",
    "\n",
    "    img1 = preprocess_image(img1_path)\n",
    "    img2 = preprocess_image(img2_path)\n",
    "\n",
    "    flow = compute_flow(model, img1, img2)\n",
    "\n",
    "    img1_display = cv2.cvtColor(cv2.imread(img1_path), cv2.COLOR_BGR2RGB)\n",
    "    plot_flow_vectors(flow, img1_display)\n"
   ]
  }
 ],
 "metadata": {
  "kernelspec": {
   "display_name": "Python 3 (ipykernel)",
   "language": "python",
   "name": "python3"
  },
  "language_info": {
   "codemirror_mode": {
    "name": "ipython",
    "version": 3
   },
   "file_extension": ".py",
   "mimetype": "text/x-python",
   "name": "python",
   "nbconvert_exporter": "python",
   "pygments_lexer": "ipython3",
   "version": "3.11.7"
  }
 },
 "nbformat": 4,
 "nbformat_minor": 5
}
