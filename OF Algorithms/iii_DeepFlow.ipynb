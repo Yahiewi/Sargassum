{
 "cells": [
  {
   "cell_type": "markdown",
   "id": "d6b972d4-ce2f-4f5b-a6cc-af68768f2315",
   "metadata": {},
   "source": [
    "# DeepFlow\n",
    "A method that combines a traditional variational approach with deep learning-based matching (using a CNN). It's particularly effective at capturing large displacements, which makes it robust in complex, real-world scenes."
   ]
  },
  {
   "cell_type": "markdown",
   "id": "c39db880-2308-443c-a6d4-39ce8d51a970",
   "metadata": {},
   "source": [
    "## Importing necessary libraries and notebooks"
   ]
  },
  {
   "cell_type": "code",
   "execution_count": null,
   "id": "4bd206d0-a880-4db9-8736-47b13ca7b7e9",
   "metadata": {},
   "outputs": [],
   "source": [
    "import xarray as xr\n",
    "import io\n",
    "import os\n",
    "import cv2\n",
    "import imageio\n",
    "import matplotlib.pyplot as plt\n",
    "import matplotlib.colors as colors\n",
    "import numpy as np\n",
    "import cartopy.crs as ccrs\n",
    "import cartopy.feature as cfeature\n",
    "from datetime import datetime, timedelta\n",
    "from matplotlib import ticker\n",
    "from IPython.display import Image, display\n",
    "from PIL import Image as PILImage\n",
    "import plotly.graph_objects as go\n",
    "from plotly.subplots import make_subplots\n",
    "\n",
    "# Append the parent directory (Sargassum) to the system path\n",
    "sys.path.append(os.path.abspath(os.path.join(os.getcwd(), os.pardir)))\n",
    "# Import the other notebooks without running their cells\n",
    "from ii_Data_Manipulation import visualize_4\n",
    "from iii_GOES_average import time_list, visualize_aggregate, calculate_median\n",
    "from iv_Image_Processing import collect_times, crop_image, save_aggregate, binarize_image, bilateral_image, process_dates, process_directory\n",
    "from v_i_OF_Functions import *"
   ]
  },
  {
   "cell_type": "markdown",
   "id": "b6dc4047-b821-4abb-a1cb-b5ef48ed6304",
   "metadata": {},
   "source": [
    "## DeepFlow Algorithm"
   ]
  },
  {
   "cell_type": "code",
   "execution_count": null,
   "id": "1bf1e947-bfa8-4812-acaa-ee080559d396",
   "metadata": {},
   "outputs": [],
   "source": [
    "def deepflow(prev_img, next_img):\n",
    "    prev_gray = cv2.cvtColor(prev_img, cv2.COLOR_BGR2GRAY)\n",
    "    next_gray = cv2.cvtColor(next_img, cv2.COLOR_BGR2GRAY)\n",
    "    \n",
    "    # Initialize DeepFlow\n",
    "    deep_flow = cv2.optflow.createOptFlow_DeepFlow()\n",
    "    \n",
    "    # Compute flow\n",
    "    flow = deep_flow.calc(prev_gray, next_gray, None)\n",
    "    \n",
    "    return flow"
   ]
  },
  {
   "cell_type": "markdown",
   "id": "3edd29cb-a33e-4425-a6e3-1d50fb349f4b",
   "metadata": {},
   "source": [
    "### 23/07 - 24/07"
   ]
  },
  {
   "cell_type": "code",
   "execution_count": null,
   "id": "a07ffa29-04ad-4ca4-b283-18e34d7ec006",
   "metadata": {},
   "outputs": [],
   "source": [
    "if __name__ == '__main__':\n",
    "    # Binarized (negative)\n",
    "    prev_img = cv2.imread(\"/media/yahia/ballena/ABI/ABI_Averages_Antilles_Binarized_Bilateral_Negative/Processed_algae_distribution_20220723.png\")\n",
    "    next_img = cv2.imread(\"/media/yahia/ballena/ABI/ABI_Averages_Antilles_Binarized_Bilateral_Negative/Processed_algae_distribution_20220724.png\")\n",
    "    flow = deepflow(prev_img, next_img)\n",
    "    plot_flow_vectors(flow, prev_img, step=16, scale=1.25)\n",
    "    # GIF\n",
    "    # THIS SHOULD BE FIXED: The GIF function we wrote gives an inverted GIF so we have to invert next_img and prev_img and then reverse the interpolated_images list.\n",
    "    interpolated_images = interpolate_images(next_img, prev_img, flow, num_interpolations=60)\n",
    "    interpolated_images.reverse()\n",
    "    visualize_movement(interpolated_images, fps=30)\n",
    "    \n",
    "    # Viridis\n",
    "    prev_img = cv2.imread(\"/home/yahia/Documents/Jupyter/Sargassum/Images/ABI_Averages_Processed_Viridis/Processed_algae_distribution_20220723.png\")\n",
    "    next_img = cv2.imread(\"/home/yahia/Documents/Jupyter/Sargassum/Images/ABI_Averages_Processed_Viridis/Processed_algae_distribution_20220724.png\")\n",
    "    flow = deepflow(prev_img, next_img)\n",
    "    plot_flow_vectors(flow, prev_img, step=16, scale=1.25)\n",
    "    # GIF\n",
    "    # THIS SHOULD BE FIXED: The GIF function we wrote gives an inverted GIF so we have to invert next_img and prev_img and then reverse the interpolated_images list.\n",
    "    interpolated_images = interpolate_images(next_img, prev_img, flow, num_interpolations=60)\n",
    "    interpolated_images.reverse()\n",
    "    visualize_movement(interpolated_images, fps=30)"
   ]
  },
  {
   "cell_type": "markdown",
   "id": "6d6734ce-62b5-4e9d-b0ca-4670d93eb29d",
   "metadata": {},
   "source": [
    "### 05/18 - 05/19"
   ]
  },
  {
   "cell_type": "code",
   "execution_count": null,
   "id": "027d03d5-d151-44d7-9e40-c41a0fea0d75",
   "metadata": {},
   "outputs": [],
   "source": [
    "if __name__ == '__main__':\n",
    "    # Binarized (negative)\n",
    "    prev_img = cv2.imread(\"/media/yahia/ballena/ABI/ABI_Averages_Antilles_Binarized_Bilateral_Negative/Processed_algae_distribution_20220518.png\")\n",
    "    next_img = cv2.imread(\"/media/yahia/ballena/ABI/ABI_Averages_Antilles_Binarized_Bilateral_Negative/Processed_algae_distribution_20220519.png\")\n",
    "    flow = deepflow(prev_img, next_img)\n",
    "    plot_flow_vectors(flow, prev_img, step=16, scale=1.25)\n",
    "    # GIF\n",
    "    # THIS SHOULD BE FIXED: The GIF function we wrote gives an inverted GIF so we have to invert next_img and prev_img and then reverse the interpolated_images list.\n",
    "    interpolated_images = interpolate_images(next_img, prev_img, flow, num_interpolations=60)\n",
    "    interpolated_images.reverse()\n",
    "    visualize_movement(interpolated_images, fps=30)\n",
    "    \n",
    "    # Viridis\n",
    "    prev_img = cv2.imread(\"/media/yahia/ballena/ABI/ABI_Averages_Antilles_Processed/Processed_algae_distribution_20220518.png\")\n",
    "    next_img = cv2.imread(\"/media/yahia/ballena/ABI/ABI_Averages_Antilles_Processed/Processed_algae_distribution_20220519.png\")\n",
    "    flow = deepflow(prev_img, next_img)\n",
    "    plot_flow_vectors(flow, prev_img, step=16, scale=1.25)\n",
    "    # GIF\n",
    "    # THIS SHOULD BE FIXED: The GIF function we wrote gives an inverted GIF so we have to invert next_img and prev_img and then reverse the interpolated_images list.\n",
    "    interpolated_images = interpolate_images(next_img, prev_img, flow, num_interpolations=60)\n",
    "    interpolated_images.reverse()\n",
    "    visualize_movement(interpolated_images, fps=30)"
   ]
  },
  {
   "cell_type": "markdown",
   "id": "53ecc93c-30cd-4897-ab7f-1b4272063ef3",
   "metadata": {},
   "source": [
    "### 05/21 - 05/22"
   ]
  },
  {
   "cell_type": "code",
   "execution_count": null,
   "id": "b9c8ce94-5263-4ef4-b47a-008f2dc53007",
   "metadata": {},
   "outputs": [],
   "source": [
    "if __name__ == '__main__':\n",
    "    # Binarized (negative)\n",
    "    prev_img = cv2.imread(\"/media/yahia/ballena/ABI/ABI_Averages_Antilles_Binarized_Bilateral_Negative/Processed_algae_distribution_20220521.png\")\n",
    "    next_img = cv2.imread(\"/media/yahia/ballena/ABI/ABI_Averages_Antilles_Binarized_Bilateral_Negative/Processed_algae_distribution_20220522.png\")\n",
    "    flow = deepflow(prev_img, next_img)\n",
    "    plot_flow_vectors(flow, prev_img, step=16, scale=1.25)\n",
    "    # Viridis\n",
    "    prev_img = cv2.imread(\"/media/yahia/ballena/ABI/ABI_Averages_Antilles_Processed/Processed_algae_distribution_20220521.png\")\n",
    "    next_img = cv2.imread(\"/media/yahia/ballena/ABI/ABI_Averages_Antilles_Processed/Processed_algae_distribution_20220522.png\")\n",
    "    flow = deepflow(prev_img, next_img)\n",
    "    plot_flow_vectors(flow, prev_img, step=16, scale=1.25)\n",
    "    # GIF\n",
    "    # THIS SHOULD BE FIXED: The GIF function we wrote gives an inverted GIF so we have to invert next_img and prev_img and then reverse the interpolated_images list.\n",
    "    interpolated_images = interpolate_images(next_img, prev_img, flow, num_interpolations=60)\n",
    "    interpolated_images.reverse()\n",
    "    visualize_movement(interpolated_images, fps=30)"
   ]
  },
  {
   "cell_type": "markdown",
   "id": "918ffd34-83f7-4b98-8b92-2685e381f294",
   "metadata": {},
   "source": [
    "### 07/03 - 07/04"
   ]
  },
  {
   "cell_type": "code",
   "execution_count": null,
   "id": "cba54e60-dc1e-4725-bebd-36aca55c4361",
   "metadata": {},
   "outputs": [],
   "source": [
    "if __name__ == '__main__':\n",
    "    # Binarized (negative)\n",
    "    prev_img = cv2.imread(\"/media/yahia/ballena/ABI/ABI_Averages_Antilles_Binarized_Bilateral_Negative/Processed_algae_distribution_20220703.png\")\n",
    "    next_img = cv2.imread(\"/media/yahia/ballena/ABI/ABI_Averages_Antilles_Binarized_Bilateral_Negative/Processed_algae_distribution_20220704.png\")\n",
    "    flow = deepflow(prev_img, next_img)\n",
    "    plot_flow_vectors(flow, prev_img, step=16, scale=1.25)\n",
    "    # GIF\n",
    "    # THIS SHOULD BE FIXED: The GIF function we wrote gives an inverted GIF so we have to invert next_img and prev_img and then reverse the interpolated_images list.\n",
    "    interpolated_images = interpolate_images(next_img, prev_img, flow, num_interpolations=60)\n",
    "    interpolated_images.reverse()\n",
    "    visualize_movement(interpolated_images, fps=30)\n",
    "    # Viridis\n",
    "    prev_img = cv2.imread(\"/media/yahia/ballena/ABI/ABI_Averages_Antilles_Processed/Processed_algae_distribution_20220703.png\")\n",
    "    next_img = cv2.imread(\"/media/yahia/ballena/ABI/ABI_Averages_Antilles_Processed/Processed_algae_distribution_20220704.png\")\n",
    "    flow = deepflow(prev_img, next_img)\n",
    "    plot_flow_vectors(flow, prev_img, step=16, scale=1.25)\n",
    "    # GIF\n",
    "    # THIS SHOULD BE FIXED: The GIF function we wrote gives an inverted GIF so we have to invert next_img and prev_img and then reverse the interpolated_images list.\n",
    "    interpolated_images = interpolate_images(next_img, prev_img, flow, num_interpolations=60)\n",
    "    interpolated_images.reverse()\n",
    "    visualize_movement(interpolated_images, fps=30)"
   ]
  },
  {
   "cell_type": "markdown",
   "id": "5428aaf1-4b1e-40e1-9fb5-2582db4670ee",
   "metadata": {},
   "source": [
    "### 07/13 - 07/14"
   ]
  },
  {
   "cell_type": "code",
   "execution_count": null,
   "id": "f187d684-68bb-49e6-ae08-3985621f10a4",
   "metadata": {},
   "outputs": [],
   "source": [
    "if __name__ == '__main__':\n",
    "    # Binarized (negative)\n",
    "    prev_img = cv2.imread(\"/media/yahia/ballena/ABI/ABI_Averages_Antilles_Binarized_Bilateral_Negative/Processed_algae_distribution_20220713.png\")\n",
    "    next_img = cv2.imread(\"/media/yahia/ballena/ABI/ABI_Averages_Antilles_Binarized_Bilateral_Negative/Processed_algae_distribution_20220714.png\")\n",
    "    flow = deepflow(prev_img, next_img)\n",
    "    plot_flow_vectors(flow, prev_img, step=16, scale=1.25)\n",
    "    # Viridis\n",
    "    prev_img = cv2.imread(\"/media/yahia/ballena/ABI/ABI_Averages_Antilles_Processed/Processed_algae_distribution_20220713.png\")\n",
    "    next_img = cv2.imread(\"/media/yahia/ballena/ABI/ABI_Averages_Antilles_Processed/Processed_algae_distribution_20220714.png\")\n",
    "    flow = deepflow(prev_img, next_img)\n",
    "    plot_flow_vectors(flow, prev_img, step=16, scale=1.25)"
   ]
  },
  {
   "cell_type": "markdown",
   "id": "eb7a180c-41ba-4bd6-a773-783b2186edec",
   "metadata": {},
   "source": [
    "## Zoom"
   ]
  },
  {
   "cell_type": "code",
   "execution_count": null,
   "id": "7a939c99-fb7e-4df4-8293-77eae0489646",
   "metadata": {},
   "outputs": [],
   "source": [
    "if __name__ == '__main__':\n",
    "    # Viridis\n",
    "    prev_img = cv2.imread(\"/media/yahia/ballena/ABI/Spiral/ABI_Averages_Spiral_Processed/Processed_algae_distribution_20220723.png\")\n",
    "    next_img = cv2.imread(\"/media/yahia/ballena/ABI/Spiral/ABI_Averages_Spiral_Processed/Processed_algae_distribution_20220724.png\")\n",
    "    flow = deepflow(prev_img, next_img)\n",
    "    plot_flow_vectors(flow, prev_img, step=16, scale=1.25)\n",
    "    # GIF\n",
    "    # THIS SHOULD BE FIXED: The GIF function we wrote gives an inverted GIF so we have to invert next_img and prev_img and then reverse the interpolated_images list.\n",
    "    interpolated_images = interpolate_images(next_img, prev_img, flow, num_interpolations=60)\n",
    "    interpolated_images.reverse()\n",
    "    visualize_movement(interpolated_images, fps=30)\n",
    "    # Binarized\n",
    "    prev_img = cv2.imread(\"/media/yahia/ballena/ABI/Spiral/ABI_Averages_Spiral_Binarized_Bilateral/Processed_algae_distribution_20220723.png\")\n",
    "    next_img = cv2.imread(\"/media/yahia/ballena/ABI/Spiral/ABI_Averages_Spiral_Binarized_Bilateral/Processed_algae_distribution_20220724.png\")\n",
    "    flow = deepflow(prev_img, next_img)\n",
    "    plot_flow_vectors(flow, prev_img, step=16, scale=1.25)\n",
    "    # GIF\n",
    "    # THIS SHOULD BE FIXED: The GIF function we wrote gives an inverted GIF so we have to invert next_img and prev_img and then reverse the interpolated_images list.\n",
    "    interpolated_images = interpolate_images(next_img, prev_img, flow, num_interpolations=60)\n",
    "    interpolated_images.reverse()\n",
    "    visualize_movement(interpolated_images, fps=30)"
   ]
  }
 ],
 "metadata": {
  "kernelspec": {
   "display_name": "Python 3 (ipykernel)",
   "language": "python",
   "name": "python3"
  },
  "language_info": {
   "codemirror_mode": {
    "name": "ipython",
    "version": 3
   },
   "file_extension": ".py",
   "mimetype": "text/x-python",
   "name": "python",
   "nbconvert_exporter": "python",
   "pygments_lexer": "ipython3",
   "version": "3.11.7"
  }
 },
 "nbformat": 4,
 "nbformat_minor": 5
}
