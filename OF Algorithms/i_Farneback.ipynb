{
 "cells": [
  {
   "cell_type": "markdown",
   "id": "4ce7616d-a1d2-475f-90b3-edaedbf95aa5",
   "metadata": {},
   "source": [
    "# Farnebäck"
   ]
  },
  {
   "cell_type": "markdown",
   "id": "f4b9a2b9-a2ce-4d76-8cae-af5a8f265e10",
   "metadata": {},
   "source": [
    "In this notebook, we're going to test out the Farnebäck method with different parameters and on different images to try and find the best parameters for this method.\n",
    "\n",
    "The Farnebäck method uses polynomial expansion to model the local image intensities and their changes between two frames. It approximates each pixel neighborhood with a quadratic polynomial and calculates the displacement vectors by comparing these models across consecutive frames."
   ]
  },
  {
   "cell_type": "markdown",
   "id": "c5a7841c-193c-4506-bcb8-b0a928e43d5f",
   "metadata": {},
   "source": [
    "## Importing necessary libraries and notebooks"
   ]
  },
  {
   "cell_type": "code",
   "execution_count": null,
   "id": "24ef053d-26bc-4fe6-bec1-8e96469f4648",
   "metadata": {},
   "outputs": [],
   "source": [
    "import xarray as xr\n",
    "import io\n",
    "import os\n",
    "import cv2\n",
    "import imageio\n",
    "import matplotlib.pyplot as plt\n",
    "import matplotlib.colors as colors\n",
    "import numpy as np\n",
    "import cartopy.crs as ccrs\n",
    "import cartopy.feature as cfeature\n",
    "from datetime import datetime, timedelta\n",
    "from matplotlib import ticker\n",
    "from IPython.display import Image, display\n",
    "from PIL import Image as PILImage\n",
    "\n",
    "\n",
    "# Append the parent directory (Sargassum) to the system path\n",
    "sys.path.append(os.path.abspath(os.path.join(os.getcwd(), os.pardir)))\n",
    "# Import the other notebooks without running their cells\n",
    "from ii_Data_Manipulation import visualize_4\n",
    "from iii_GOES_average import time_list, visualize_aggregate, calculate_median\n",
    "from iv_Image_Processing import collect_times, crop_image, save_aggregate, binarize_image, bilateral_image, process_dates, process_directory\n",
    "from v_i_OF_Functions import *"
   ]
  },
  {
   "cell_type": "markdown",
   "id": "5528e575-fb88-430a-b785-69a60a8daba2",
   "metadata": {},
   "source": [
    "## Farneback_flow"
   ]
  },
  {
   "cell_type": "code",
   "execution_count": null,
   "id": "06098d60-b1cf-4f55-9a0d-89a6597fbe72",
   "metadata": {},
   "outputs": [],
   "source": [
    "def farneback(prev_img, next_img, flow = None, pyr_scale=0.5, levels=3, winsize=15, \n",
    "        iterations=3, poly_n=5, poly_sigma=1.2, flags=0):\n",
    "    \"\"\"\n",
    "    Returns:\n",
    "    - flow : np.ndarray\n",
    "        The computed flow image that will have the same size as `prev_img` and\n",
    "        type CV_32FC2. Each element of the flow matrix will be a vector that\n",
    "        indicates the displacement (in pixels) of the corresponding pixel from\n",
    "        the first image to the second image.\n",
    "\n",
    "    Method Parameters:\n",
    "    - flow : np.ndarray\n",
    "        Optional input flow estimate. It must be a single precision floating point\n",
    "        image with the same size as `prev_img`. If provided, the function uses it as\n",
    "        an initial approximation of the flow. If None, the function estimates the flow\n",
    "        from scratch.\n",
    "    - pyr_scale : float\n",
    "        The image scale (<1) to build pyramids for each image; pyr_scale=0.5\n",
    "        means a classical pyramid, where each next layer is twice smaller than\n",
    "        the previous one.\n",
    "    - levels : int\n",
    "        The number of pyramid layers including the initial image. Levels=1\n",
    "        means that no extra layers are created and only the original images are used.\n",
    "    - winsize : int\n",
    "        The size of the window used to smooth derivatives used as a basis\n",
    "        for the polynomial expansion. The larger the size, the smoother the\n",
    "        input image and the more robust the algorithm is to noise, but the more\n",
    "        blurred motion details become.\n",
    "    - iterations : int\n",
    "        The number of iterations the algorithm will perform at each pyramid level.\n",
    "        More iterations can improve the accuracy of the flow estimation.\n",
    "    - poly_n : int\n",
    "        The size of the pixel neighborhood used to find polynomial expansion\n",
    "        in each pixel. Typical values are 5 or 7.\n",
    "    - poly_sigma : float\n",
    "        The standard deviation of the Gaussian that is used to smooth derivatives\n",
    "        used as a basis for the polynomial expansion. This parameter can\n",
    "        typically be ~1.1 for poly_n=5 and ~1.5 for poly_n=7.\n",
    "    - flags : int\n",
    "        Operation flags that can specify extra options such as using the initial\n",
    "        flow estimates or applying a more sophisticated form of smoothing:\n",
    "        - cv2.OPTFLOW_USE_INITIAL_FLOW: Uses the input flow as an initial flow estimate.\n",
    "        - cv2.OPTFLOW_FARNEBACK_GAUSSIAN: Uses a Gaussian window for smoothing\n",
    "          derivatives instead of a box filter.\n",
    "    \"\"\"\n",
    "    # Make images grayscale\n",
    "    prev_img = cv2.cvtColor(prev_img, cv2.COLOR_BGR2GRAY)\n",
    "    next_img = cv2.cvtColor(next_img, cv2.COLOR_BGR2GRAY)\n",
    "    flow = cv2.calcOpticalFlowFarneback(\n",
    "        prev_img, next_img, flow = flow, pyr_scale=pyr_scale, levels=levels, winsize=winsize, \n",
    "        iterations=iterations, poly_n=poly_n, poly_sigma=poly_sigma, flags=flags\n",
    "    )\n",
    "    return flow"
   ]
  },
  {
   "cell_type": "code",
   "execution_count": null,
   "id": "c02f7585-e74e-4f36-aea4-2c58bce78dff",
   "metadata": {},
   "outputs": [],
   "source": [
    "if __name__ == '__main__':\n",
    "    prev_img = cv2.imread(\"/home/yahia/Documents/Jupyter/Sargassum/Images/ABI_Averages_Binarized_Bilateral/Binarized_Bilateral_algae_distribution_20220723.png\")\n",
    "    next_img = cv2.imread(\"/home/yahia/Documents/Jupyter/Sargassum/Images/ABI_Averages_Binarized_Bilateral/Binarized_Bilateral_algae_distribution_20220724.png\")\n",
    "    flow = farneback(prev_img, next_img)\n",
    "    plot_flow_vectors(flow, prev_img, step=16, scale=1.25)\n",
    "    #display(Image(filename=\"/home/yahia/Documents/Jupyter/Sargassum/Images/ABI_Averages_Binarized_Bilateral/Binarized_Bilateral_algae_distribution_20220724.png\", width =750))"
   ]
  },
  {
   "cell_type": "code",
   "execution_count": null,
   "id": "54319d21-4d62-45a6-a4d9-ac3467af1596",
   "metadata": {},
   "outputs": [],
   "source": [
    "if __name__ == '__main__':\n",
    "    prev_img = cv2.imread(\"/home/yahia/Documents/Jupyter/Sargassum/Images/ABI_Averages_Processed_Viridis/Processed_algae_distribution_20220723.png\")\n",
    "    next_img = cv2.imread(\"/home/yahia/Documents/Jupyter/Sargassum/Images/ABI_Averages_Processed_Viridis/Processed_algae_distribution_20220724.png\")\n",
    "    flow = farneback_flow(prev_img, next_img)\n",
    "    plot_flow_vectors(flow, prev_img, step=16, scale=1.25)\n",
    "    #display(Image(filename=\"/home/yahia/Documents/Jupyter/Sargassum/Images/ABI_Averages_Processed_Viridis/Processed_algae_distribution_20220724.png\", width =750))"
   ]
  },
  {
   "cell_type": "markdown",
   "id": "f7269ba8-d2f0-4590-ba13-c38d46b14269",
   "metadata": {},
   "source": [
    "## Changing Parameters"
   ]
  },
  {
   "cell_type": "markdown",
   "id": "3289c3c3-0264-41ce-a470-89c92f543c38",
   "metadata": {},
   "source": [
    "### pyr_scale\n",
    "The image scale (<1) to build pyramids for each image; pyr_scale=0.5 means a classical pyramid, where each next layer is twice smaller than the previous one.\n",
    "\n",
    "For large displacements, smaller values should be better."
   ]
  },
  {
   "cell_type": "code",
   "execution_count": null,
   "id": "fa26e242-0f5b-4da0-b3cd-51450683a248",
   "metadata": {},
   "outputs": [],
   "source": [
    "if __name__ == '__main__':\n",
    "    pyr_scale=0.1\n",
    "    # Binarized\n",
    "    prev_img = cv2.imread(\"/home/yahia/Documents/Jupyter/Sargassum/Images/ABI_Averages_Binarized_Bilateral/Binarized_Bilateral_algae_distribution_20220723.png\")\n",
    "    next_img = cv2.imread(\"/home/yahia/Documents/Jupyter/Sargassum/Images/ABI_Averages_Binarized_Bilateral/Binarized_Bilateral_algae_distribution_20220724.png\")\n",
    "    flow = farneback(prev_img, next_img, pyr_scale=pyr_scale)\n",
    "    plot_flow_vectors(flow, prev_img, step=16, scale=1.25)\n",
    "\n",
    "    # Viridis\n",
    "    prev_img = cv2.imread(\"/home/yahia/Documents/Jupyter/Sargassum/Images/ABI_Averages_Processed_Viridis/Processed_algae_distribution_20220723.png\")\n",
    "    next_img = cv2.imread(\"/home/yahia/Documents/Jupyter/Sargassum/Images/ABI_Averages_Processed_Viridis/Processed_algae_distribution_20220724.png\")\n",
    "    flow = farneback(prev_img, next_img, pyr_scale=pyr_scale)\n",
    "    plot_flow_vectors(flow, prev_img, step=16, scale=1.25)"
   ]
  },
  {
   "cell_type": "markdown",
   "id": "328da04c-16b0-4a19-a61b-dc6f6aa89e4a",
   "metadata": {},
   "source": [
    "Fixing **pyr_scale=0.1** does seem to give the best results (especially in the Binarized image) where the motion vectors for the left aggregation seem to be more correct. Going lower than 0.1 can inverse the direction of vectors."
   ]
  },
  {
   "cell_type": "markdown",
   "id": "efe2c703-6ac8-4003-9364-11bd484f3997",
   "metadata": {},
   "source": [
    "### levels\n",
    "The number of pyramid layers including the initial image. Levels=1 means that no extra layers are created and only the original images are used.\n",
    "\n",
    "For large displacements, bigger values should be better."
   ]
  },
  {
   "cell_type": "code",
   "execution_count": null,
   "id": "5c145ac2-17ba-4a02-a1eb-43b388ecf6dc",
   "metadata": {},
   "outputs": [],
   "source": [
    "if __name__ == '__main__':\n",
    "    pyr_scale=0.1\n",
    "    levels=3\n",
    "    # Binarized\n",
    "    prev_img = cv2.imread(\"/home/yahia/Documents/Jupyter/Sargassum/Images/ABI_Averages_Binarized_Bilateral/Binarized_Bilateral_algae_distribution_20220723.png\")\n",
    "    next_img = cv2.imread(\"/home/yahia/Documents/Jupyter/Sargassum/Images/ABI_Averages_Binarized_Bilateral/Binarized_Bilateral_algae_distribution_20220724.png\")\n",
    "    flow = farneback(prev_img, next_img, pyr_scale=pyr_scale, levels=levels)\n",
    "    plot_flow_vectors(flow, prev_img, step=16, scale=1.25)\n",
    "\n",
    "    # Viridis\n",
    "    prev_img = cv2.imread(\"/home/yahia/Documents/Jupyter/Sargassum/Images/ABI_Averages_Processed_Viridis/Processed_algae_distribution_20220723.png\")\n",
    "    next_img = cv2.imread(\"/home/yahia/Documents/Jupyter/Sargassum/Images/ABI_Averages_Processed_Viridis/Processed_algae_distribution_20220724.png\")\n",
    "    flow = farneback(prev_img, next_img, pyr_scale=pyr_scale, levels=levels)\n",
    "    plot_flow_vectors(flow, prev_img, step=16, scale=1.25)"
   ]
  },
  {
   "cell_type": "markdown",
   "id": "1fa15d7b-cf0a-4841-8a4a-6c447e5cec43",
   "metadata": {},
   "source": [
    "For **pyr_scale=0.1** changing the number of levels doesn't seem to have an impact."
   ]
  },
  {
   "cell_type": "markdown",
   "id": "e70f3903-9a38-481c-bbda-58df6472e1d5",
   "metadata": {},
   "source": [
    "### winsize\n",
    "Averaging window size; larger values increase the algorithm robustness to image noise and give more chances for fast motion detection, but yield more blurred motion field.\n",
    "\n",
    "For large displacements, bigger values should be better. "
   ]
  },
  {
   "cell_type": "code",
   "execution_count": null,
   "id": "ba58b62d-9c5c-424a-985a-301ff517614e",
   "metadata": {},
   "outputs": [],
   "source": [
    "if __name__ == '__main__':\n",
    "    pyr_scale=0.1\n",
    "    levels=3\n",
    "    winsize=15\n",
    "    # Binarized\n",
    "    prev_img = cv2.imread(\"/home/yahia/Documents/Jupyter/Sargassum/Images/ABI_Averages_Binarized_Bilateral/Binarized_Bilateral_algae_distribution_20220723.png\")\n",
    "    next_img = cv2.imread(\"/home/yahia/Documents/Jupyter/Sargassum/Images/ABI_Averages_Binarized_Bilateral/Binarized_Bilateral_algae_distribution_20220724.png\")\n",
    "    flow = farneback(prev_img, next_img, pyr_scale=pyr_scale, levels=levels, winsize=winsize)\n",
    "    plot_flow_vectors(flow, prev_img, step=16, scale=1.25)\n",
    "\n",
    "    # Viridis\n",
    "    prev_img = cv2.imread(\"/home/yahia/Documents/Jupyter/Sargassum/Images/ABI_Averages_Processed_Viridis/Processed_algae_distribution_20220723.png\")\n",
    "    next_img = cv2.imread(\"/home/yahia/Documents/Jupyter/Sargassum/Images/ABI_Averages_Processed_Viridis/Processed_algae_distribution_20220724.png\")\n",
    "    flow = farneback(prev_img, next_img, pyr_scale=pyr_scale, levels=levels, winsize=winsize)\n",
    "    plot_flow_vectors(flow, prev_img, step=16, scale=1.25)"
   ]
  },
  {
   "cell_type": "markdown",
   "id": "c66ce9c1-b099-49f2-8115-bc8af1fea46e",
   "metadata": {},
   "source": [
    "Bigger values make the motion vectors more uniform, the default value **winsize=15** makes sense for now."
   ]
  },
  {
   "cell_type": "markdown",
   "id": "afbc2ef9-e8d6-421b-9cb3-6b244573e8d1",
   "metadata": {},
   "source": [
    "### iterations\n",
    "Number of iterations the algorithm does at each pyramid level. "
   ]
  },
  {
   "cell_type": "code",
   "execution_count": null,
   "id": "d4352a32-ae8e-4f9a-86c0-7b9e7b482af3",
   "metadata": {},
   "outputs": [],
   "source": [
    "if __name__ == '__main__':\n",
    "    pyr_scale=0.1\n",
    "    levels=3\n",
    "    winsize=15\n",
    "    iterations=4\n",
    "    # Binarized\n",
    "    prev_img = cv2.imread(\"/home/yahia/Documents/Jupyter/Sargassum/Images/ABI_Averages_Binarized_Bilateral/Binarized_Bilateral_algae_distribution_20220723.png\")\n",
    "    next_img = cv2.imread(\"/home/yahia/Documents/Jupyter/Sargassum/Images/ABI_Averages_Binarized_Bilateral/Binarized_Bilateral_algae_distribution_20220724.png\")\n",
    "    flow = farneback(prev_img, next_img, pyr_scale=pyr_scale, levels=levels, winsize=winsize, iterations=iterations)\n",
    "    plot_flow_vectors(flow, prev_img, step=16, scale=1.25)\n",
    "\n",
    "    # Viridis\n",
    "    prev_img = cv2.imread(\"/home/yahia/Documents/Jupyter/Sargassum/Images/ABI_Averages_Processed_Viridis/Processed_algae_distribution_20220723.png\")\n",
    "    next_img = cv2.imread(\"/home/yahia/Documents/Jupyter/Sargassum/Images/ABI_Averages_Processed_Viridis/Processed_algae_distribution_20220724.png\")\n",
    "    flow = farneback(prev_img, next_img, pyr_scale=pyr_scale, levels=levels, winsize=winsize, iterations=iterations)\n",
    "    plot_flow_vectors(flow, prev_img, step=16, scale=1.25)"
   ]
  },
  {
   "cell_type": "markdown",
   "id": "ccb5d1b8-b2c7-4895-a06c-1f8a611c60e5",
   "metadata": {},
   "source": [
    "Having more iterations tends to increase the \"vorticity\" of the algae. Having more iterations does not necessarily mean better results as a very high number of iterations (1000) can break the algorithm. For now we'll go with **iterations=4**."
   ]
  },
  {
   "cell_type": "markdown",
   "id": "bc51b75f-9b83-44d0-bd0d-bd88a4c8dbe9",
   "metadata": {},
   "source": [
    "### poly_n\n",
    "Size of the pixel neighborhood used to find polynomial expansion in each pixel; larger values mean that the image will be approximated with smoother surfaces, yielding more robust algorithm and more blurred motion field, typically poly_n =5 or 7. "
   ]
  },
  {
   "cell_type": "code",
   "execution_count": null,
   "id": "e7612ac2-f841-4b00-82cb-0caae0be6fc2",
   "metadata": {},
   "outputs": [],
   "source": [
    "if __name__ == '__main__':\n",
    "    pyr_scale=0.1\n",
    "    levels=3\n",
    "    winsize=15\n",
    "    iterations=4\n",
    "    poly_n=5\n",
    "    # Binarized\n",
    "    prev_img = cv2.imread(\"/home/yahia/Documents/Jupyter/Sargassum/Images/ABI_Averages_Binarized_Bilateral/Binarized_Bilateral_algae_distribution_20220723.png\")\n",
    "    next_img = cv2.imread(\"/home/yahia/Documents/Jupyter/Sargassum/Images/ABI_Averages_Binarized_Bilateral/Binarized_Bilateral_algae_distribution_20220724.png\")\n",
    "    flow = farneback(prev_img, next_img, pyr_scale=pyr_scale, levels=levels, winsize=winsize, iterations=iterations, poly_n=poly_n)\n",
    "    plot_flow_vectors(flow, prev_img, step=16, scale=1.25)\n",
    "\n",
    "    # Viridis\n",
    "    prev_img = cv2.imread(\"/home/yahia/Documents/Jupyter/Sargassum/Images/ABI_Averages_Processed_Viridis/Processed_algae_distribution_20220723.png\")\n",
    "    next_img = cv2.imread(\"/home/yahia/Documents/Jupyter/Sargassum/Images/ABI_Averages_Processed_Viridis/Processed_algae_distribution_20220724.png\")\n",
    "    flow = farneback(prev_img, next_img, pyr_scale=pyr_scale, levels=levels, winsize=winsize, iterations=iterations, poly_n=poly_n)\n",
    "    plot_flow_vectors(flow, prev_img, step=16, scale=1.25)"
   ]
  },
  {
   "cell_type": "markdown",
   "id": "d8ca7f5b-b79d-4052-9592-138b6e61bc72",
   "metadata": {},
   "source": [
    "Changing **poly_n** doesn't seem to change anything."
   ]
  },
  {
   "cell_type": "markdown",
   "id": "30a77a7e-b2d3-46ec-934e-a388e137df15",
   "metadata": {},
   "source": [
    "### poly_sigma\n",
    "Standard deviation of the Gaussian that is used to smooth derivatives used as a basis for the polynomial expansion; for poly_n=5, you can set poly_sigma=1.1, for poly_n=7, a good value would be poly_sigma=1.5."
   ]
  },
  {
   "cell_type": "code",
   "execution_count": null,
   "id": "b255808c-a2f7-4d47-aca1-e83b30609b02",
   "metadata": {},
   "outputs": [],
   "source": [
    "if __name__ == '__main__':\n",
    "    pyr_scale=0.1\n",
    "    levels=3\n",
    "    winsize=15\n",
    "    iterations=4\n",
    "    poly_n=5\n",
    "    poly_sigma=1.2\n",
    "    # Binarized\n",
    "    prev_img = cv2.imread(\"/home/yahia/Documents/Jupyter/Sargassum/Images/ABI_Averages_Binarized_Bilateral/Binarized_Bilateral_algae_distribution_20220723.png\")\n",
    "    next_img = cv2.imread(\"/home/yahia/Documents/Jupyter/Sargassum/Images/ABI_Averages_Binarized_Bilateral/Binarized_Bilateral_algae_distribution_20220724.png\")\n",
    "    flow = farneback(prev_img, next_img, pyr_scale=pyr_scale, levels=levels, winsize=winsize, iterations=iterations, poly_n=poly_n, poly_sigma=poly_sigma)\n",
    "    plot_flow_vectors(flow, prev_img, step=16, scale=1.25)\n",
    "\n",
    "    # Viridis\n",
    "    prev_img = cv2.imread(\"/home/yahia/Documents/Jupyter/Sargassum/Images/ABI_Averages_Processed_Viridis/Processed_algae_distribution_20220723.png\")\n",
    "    next_img = cv2.imread(\"/home/yahia/Documents/Jupyter/Sargassum/Images/ABI_Averages_Processed_Viridis/Processed_algae_distribution_20220724.png\")\n",
    "    flow = farneback(prev_img, next_img, pyr_scale=pyr_scale, levels=levels, winsize=winsize, iterations=iterations, poly_n=poly_n, poly_sigma=poly_sigma)\n",
    "    plot_flow_vectors(flow, prev_img, step=16, scale=1.25)"
   ]
  },
  {
   "cell_type": "markdown",
   "id": "507f4771-e94e-4420-90cd-e8ceab6d52ed",
   "metadata": {},
   "source": [
    "Changing this parameter changes the result significantly. We'll leave it at **poly_sigma=1.2** for now."
   ]
  },
  {
   "cell_type": "markdown",
   "id": "bd1430c7-0b1d-4255-a443-3f8a044aa012",
   "metadata": {},
   "source": [
    "### flags\n",
    "operation flags that can be a combination of the following:\n",
    "- OPTFLOW_USE_INITIAL_FLOW uses the input flow as an initial flow approximation.\n",
    "- OPTFLOW_FARNEBACK_GAUSSIAN uses the Gaussian filter instead of a box filter of the same size for optical flow estimation; usually, this option gives z more accurate flow than with a box filter, at the cost of lower speed; normally, winsize for a Gaussian window should be set to a larger value to achieve the same level of robustness."
   ]
  },
  {
   "cell_type": "code",
   "execution_count": null,
   "id": "7a0229fb-313e-42f6-b54c-72c7f620e154",
   "metadata": {},
   "outputs": [],
   "source": [
    "if __name__ == '__main__':\n",
    "    pyr_scale=0.1\n",
    "    levels=3\n",
    "    winsize=15\n",
    "    iterations=4\n",
    "    poly_n=5\n",
    "    poly_sigma=1.2\n",
    "    flags=cv2.OPTFLOW_FARNEBACK_GAUSSIAN\n",
    "    # Binarized\n",
    "    prev_img = cv2.imread(\"/home/yahia/Documents/Jupyter/Sargassum/Images/ABI_Averages_Binarized_Bilateral/Binarized_Bilateral_algae_distribution_20220723.png\")\n",
    "    next_img = cv2.imread(\"/home/yahia/Documents/Jupyter/Sargassum/Images/ABI_Averages_Binarized_Bilateral/Binarized_Bilateral_algae_distribution_20220724.png\")\n",
    "    flow = farneback(prev_img, next_img, pyr_scale=pyr_scale, levels=levels, winsize=winsize, iterations=iterations, poly_n=poly_n, poly_sigma=poly_sigma, flags=flags)\n",
    "    plot_flow_vectors(flow, prev_img, step=16, scale=1.25)\n",
    "\n",
    "    # Viridis\n",
    "    prev_img = cv2.imread(\"/home/yahia/Documents/Jupyter/Sargassum/Images/ABI_Averages_Processed_Viridis/Processed_algae_distribution_20220723.png\")\n",
    "    next_img = cv2.imread(\"/home/yahia/Documents/Jupyter/Sargassum/Images/ABI_Averages_Processed_Viridis/Processed_algae_distribution_20220724.png\")\n",
    "    flow = farneback(prev_img, next_img, pyr_scale=pyr_scale, levels=levels, winsize=winsize, iterations=iterations, poly_n=poly_n, poly_sigma=poly_sigma, flags=flags)\n",
    "    plot_flow_vectors(flow, prev_img, step=16, scale=1.25)"
   ]
  },
  {
   "cell_type": "markdown",
   "id": "b4a5445d-d0c2-46e3-b90a-4a4a4acaa705",
   "metadata": {},
   "source": [
    "Using the Gaussian filter seems to make the motion field more \"chaotic\"."
   ]
  },
  {
   "cell_type": "markdown",
   "id": "504b1a5e-519b-4854-a22f-e31260b4c26a",
   "metadata": {},
   "source": [
    "### flow\n",
    "We can use a flow field obtained from another algorithm (or from this same algorithm) as an initial guess for this algorithm."
   ]
  },
  {
   "cell_type": "code",
   "execution_count": null,
   "id": "5d1114d4-770e-4c78-b533-d253ff468047",
   "metadata": {},
   "outputs": [],
   "source": [
    "if __name__ == '__main__':\n",
    "    pyr_scale=0.1\n",
    "    levels=3\n",
    "    winsize=15\n",
    "    iterations=4\n",
    "    poly_n=5\n",
    "    poly_sigma=1.2\n",
    "    flags=cv2.OPTFLOW_USE_INITIAL_FLOW\n",
    "    # Binarized\n",
    "    prev_img = cv2.imread(\"/home/yahia/Documents/Jupyter/Sargassum/Images/ABI_Averages_Binarized_Bilateral/Binarized_Bilateral_algae_distribution_20220723.png\")\n",
    "    next_img = cv2.imread(\"/home/yahia/Documents/Jupyter/Sargassum/Images/ABI_Averages_Binarized_Bilateral/Binarized_Bilateral_algae_distribution_20220724.png\")\n",
    "    flow1 = farneback(prev_img, next_img, pyr_scale=pyr_scale, levels=levels, winsize=winsize, iterations=iterations, poly_n=poly_n, poly_sigma=poly_sigma)\n",
    "    plot_flow_vectors(flow1, prev_img, step=16, scale=1.25)\n",
    "\n",
    "    # Binarized with Initial Flow\n",
    "    flow2 = farneback(prev_img, next_img, pyr_scale=pyr_scale, levels=levels, winsize=winsize, iterations=iterations, poly_n=poly_n, poly_sigma=poly_sigma, flow=flow1, flags=flags)\n",
    "    plot_flow_vectors(flow2, prev_img, step=16, scale=1.25)\n",
    "\n",
    "    # Viridis\n",
    "    prev_img = cv2.imread(\"/home/yahia/Documents/Jupyter/Sargassum/Images/ABI_Averages_Processed_Viridis/Processed_algae_distribution_20220723.png\")\n",
    "    next_img = cv2.imread(\"/home/yahia/Documents/Jupyter/Sargassum/Images/ABI_Averages_Processed_Viridis/Processed_algae_distribution_20220724.png\")\n",
    "    flow3 = farneback(prev_img, next_img, pyr_scale=pyr_scale, levels=levels, winsize=winsize, iterations=iterations, poly_n=poly_n, poly_sigma=poly_sigma)\n",
    "    plot_flow_vectors(flow3, prev_img, step=16, scale=1.25)\n",
    "\n",
    "    # Viridis with Initial Flow\n",
    "    prev_img = cv2.imread(\"/home/yahia/Documents/Jupyter/Sargassum/Images/ABI_Averages_Processed_Viridis/Processed_algae_distribution_20220723.png\")\n",
    "    next_img = cv2.imread(\"/home/yahia/Documents/Jupyter/Sargassum/Images/ABI_Averages_Processed_Viridis/Processed_algae_distribution_20220724.png\")\n",
    "    flow4 = farneback(prev_img, next_img, pyr_scale=pyr_scale, levels=levels, winsize=winsize, iterations=iterations, poly_n=poly_n, poly_sigma=poly_sigma, flow=flow3, flags=flags)\n",
    "    plot_flow_vectors(flow4, prev_img, step=16, scale=1.25)"
   ]
  },
  {
   "cell_type": "markdown",
   "id": "e1c525dd-06ed-4474-b325-f667628bd844",
   "metadata": {},
   "source": [
    "Using the resultant flow as an initial estimate to the same algorithm seems to exaggerate the motion of the algae (comparable to having a higher number of iterations)."
   ]
  },
  {
   "cell_type": "markdown",
   "id": "4f6be94b-2d25-48b9-a655-429d618dd144",
   "metadata": {},
   "source": [
    "## Conclusion\n",
    "It is hard, if not impossible, to find the ideal parameters for every image we have in our database. For some successive images, the motion would be too large for the parameters and for others it will be too small. So the purpose of this notebook was not to find the ideal parameters, but rather to understand the influence of each of these parameters on the result.\n",
    "\n",
    "Retained parameters are:   \n",
    "- pyr_scale=0.1\n",
    "- levels=3\n",
    "- winsize=15\n",
    "- iterations=4\n",
    "- poly_n=5\n",
    "- poly_sigma=1.2"
   ]
  },
  {
   "cell_type": "markdown",
   "id": "9069c368-5893-49a6-9011-7132883fa11c",
   "metadata": {},
   "source": [
    "## Other Dates"
   ]
  },
  {
   "cell_type": "markdown",
   "id": "6b5349b4-7910-46d9-ab11-1685b2d39c83",
   "metadata": {},
   "source": [
    "### 23/07 - 24/07"
   ]
  },
  {
   "cell_type": "code",
   "execution_count": null,
   "id": "d1f94b56-50f8-437d-9646-55395f46f3b6",
   "metadata": {},
   "outputs": [],
   "source": [
    "if __name__ == '__main__':\n",
    "    pyr_scale=0.1\n",
    "    levels=3\n",
    "    winsize=15\n",
    "    iterations=4\n",
    "    poly_n=5\n",
    "    poly_sigma=1.2\n",
    "    # Binarized\n",
    "    prev_img = cv2.imread(\"/home/yahia/Documents/Jupyter/Sargassum/Images/ABI_Averages_Binarized_Bilateral/Binarized_Bilateral_algae_distribution_20220723.png\")\n",
    "    next_img = cv2.imread(\"/home/yahia/Documents/Jupyter/Sargassum/Images/ABI_Averages_Binarized_Bilateral/Binarized_Bilateral_algae_distribution_20220724.png\")\n",
    "    flow = farneback(prev_img, next_img, pyr_scale=pyr_scale, levels=levels, winsize=winsize, iterations=iterations, poly_n=poly_n, poly_sigma=poly_sigma)\n",
    "    plot_flow_vectors(flow, prev_img, step=16, scale=1.25)\n",
    "\n",
    "    # Viridis\n",
    "    prev_img = cv2.imread(\"/home/yahia/Documents/Jupyter/Sargassum/Images/ABI_Averages_Processed_Viridis/Processed_algae_distribution_20220723.png\")\n",
    "    next_img = cv2.imread(\"/home/yahia/Documents/Jupyter/Sargassum/Images/ABI_Averages_Processed_Viridis/Processed_algae_distribution_20220724.png\")\n",
    "    flow = farneback(prev_img, next_img, pyr_scale=pyr_scale, levels=levels, winsize=winsize, iterations=iterations, poly_n=poly_n, poly_sigma=poly_sigma)\n",
    "    plot_flow_vectors(flow, prev_img, step=16, scale=1.25)"
   ]
  },
  {
   "cell_type": "markdown",
   "id": "9b177b74-11f0-418f-9036-371e7caf1972",
   "metadata": {},
   "source": [
    "### 05/18 - 05/19"
   ]
  },
  {
   "cell_type": "code",
   "execution_count": null,
   "id": "98cfbe6c-7ba6-4899-893b-118123938cd3",
   "metadata": {},
   "outputs": [],
   "source": [
    "if __name__ == '__main__':\n",
    "    # Viridis\n",
    "    prev_img = cv2.imread(\"/media/yahia/ballena/ABI/ABI_Averages_Antilles_Processed/Processed_algae_distribution_20220518.png\")\n",
    "    next_img = cv2.imread(\"/media/yahia/ballena/ABI/ABI_Averages_Antilles_Processed/Processed_algae_distribution_20220519.png\")\n",
    "    flow = farneback(prev_img, next_img, pyr_scale=pyr_scale, levels=levels, winsize=winsize, iterations=iterations, poly_n=poly_n, poly_sigma=poly_sigma)\n",
    "    plot_flow_vectors(flow, prev_img, step=16, scale=1.25)"
   ]
  },
  {
   "cell_type": "markdown",
   "id": "6c21d1b3-3c1f-4e9b-8721-a585e3f36d88",
   "metadata": {},
   "source": [
    "### 05/21 - 05/22"
   ]
  },
  {
   "cell_type": "code",
   "execution_count": null,
   "id": "a5062117-b6c0-4bda-9e75-66347d9d6353",
   "metadata": {},
   "outputs": [],
   "source": [
    "if __name__ == '__main__':\n",
    "    # Viridis\n",
    "    prev_img = cv2.imread(\"/media/yahia/ballena/ABI/ABI_Averages_Antilles_Processed/Processed_algae_distribution_20220521.png\")\n",
    "    next_img = cv2.imread(\"/media/yahia/ballena/ABI/ABI_Averages_Antilles_Processed/Processed_algae_distribution_20220522.png\")\n",
    "    flow = farneback(prev_img, next_img, pyr_scale=pyr_scale, levels=levels, winsize=winsize, iterations=iterations, poly_n=poly_n, poly_sigma=poly_sigma)\n",
    "    plot_flow_vectors(flow, prev_img, step=16, scale=1.25)"
   ]
  },
  {
   "cell_type": "markdown",
   "id": "33afe82d-da92-4587-afd9-0cd483207e1b",
   "metadata": {},
   "source": [
    "### 07/03 - 07/04"
   ]
  },
  {
   "cell_type": "code",
   "execution_count": null,
   "id": "a61eb5f7-5a11-403a-84d0-40120666607a",
   "metadata": {},
   "outputs": [],
   "source": [
    "if __name__ == '__main__':\n",
    "    # Viridis\n",
    "    prev_img = cv2.imread(\"/media/yahia/ballena/ABI/ABI_Averages_Antilles_Processed/Processed_algae_distribution_20220703.png\")\n",
    "    next_img = cv2.imread(\"/media/yahia/ballena/ABI/ABI_Averages_Antilles_Processed/Processed_algae_distribution_20220704.png\")\n",
    "    flow = farneback(prev_img, next_img, pyr_scale=pyr_scale, levels=levels, winsize=winsize, iterations=iterations, poly_n=poly_n, poly_sigma=poly_sigma)\n",
    "    plot_flow_vectors(flow, prev_img, step=16, scale=1.25)"
   ]
  },
  {
   "cell_type": "markdown",
   "id": "f2b0135a-61c1-4122-9b56-4ced86a6be00",
   "metadata": {},
   "source": [
    "### 07/13 - 07/14"
   ]
  },
  {
   "cell_type": "code",
   "execution_count": null,
   "id": "3c3a9971-fc21-41a4-a968-c3f3879c0d54",
   "metadata": {},
   "outputs": [],
   "source": [
    "if __name__ == '__main__':\n",
    "    # Viridis\n",
    "    prev_img = cv2.imread(\"/media/yahia/ballena/ABI/ABI_Averages_Antilles_Processed/Processed_algae_distribution_20220713.png\")\n",
    "    next_img = cv2.imread(\"/media/yahia/ballena/ABI/ABI_Averages_Antilles_Processed/Processed_algae_distribution_20220714.png\")\n",
    "    flow = farneback(prev_img, next_img, pyr_scale=pyr_scale, levels=levels, winsize=winsize, iterations=iterations, poly_n=poly_n, poly_sigma=poly_sigma)\n",
    "    plot_flow_vectors(flow, prev_img, step=16, scale=1.25)"
   ]
  },
  {
   "cell_type": "markdown",
   "id": "e98a5ae8-0350-44a3-a950-685e28e65604",
   "metadata": {},
   "source": [
    "## Zoom"
   ]
  },
  {
   "cell_type": "code",
   "execution_count": null,
   "id": "3f0cadba-6472-4531-a23b-01d95ed86170",
   "metadata": {},
   "outputs": [],
   "source": [
    "if __name__ == '__main__':\n",
    "    # Viridis\n",
    "    prev_img = cv2.imread(\"/media/yahia/ballena/ABI/Spiral/ABI_Averages_Spiral_Processed/Processed_algae_distribution_20220723.png\")\n",
    "    next_img = cv2.imread(\"/media/yahia/ballena/ABI/Spiral/ABI_Averages_Spiral_Processed/Processed_algae_distribution_20220724.png\")\n",
    "    flow = farneback(prev_img, next_img, pyr_scale=0.1, levels=3, winsize=15, iterations=4, poly_n=5, poly_sigma=1.2)\n",
    "    plot_flow_vectors(flow, prev_img, step=16, scale=1.25)\n",
    "    # Binarized\n",
    "    prev_img = cv2.imread(\"/media/yahia/ballena/ABI/Spiral/ABI_Averages_Spiral_Binarized_Bilateral/Processed_algae_distribution_20220723.png\")\n",
    "    next_img = cv2.imread(\"/media/yahia/ballena/ABI/Spiral/ABI_Averages_Spiral_Binarized_Bilateral/Processed_algae_distribution_20220724.png\")\n",
    "    flow = farneback(prev_img, next_img, pyr_scale=0.1, levels=3, winsize=15, iterations=4, poly_n=5, poly_sigma=1.2)\n",
    "    plot_flow_vectors(flow, prev_img, step=16, scale=1.25)"
   ]
  },
  {
   "cell_type": "code",
   "execution_count": null,
   "id": "9b6fd6c3-ee87-4b9b-9c49-337036b63b81",
   "metadata": {},
   "outputs": [],
   "source": []
  }
 ],
 "metadata": {
  "kernelspec": {
   "display_name": "Python 3 (ipykernel)",
   "language": "python",
   "name": "python3"
  },
  "language_info": {
   "codemirror_mode": {
    "name": "ipython",
    "version": 3
   },
   "file_extension": ".py",
   "mimetype": "text/x-python",
   "name": "python",
   "nbconvert_exporter": "python",
   "pygments_lexer": "ipython3",
   "version": "3.11.7"
  }
 },
 "nbformat": 4,
 "nbformat_minor": 5
}
