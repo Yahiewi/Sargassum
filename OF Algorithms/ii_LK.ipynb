{
 "cells": [
  {
   "cell_type": "markdown",
   "id": "3acd02e9-0913-41ea-817a-fb152298a3b9",
   "metadata": {},
   "source": [
    "# Lucas-Kanade"
   ]
  },
  {
   "cell_type": "markdown",
   "id": "81e59ed7-8bef-4d52-9c2f-f712d2248fb0",
   "metadata": {},
   "source": [
    "Similarly to the previous notebook, in this one we're going to test out the Lucas-Kanade method with different parameters each time.\n",
    "\n",
    "This method estimates the motion of objects between consecutive image frames by tracking the displacement of specific feature points in a local neighborhood, assuming constant motion within that neighborhood."
   ]
  },
  {
   "cell_type": "markdown",
   "id": "d662157a-534a-4d7c-9561-8e192c521018",
   "metadata": {},
   "source": [
    "## Importing necessary libraries and notebooks"
   ]
  },
  {
   "cell_type": "code",
   "execution_count": null,
   "id": "a7b6eb81-b820-43e7-8368-4c90a3143601",
   "metadata": {},
   "outputs": [],
   "source": [
    "import xarray as xr\n",
    "import io\n",
    "import os\n",
    "import cv2\n",
    "import imageio\n",
    "import matplotlib.pyplot as plt\n",
    "import matplotlib.colors as colors\n",
    "import numpy as np\n",
    "import cartopy.crs as ccrs\n",
    "import cartopy.feature as cfeature\n",
    "from datetime import datetime, timedelta\n",
    "from matplotlib import ticker\n",
    "from IPython.display import Image, display\n",
    "from PIL import Image as PILImage\n",
    "\n",
    "\n",
    "# Append the parent directory (Sargassum) to the system path\n",
    "sys.path.append(os.path.abspath(os.path.join(os.getcwd(), os.pardir)))\n",
    "# Import the other notebooks without running their cells\n",
    "from ii_Data_Manipulation import visualize_4\n",
    "from iii_GOES_average import time_list, visualize_aggregate, calculate_median\n",
    "from iv_Image_Processing import collect_times, crop_image, save_aggregate, binarize_image, bilateral_image, process_dates, process_directory\n",
    "from v_i_OF_Functions import *"
   ]
  },
  {
   "cell_type": "markdown",
   "id": "f75f00a6-bb61-45c1-a0f3-774388ef3634",
   "metadata": {},
   "source": [
    "## Lucas-Kanade\n",
    "Like the notebook Farneback, even though this function is already defined in *v_i_OF_Functions* we redefine it here for convenience (so we can change it without having to change it in the other notebook, then reimporting)."
   ]
  },
  {
   "cell_type": "code",
   "execution_count": null,
   "id": "970841f9-37ab-4aa5-ac6e-bbf8d25ab5fa",
   "metadata": {},
   "outputs": [],
   "source": [
    "def LK(prev_img, next_img, max_corners=100, quality_level=0.3, min_distance=7, block_size=7, win_size=(15, 15), max_level=2, criteria=(cv2.TERM_CRITERIA_EPS | cv2.TERM_CRITERIA_COUNT, 10, 0.03)):\n",
    "    \"\"\"\n",
    "    Computes optical flow using the Lucas-Kanade method.\n",
    "\n",
    "    :param prev_img: The previous image frame.\n",
    "    :param next_img: The next image frame.\n",
    "    :param max_corners: Maximum number of corners to detect.\n",
    "    :param quality_level: Quality level for corner detection.\n",
    "    :param min_distance: Minimum possible Euclidean distance between the returned corners.\n",
    "    :param block_size: Size of an average block for computing a derivative covariance matrix over each pixel neighborhood.\n",
    "    :param win_size: Size of the search window at each pyramid level.\n",
    "    :param max_level: 0-based maximal pyramid level number.\n",
    "    :param criteria: Criteria for termination of the iterative search algorithm.\n",
    "    :return: p0, p1, st, err\n",
    "        p0: Initial points in the previous image.\n",
    "        p1: Corresponding points in the next image.\n",
    "        st: Status array indicating whether the flow for the corresponding feature has been found.\n",
    "        err: Error for each point.\n",
    "    \"\"\"\n",
    "    # Ensure images are grayscale\n",
    "    if len(prev_img.shape) == 3:\n",
    "        prev_img = cv2.cvtColor(prev_img, cv2.COLOR_BGR2GRAY)\n",
    "    if len(next_img.shape) == 3:\n",
    "        next_img = cv2.cvtColor(next_img, cv2.COLOR_BGR2GRAY)\n",
    "    \n",
    "    # Detect good features to track in the previous image\n",
    "    p0 = cv2.goodFeaturesToTrack(prev_img, maxCorners=max_corners, qualityLevel=quality_level, minDistance=min_distance, blockSize=block_size)\n",
    "    \n",
    "    # Calculate optical flow between the two images\n",
    "    p1, st, err = cv2.calcOpticalFlowPyrLK(prev_img, next_img, p0, None, winSize=win_size, maxLevel=max_level, criteria=criteria)\n",
    "    \n",
    "    return p0, p1, st, err"
   ]
  },
  {
   "cell_type": "markdown",
   "id": "d748220f-eef2-4f39-b813-fce4431a75c0",
   "metadata": {},
   "source": [
    "### 23/07 - 24/07"
   ]
  },
  {
   "cell_type": "code",
   "execution_count": null,
   "id": "c43e8383-2db5-4602-803c-8d790c8dda92",
   "metadata": {},
   "outputs": [],
   "source": [
    "if __name__ == '__main__':\n",
    "    prev_img = cv2.imread(\"/home/yahia/Documents/Jupyter/Sargassum/Images/ABI_Averages_Binarized_Bilateral/Binarized_Bilateral_algae_distribution_20220723.png\")\n",
    "    next_img = cv2.imread(\"/home/yahia/Documents/Jupyter/Sargassum/Images/ABI_Averages_Binarized_Bilateral/Binarized_Bilateral_algae_distribution_20220724.png\")\n",
    "    p0, p1, st, err = LK(prev_img, next_img)\n",
    "    flow_plot = plot_LK_vectors(p0, p1, st, prev_img, display=True, color='r')"
   ]
  },
  {
   "cell_type": "markdown",
   "id": "bacc3e0b-e2f6-4e49-b3ff-64572e394f54",
   "metadata": {},
   "source": [
    "### 05/18 - 05/19"
   ]
  },
  {
   "cell_type": "code",
   "execution_count": null,
   "id": "f3d13ad1-5589-42ea-b380-7923a2a00481",
   "metadata": {},
   "outputs": [],
   "source": [
    "if __name__ == '__main__':\n",
    "    # Viridis\n",
    "    prev_img = cv2.imread(\"/media/yahia/ballena/ABI/ABI_Averages_Antilles_Processed/Processed_algae_distribution_20220518.png\")\n",
    "    next_img = cv2.imread(\"/media/yahia/ballena/ABI/ABI_Averages_Antilles_Processed/Processed_algae_distribution_20220519.png\")\n",
    "    p0, p1, st, err = LK(prev_img, next_img)\n",
    "    flow_plot = plot_LK_vectors(p0, p1, st, prev_img, display=True, color='r')"
   ]
  },
  {
   "cell_type": "markdown",
   "id": "2de121e5-a98d-4998-ad69-f21ccc6025ef",
   "metadata": {},
   "source": [
    "### 05/21 - 05/22"
   ]
  },
  {
   "cell_type": "code",
   "execution_count": null,
   "id": "56d42e50-4577-4953-a63e-ae66ca442af3",
   "metadata": {},
   "outputs": [],
   "source": [
    "if __name__ == '__main__':\n",
    "    # Viridis\n",
    "    prev_img = cv2.imread(\"/media/yahia/ballena/ABI/ABI_Averages_Antilles_Processed/Processed_algae_distribution_20220521.png\")\n",
    "    next_img = cv2.imread(\"/media/yahia/ballena/ABI/ABI_Averages_Antilles_Processed/Processed_algae_distribution_20220522.png\")\n",
    "    p0, p1, st, err = LK(prev_img, next_img)\n",
    "    flow_plot = plot_LK_vectors(p0, p1, st, prev_img, display=True, color='r')"
   ]
  },
  {
   "cell_type": "markdown",
   "id": "6a2e8ae8-48f5-4bd5-bfcc-31ed93a8a04a",
   "metadata": {},
   "source": [
    "### 07/03 - 07/04"
   ]
  },
  {
   "cell_type": "code",
   "execution_count": null,
   "id": "a31db067-af01-4bd5-8862-96e6aa2f1e77",
   "metadata": {},
   "outputs": [],
   "source": [
    "if __name__ == '__main__':\n",
    "    # Viridis\n",
    "    prev_img = cv2.imread(\"/media/yahia/ballena/ABI/ABI_Averages_Antilles_Processed/Processed_algae_distribution_20220703.png\")\n",
    "    next_img = cv2.imread(\"/media/yahia/ballena/ABI/ABI_Averages_Antilles_Processed/Processed_algae_distribution_20220704.png\")\n",
    "    p0, p1, st, err = LK(prev_img, next_img)\n",
    "    flow_plot = plot_LK_vectors(p0, p1, st, prev_img, display=True, color='r')"
   ]
  },
  {
   "cell_type": "markdown",
   "id": "fa455d60-1cca-4b32-bec1-f7c1c38ad353",
   "metadata": {},
   "source": [
    "### 07/13 - 07/14"
   ]
  },
  {
   "cell_type": "code",
   "execution_count": null,
   "id": "ec7aaf25-4703-4f5b-b58d-fc885af4757d",
   "metadata": {},
   "outputs": [],
   "source": [
    "if __name__ == '__main__':\n",
    "    # Viridis\n",
    "    prev_img = cv2.imread(\"/media/yahia/ballena/ABI/ABI_Averages_Antilles_Processed/Processed_algae_distribution_20220713.png\")\n",
    "    next_img = cv2.imread(\"/media/yahia/ballena/ABI/ABI_Averages_Antilles_Processed/Processed_algae_distribution_20220714.png\")\n",
    "    p0, p1, st, err = LK(prev_img, next_img)\n",
    "    flow_plot = plot_LK_vectors(p0, p1, st, prev_img, display=True, color='r')"
   ]
  },
  {
   "cell_type": "markdown",
   "id": "aa6ddab2-a188-4c15-ad5a-599651196564",
   "metadata": {},
   "source": [
    "## Zoom"
   ]
  },
  {
   "cell_type": "code",
   "execution_count": null,
   "id": "56f9afeb-b966-4c1b-9dde-d2e619388ad5",
   "metadata": {},
   "outputs": [],
   "source": [
    "if __name__ == '__main__':\n",
    "    # Viridis\n",
    "    prev_img = cv2.imread(\"/media/yahia/ballena/ABI/Spiral/ABI_Averages_Spiral_Processed/Processed_algae_distribution_20220723.png\")\n",
    "    next_img = cv2.imread(\"/media/yahia/ballena/ABI/Spiral/ABI_Averages_Spiral_Processed/Processed_algae_distribution_20220724.png\")\n",
    "    p0, p1, st, err = LK(prev_img, next_img)\n",
    "    flow_plot = plot_LK_vectors(p0, p1, st, prev_img, display=True, color='r')\n",
    "    # Binarized\n",
    "    prev_img = cv2.imread(\"/media/yahia/ballena/ABI/Spiral/ABI_Averages_Spiral_Binarized_Bilateral/Processed_algae_distribution_20220723.png\")\n",
    "    next_img = cv2.imread(\"/media/yahia/ballena/ABI/Spiral/ABI_Averages_Spiral_Binarized_Bilateral/Processed_algae_distribution_20220724.png\")\n",
    "    p0, p1, st, err = LK(prev_img, next_img)\n",
    "    flow_plot = plot_LK_vectors(p0, p1, st, prev_img, display=True, color='r')"
   ]
  },
  {
   "cell_type": "code",
   "execution_count": null,
   "id": "5e1286b2-bcb1-4ef7-b824-ecbd385e5b4f",
   "metadata": {},
   "outputs": [],
   "source": []
  }
 ],
 "metadata": {
  "kernelspec": {
   "display_name": "Python 3 (ipykernel)",
   "language": "python",
   "name": "python3"
  },
  "language_info": {
   "codemirror_mode": {
    "name": "ipython",
    "version": 3
   },
   "file_extension": ".py",
   "mimetype": "text/x-python",
   "name": "python",
   "nbconvert_exporter": "python",
   "pygments_lexer": "ipython3",
   "version": "3.11.7"
  }
 },
 "nbformat": 4,
 "nbformat_minor": 5
}
