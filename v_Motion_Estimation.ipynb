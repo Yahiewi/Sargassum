{
 "cells": [
  {
   "cell_type": "markdown",
   "id": "9e03a8d0-99af-40cf-bfa6-05954b5a21e9",
   "metadata": {},
   "source": [
    "# Motion Estimation\n",
    "Using the processed images produced by the fourth notebook, we're going to apply Optical Flow algorithms from the OpenCV library to estimate the motion of the algae."
   ]
  },
  {
   "cell_type": "markdown",
   "id": "0a3e0435-2652-4dd9-be63-ede1017928e2",
   "metadata": {},
   "source": [
    "## Importing necessary libraries and notebooks"
   ]
  },
  {
   "cell_type": "code",
   "execution_count": null,
   "id": "e9f5208a-53f6-44e1-9dff-889b6ab91f86",
   "metadata": {},
   "outputs": [],
   "source": [
    "import xarray as xr\n",
    "import io\n",
    "import os\n",
    "import cv2\n",
    "import imageio\n",
    "import matplotlib.pyplot as plt\n",
    "import matplotlib.colors as colors\n",
    "import numpy as np\n",
    "import cartopy.crs as ccrs\n",
    "import cartopy.feature as cfeature\n",
    "from datetime import datetime, timedelta\n",
    "from matplotlib import ticker\n",
    "from IPython.display import Image, display\n",
    "from PIL import Image as PILImage\n",
    "\n",
    "# Import the other notebooks without running their cells\n",
    "from ii_Data_Manipulation import visualize_4\n",
    "from iii_GOES_average import time_list, visualize_aggregate, calculate_median\n",
    "from iv_Image_Processing import collect_times, crop_image, save_aggregate, binarize_image, bilateral_image, process_dates, process_directory\n",
    "from v_i_OF_Functions import *"
   ]
  },
  {
   "cell_type": "markdown",
   "id": "7ec2bcc2-4bda-4392-8bf0-9b8bd018b601",
   "metadata": {},
   "source": [
    "## Optical Flow Implementations"
   ]
  },
  {
   "cell_type": "markdown",
   "id": "8085cdf8-81a1-4f78-ab83-13a3cf30baf4",
   "metadata": {},
   "source": [
    "### Visualizing the Flow"
   ]
  },
  {
   "cell_type": "code",
   "execution_count": null,
   "id": "9daff50d-6fdf-41ae-909c-9fa3908788bc",
   "metadata": {},
   "outputs": [],
   "source": [
    "if __name__ == '__main__':\n",
    "    prev_img = cv2.imread(\"/home/yahia/Documents/Jupyter/Sargassum/Images/ABI_Averages_Binarized_Bilateral/Binarized_Bilateral_algae_distribution_20220723.png\")\n",
    "    next_img = cv2.imread(\"/home/yahia/Documents/Jupyter/Sargassum/Images/ABI_Averages_Binarized_Bilateral/Binarized_Bilateral_algae_distribution_20220724.png\")\n",
    "    flow = farneback_flow(prev_img, next_img)\n",
    "    mag, ang = compute_flow_components(flow)\n",
    "    visualize_flow_components(mag, ang)"
   ]
  },
  {
   "cell_type": "markdown",
   "id": "6a9bbf27-3440-478a-98f7-4916e1e18d8b",
   "metadata": {},
   "source": [
    "We can also visualize the motion field through vectors."
   ]
  },
  {
   "cell_type": "code",
   "execution_count": null,
   "id": "47c22cbe-d680-4a27-840b-1e04a9e37937",
   "metadata": {},
   "outputs": [],
   "source": [
    "if __name__ == '__main__':\n",
    "    prev_img = cv2.imread(\"/home/yahia/Documents/Jupyter/Sargassum/Images/ABI_Averages_Binarized_Bilateral/Binarized_Bilateral_algae_distribution_20220723.png\")\n",
    "    next_img = cv2.imread(\"/home/yahia/Documents/Jupyter/Sargassum/Images/ABI_Averages_Binarized_Bilateral/Binarized_Bilateral_algae_distribution_20220724.png\")\n",
    "    flow = farneback_flow(prev_img, next_img)\n",
    "    plot_of_vectors(flow, prev_img, step=16, scale=1.25, display=True)\n",
    "    image = overlay_flow_vectors_with_quiver(flow, prev_img)\n",
    "    display_image_mpl(image, scale=1)\n",
    "    #display(Image(filename=\"/home/yahia/Documents/Jupyter/Sargassum/Images/ABI_Averages_Binarized_Bilateral/Binarized_Bilateral_algae_distribution_20220724.png\", width =750))"
   ]
  },
  {
   "cell_type": "markdown",
   "id": "49009036-f64d-471e-b9ba-53fa6ecd9ae0",
   "metadata": {},
   "source": [
    "### GIF\n",
    "We can try to visualize the result using a GIF."
   ]
  },
  {
   "cell_type": "code",
   "execution_count": null,
   "id": "f4c7752d-48ea-449c-a8a4-16ce629f9498",
   "metadata": {},
   "outputs": [],
   "source": [
    "if __name__ == '__main__':\n",
    "    # Saving the GIF\n",
    "    prev_img = cv2.imread(\"/home/yahia/Documents/Jupyter/Sargassum/Images/ABI_Averages_Binarized_Bilateral/Binarized_Bilateral_algae_distribution_20220723.png\")\n",
    "    next_img = cv2.imread(\"/home/yahia/Documents/Jupyter/Sargassum/Images/ABI_Averages_Binarized_Bilateral/Binarized_Bilateral_algae_distribution_20220724.png\")\n",
    "    images = [prev_img, next_img]\n",
    "    create_flow_gif(images, '/home/yahia/Documents/Jupyter/Sargassum/Images/GIFs/optical_flow.gif', fps=0.2, loop=10)\n",
    "    \n",
    "    # Displaying the GIF\n",
    "    gif_path = '/home/yahia/Documents/Jupyter/Sargassum/Images/GIFs/optical_flow.gif' \n",
    "    display(Image(filename=gif_path))"
   ]
  },
  {
   "cell_type": "markdown",
   "id": "e980ab12-f83e-4a3f-b7e3-d15f35a70a3b",
   "metadata": {},
   "source": [
    "This algorithm doesn't track the images very well, maybe trying with a viridis color map would produce better results."
   ]
  },
  {
   "cell_type": "markdown",
   "id": "041ceea5-a616-42ae-94a8-f9556d46561c",
   "metadata": {},
   "source": [
    "### Trying different Colormaps"
   ]
  },
  {
   "cell_type": "markdown",
   "id": "16507438-5e97-4ec0-b182-d7d347207a9d",
   "metadata": {},
   "source": [
    "The binarized image doesn't seem to be adapted for our algorithm, so we'll try to apply our algorithm on Viridis images."
   ]
  },
  {
   "cell_type": "code",
   "execution_count": null,
   "id": "6b102081-9fca-4a60-a7d7-6702918dd8ba",
   "metadata": {},
   "outputs": [],
   "source": [
    "if __name__ == '__main__':\n",
    "    prev_img = cv2.imread(\"/home/yahia/Documents/Jupyter/Sargassum/Images/ABI_Averages_Processed_Viridis/Processed_algae_distribution_20220723.png\")\n",
    "    next_img = cv2.imread(\"/home/yahia/Documents/Jupyter/Sargassum/Images/ABI_Averages_Processed_Viridis/Processed_algae_distribution_20220724.png\")\n",
    "    flow = farneback_flow(prev_img, next_img)\n",
    "    plot_of_vectors(flow, prev_img, step=16, scale=1.25)\n",
    "    display(Image(filename=\"/home/yahia/Documents/Jupyter/Sargassum/Images/ABI_Averages_Processed_Viridis/Processed_algae_distribution_20220724.png\", width =750))"
   ]
  },
  {
   "cell_type": "code",
   "execution_count": null,
   "id": "d4f0a3ed-b3f9-4777-9f6d-cdc8f56088d0",
   "metadata": {},
   "outputs": [],
   "source": [
    "if __name__ == '__main__':\n",
    "    # Saving the GIF\n",
    "    prev_img = cv2.imread(\"/home/yahia/Documents/Jupyter/Sargassum/Images/ABI_Averages_Processed_Viridis/Processed_algae_distribution_20220723.png\")\n",
    "    next_img = cv2.imread(\"/home/yahia/Documents/Jupyter/Sargassum/Images/ABI_Averages_Processed_Viridis/Processed_algae_distribution_20220724.png\")\n",
    "    images = [prev_img, next_img]\n",
    "    create_flow_gif(images, '/home/yahia/Documents/Jupyter/Sargassum/Images/GIFs/optical_flow.gif', fps=0.4, loop=10)\n",
    "    \n",
    "    # Displaying the GIF\n",
    "    gif_path = '/home/yahia/Documents/Jupyter/Sargassum/Images/GIFs/optical_flow.gif' \n",
    "    display(Image(filename=gif_path))"
   ]
  },
  {
   "cell_type": "markdown",
   "id": "e224d338-e088-4595-92fb-e11d18925ea6",
   "metadata": {},
   "source": [
    "### Trying Lucas-Kanade"
   ]
  },
  {
   "cell_type": "code",
   "execution_count": null,
   "id": "f2e04e8a-75c0-42aa-8862-8fc7de3c146e",
   "metadata": {},
   "outputs": [],
   "source": [
    "if __name__ == '__main__':\n",
    "    # Binarized\n",
    "    prev_img = cv2.imread(\"/home/yahia/Documents/Jupyter/Sargassum/Images/ABI_Averages_Binarized_Bilateral/Binarized_Bilateral_algae_distribution_20220723.png\")\n",
    "    next_img = cv2.imread(\"/home/yahia/Documents/Jupyter/Sargassum/Images/ABI_Averages_Binarized_Bilateral/Binarized_Bilateral_algae_distribution_20220724.png\")\n",
    "    p0, p1, st, err = LK_flow(prev_img, next_img)\n",
    "    if p0 is not None and p1 is not None:\n",
    "        # Filter out only points with successful tracking\n",
    "        good_new = p1[st==1]\n",
    "        good_old = p0[st==1]\n",
    "        LK1 = LK_vector_field(p0, p1, st[st==1], prev_img)\n",
    "        display_image_cv(LK1)\n",
    "    # Viridis\n",
    "    prev_img = cv2.imread(\"/home/yahia/Documents/Jupyter/Sargassum/Images/ABI_Averages_Processed_Viridis/Processed_algae_distribution_20220723.png\")\n",
    "    next_img = cv2.imread(\"/home/yahia/Documents/Jupyter/Sargassum/Images/ABI_Averages_Processed_Viridis/Processed_algae_distribution_20220724.png\")\n",
    "    p0, p1, st, err = LK_flow(prev_img, next_img)\n",
    "    if p0 is not None and p1 is not None:\n",
    "        # Filter out only points with successful tracking\n",
    "        good_new = p1[st==1]\n",
    "        good_old = p0[st==1]\n",
    "        LK2 = LK_vector_field(p0, p1, st[st==1], prev_img)\n",
    "        display_image_cv(LK2)"
   ]
  },
  {
   "cell_type": "markdown",
   "id": "abe615a3-4d51-4eec-a5e1-6a4100bae0d5",
   "metadata": {},
   "source": [
    "### OpenCV Image Display"
   ]
  },
  {
   "cell_type": "code",
   "execution_count": null,
   "id": "434fbfb2-720e-4e23-a5be-1671eb673492",
   "metadata": {},
   "outputs": [],
   "source": [
    "if __name__ == '__main__':\n",
    "    # Binary image\n",
    "    prev_img = cv2.imread(\"/home/yahia/Documents/Jupyter/Sargassum/Images/ABI_Averages_Binarized_Bilateral/Binarized_Bilateral_algae_distribution_20220723.png\")\n",
    "    next_img = cv2.imread(\"/home/yahia/Documents/Jupyter/Sargassum/Images/ABI_Averages_Binarized_Bilateral/Binarized_Bilateral_algae_distribution_20220724.png\")\n",
    "    p0, p1, st, err = LK_flow(prev_img, next_img)\n",
    "    img_with_vectors = LK_vector_field(p0, p1, st, prev_img)\n",
    "    display_image_cv(img_with_vectors)"
   ]
  },
  {
   "cell_type": "markdown",
   "id": "82790081-a8e2-4218-a628-c6b7358afe74",
   "metadata": {},
   "source": [
    "### Image Superposition\n",
    "This is a function that takes two images (preferably binarized for clarity) and superposes them on top of each other with different colors."
   ]
  },
  {
   "cell_type": "code",
   "execution_count": null,
   "id": "f9dde387-9c52-4942-99b2-d693400ee12b",
   "metadata": {},
   "outputs": [],
   "source": [
    "if __name__ == '__main__':\n",
    "    prev_img = cv2.imread(\"/home/yahia/Documents/Jupyter/Sargassum/Images/ABI_Averages_Binarized_Bilateral/Binarized_Bilateral_algae_distribution_20220723.png\")\n",
    "    next_img = cv2.imread(\"/home/yahia/Documents/Jupyter/Sargassum/Images/ABI_Averages_Binarized_Bilateral/Binarized_Bilateral_algae_distribution_20220724.png\")\n",
    "    superposed = superpose_images(prev_img, next_img)\n",
    "    display_image_cv(superposed)"
   ]
  },
  {
   "cell_type": "code",
   "execution_count": null,
   "id": "35f75035-39f7-4aaa-ac26-6db37266b669",
   "metadata": {},
   "outputs": [],
   "source": [
    "if __name__ == '__main__':\n",
    "    motion_field = overlay_flow_vectors(flow, superposed, step=16, scale=1, color=(0,0,255))\n",
    "    display_image_cv(motion_field)"
   ]
  },
  {
   "cell_type": "code",
   "execution_count": null,
   "id": "9f0ee0f2-0b4f-4842-bf57-f9d751c394ee",
   "metadata": {},
   "outputs": [],
   "source": []
  }
 ],
 "metadata": {
  "kernelspec": {
   "display_name": "Python 3 (ipykernel)",
   "language": "python",
   "name": "python3"
  },
  "language_info": {
   "codemirror_mode": {
    "name": "ipython",
    "version": 3
   },
   "file_extension": ".py",
   "mimetype": "text/x-python",
   "name": "python",
   "nbconvert_exporter": "python",
   "pygments_lexer": "ipython3",
   "version": "3.11.7"
  }
 },
 "nbformat": 4,
 "nbformat_minor": 5
}
