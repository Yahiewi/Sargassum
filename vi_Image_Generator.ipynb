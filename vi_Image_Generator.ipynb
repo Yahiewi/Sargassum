{
 "cells": [
  {
   "cell_type": "markdown",
   "id": "1a7142ac-4d67-4697-a8e1-d23a81908f82",
   "metadata": {},
   "source": [
    "# Image Generator\n",
    "This notebook was created to ease the image generation process, i.e turning the netCDF data into something the OF algorithms can take as input and saving it to the hard drive."
   ]
  },
  {
   "cell_type": "markdown",
   "id": "76ae2488-f567-468e-a3ab-5a5e5dd482c6",
   "metadata": {},
   "source": [
    "## Importing necessary libraries and notebooks"
   ]
  },
  {
   "cell_type": "code",
   "execution_count": null,
   "id": "910e1a4c-8b03-43d8-806f-ab125a525295",
   "metadata": {},
   "outputs": [],
   "source": [
    "import xarray as xr\n",
    "import os\n",
    "import cv2\n",
    "import matplotlib.pyplot as plt\n",
    "import matplotlib.colors as colors\n",
    "import numpy as np\n",
    "import cartopy.crs as ccrs\n",
    "import cartopy.feature as cfeature\n",
    "from datetime import datetime, timedelta\n",
    "from matplotlib import ticker\n",
    "from IPython.display import Image, display, HTML\n",
    "\n",
    "# Import the other notebooks without running their cells\n",
    "from ii_Data_Manipulation import visualize_4\n",
    "from iii_GOES_average import time_list, visualize_aggregate, calculate_median\n",
    "from iv_Image_Processing import collect_times, save_aggregate, crop_image, process_dates, binarize_image, bilateral_image, process_directory, save_image, process_dates_2"
   ]
  },
  {
   "cell_type": "markdown",
   "id": "ad3a1833-cefa-4c01-9374-8568fddfc059",
   "metadata": {},
   "source": [
    "## Antilles"
   ]
  },
  {
   "cell_type": "markdown",
   "id": "6157c68d-c816-41f8-a28a-c45c9dfdd534",
   "metadata": {},
   "source": [
    "### ABI_Averages_Antilles\n",
    "We're going to average and process all the ABI-GOES images and save them to the directory ABI_Averages on the hard drive \"ballena\". Running this block might take a while. To optimize we could try and parallelize this process using the GPU."
   ]
  },
  {
   "cell_type": "code",
   "execution_count": null,
   "id": "d5cc640b-4437-4496-b3ce-62320a1d0696",
   "metadata": {},
   "outputs": [],
   "source": [
    "# if __name__ == '__main__':\n",
    "#     start_date = '20221121'\n",
    "#     end_date = '20221231'\n",
    "#     directory = '/media/yahia/ballena/CLS/abi-goes-global-hr' \n",
    "#     output_directory = '/media/yahia/ballena/ABI_Averages_Antilles' \n",
    "#     latitude_range = (12, 17)  \n",
    "#     longitude_range = (-67, -60) \n",
    "    \n",
    "#     # Calculate the 1-day averages and save them\n",
    "#     process_dates(start_date, end_date, directory, output_directory, latitude_range, longitude_range, color=\"viridis\")\n",
    "    \n",
    "#     # Paths\n",
    "#     source_directory = '/media/yahia/ballena/ABI_Averages_Antilles' \n",
    "#     destination_directory = '/media/yahia/ballena/ABI_Averages_Antilles_Processed' \n",
    "    \n",
    "#     # Process the directory (filter, binarize and crop the images)\n",
    "#     process_directory(source_directory, destination_directory, threshold=180, bilateral=False, binarize=False)"
   ]
  },
  {
   "cell_type": "code",
   "execution_count": null,
   "id": "6e4dd0e9-771f-48f7-9d3c-bd54f39b7a7d",
   "metadata": {},
   "outputs": [],
   "source": [
    "# # Binarized and bilateral images\n",
    "# if __name__ == '__main__':\n",
    "#     # Paths\n",
    "#     source_directory = '/media/yahia/ballena/ABI/ABI_Averages_Antilles' \n",
    "#     destination_directory = '/media/yahia/ballena/ABI/ABI_Averages_Antilles_Binarized_Bilateral' \n",
    "    \n",
    "#     # Process the directory (filter, binarize and crop the images)\n",
    "#     process_directory(source_directory, destination_directory, threshold=100, bilateral=True, binarize=True)"
   ]
  },
  {
   "cell_type": "code",
   "execution_count": null,
   "id": "95ca3178-8ac2-496e-b159-129980d42b0e",
   "metadata": {},
   "outputs": [],
   "source": [
    "# # Binarized and bilateral images (negative)\n",
    "# if __name__ == '__main__':\n",
    "#     # Paths\n",
    "#     source_directory = '/media/yahia/ballena/ABI/ABI_Averages_Antilles' \n",
    "#     destination_directory = '/media/yahia/ballena/ABI/ABI_Averages_Antilles_Binarized_Bilateral_Negative' \n",
    "    \n",
    "#     # Process the directory (filter, binarize and crop the images)\n",
    "#     process_directory(source_directory, destination_directory, threshold=100, bilateral=True, binarize=True, negative=True)"
   ]
  },
  {
   "cell_type": "markdown",
   "id": "7025b89d-1259-4772-86bf-003c96943f81",
   "metadata": {},
   "source": [
    "### MODIS_Images\n",
    "The function **process_dates** we previously defined is only adapted to ABI-GOES images, we will need to write a function that does the same for MODIS and OLCI images. We will also need to do the same for **save_aggregate**."
   ]
  },
  {
   "cell_type": "markdown",
   "id": "de50e851-05e9-4a16-b13f-ec269ffbe320",
   "metadata": {},
   "source": [
    "Generating the MODIS images:"
   ]
  },
  {
   "cell_type": "code",
   "execution_count": null,
   "id": "5df5195a-685d-4368-961a-0c3712c6cd29",
   "metadata": {},
   "outputs": [],
   "source": [
    "# if __name__ == '__main__':\n",
    "#     start_date = '20201207'\n",
    "#     end_date = '20221231'\n",
    "#     directory = '/media/yahia/ballena/CLS/modis-aqua-global-lr' \n",
    "#     output_directory = '/media/yahia/ballena/MODIS_Antilles' \n",
    "#     latitude_range = (12, 17)  \n",
    "#     longitude_range = (-67, -60) \n",
    "    \n",
    "#     # Calculate the 1-day averages and save them\n",
    "#     process_dates2(start_date, end_date, directory, output_directory, latitude_range, longitude_range, color=\"viridis\")\n",
    "    \n",
    "#     # Paths\n",
    "#     source_directory = '/media/yahia/ballena/MODIS_Antilles' \n",
    "#     destination_directory = '/media/yahia/ballena/MODIS_Antilles_Processed' \n",
    "    \n",
    "#     # Process the directory (filter, binarize and crop the images)\n",
    "#     process_directory(source_directory, destination_directory, threshold=180, bilateral=False, binarize=False)"
   ]
  },
  {
   "cell_type": "markdown",
   "id": "2fa738af-1bc1-4d1f-a484-173c5e1bb8c5",
   "metadata": {},
   "source": [
    "### OLCI_Images"
   ]
  },
  {
   "cell_type": "markdown",
   "id": "314a6e4d-41a7-4d15-b052-a86da7f8485d",
   "metadata": {},
   "source": [
    "Generating the OLCI images:"
   ]
  },
  {
   "cell_type": "code",
   "execution_count": null,
   "id": "b54451ff-9a0c-4c2a-9b8a-02093d01385a",
   "metadata": {},
   "outputs": [],
   "source": [
    "# if __name__ == '__main__':\n",
    "#     start_date = '20201207'\n",
    "#     end_date = '20240122'\n",
    "#     directory = '/media/yahia/ballena/CLS/olci-s3-global-lr' \n",
    "#     output_directory = '/media/yahia/ballena/OLCI_Antilles' \n",
    "#     latitude_range = (12, 17)  \n",
    "#     longitude_range = (-67, -60) \n",
    "    \n",
    "#     # Calculate the 1-day averages and save them\n",
    "#     process_dates2(start_date, end_date, directory, output_directory, latitude_range, longitude_range, color=\"viridis\")\n",
    "    \n",
    "#     # Paths\n",
    "#     source_directory = '/media/yahia/ballena/OLCI_Antilles' \n",
    "#     destination_directory = '/media/yahia/ballena/OLCI_Antilles_Processed' \n",
    "    \n",
    "#     # Process the directory (filter, binarize and crop the images)\n",
    "#     process_directory(source_directory, destination_directory, threshold=180, bilateral=False, binarize=False)"
   ]
  },
  {
   "cell_type": "markdown",
   "id": "07aa07bc-8ad4-46ef-a2ef-2fac784f3898",
   "metadata": {},
   "source": [
    "## Range: (14, 15) (-66, -65)"
   ]
  },
  {
   "cell_type": "markdown",
   "id": "eef29d36-f402-4e71-bd80-e8c0013e7b51",
   "metadata": {},
   "source": [
    "### ABI_Averages"
   ]
  },
  {
   "cell_type": "code",
   "execution_count": null,
   "id": "4ed830d6-82d5-4ba8-94ca-cc3c28fb4c9f",
   "metadata": {},
   "outputs": [],
   "source": [
    "if __name__ == '__main__':\n",
    "    start_date = '20220701'\n",
    "    end_date = '20220730'\n",
    "    directory = '/media/yahia/ballena/CLS/abi-goes-global-hr' \n",
    "    output_directory = '/media/yahia/ballena/ABI/Spiral/ABI_Averages_Spiral' \n",
    "    latitude_range = (14, 15)  \n",
    "    longitude_range = (-66, -65) \n",
    "    \n",
    "    # Calculate the 1-day averages and save them\n",
    "    process_dates(start_date, end_date, directory, output_directory, latitude_range, longitude_range, color=\"viridis\")"
   ]
  },
  {
   "cell_type": "code",
   "execution_count": null,
   "id": "f04d3c99-ec7b-49a8-800a-41a901edf132",
   "metadata": {},
   "outputs": [],
   "source": [
    "# Cropped and Bilateral\n",
    "if __name__ == '__main__':\n",
    "    # Paths\n",
    "    source_directory = '/media/yahia/ballena/ABI/Spiral/ABI_Averages_Spiral'\n",
    "    destination_directory = '/media/yahia/ballena/ABI/Spiral/ABI_Averages_Spiral_Processed'\n",
    "    \n",
    "    # Process the directory (filter, binarize and crop the images)\n",
    "    process_directory(source_directory, destination_directory, threshold=180, bilateral=True, binarize=False)"
   ]
  },
  {
   "cell_type": "code",
   "execution_count": null,
   "id": "b2c9bfa7-f535-4dd6-8d60-54627e0b2e09",
   "metadata": {},
   "outputs": [],
   "source": [
    "# Binarized and bilateral images\n",
    "if __name__ == '__main__':\n",
    "    # Paths\n",
    "    source_directory = '/media/yahia/ballena/ABI/Spiral/ABI_Averages_Spiral'\n",
    "    destination_directory = '/media/yahia/ballena/ABI/Spiral/ABI_Averages_Spiral_Binarized_Bilateral'\n",
    "    \n",
    "    # Process the directory (filter, binarize and crop the images)\n",
    "    process_directory(source_directory, destination_directory, threshold=90, bilateral=True, binarize=True)"
   ]
  },
  {
   "cell_type": "code",
   "execution_count": null,
   "id": "cd47d1e7-5b6c-4877-a3d6-d7c880f0b095",
   "metadata": {},
   "outputs": [],
   "source": []
  }
 ],
 "metadata": {
  "kernelspec": {
   "display_name": "Python 3 (ipykernel)",
   "language": "python",
   "name": "python3"
  },
  "language_info": {
   "codemirror_mode": {
    "name": "ipython",
    "version": 3
   },
   "file_extension": ".py",
   "mimetype": "text/x-python",
   "name": "python",
   "nbconvert_exporter": "python",
   "pygments_lexer": "ipython3",
   "version": "3.11.7"
  }
 },
 "nbformat": 4,
 "nbformat_minor": 5
}
