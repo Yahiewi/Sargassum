{
 "cells": [
  {
   "cell_type": "markdown",
   "id": "00f64378-49a9-46c9-b715-2cdbaa3c4bff",
   "metadata": {
    "editable": true,
    "slideshow": {
     "slide_type": ""
    },
    "tags": []
   },
   "source": [
    "# Getting Started\n",
    "\n",
    "In this first step, we're going to try importing data (.nc images) for a given day for all 3 satellite instruments (**ABI**, **OLCI** and **MODIS**) and compare and comment on the results.\n",
    "\n"
   ]
  },
  {
   "cell_type": "markdown",
   "id": "267c7d96-819a-4347-aa15-e16e4c398612",
   "metadata": {},
   "source": [
    "## Importing necessary libraries and notebooks"
   ]
  },
  {
   "cell_type": "code",
   "execution_count": null,
   "id": "0360d439-fe60-46a7-99c3-ba47cc3e3d8a",
   "metadata": {},
   "outputs": [],
   "source": [
    "import xarray as xr\n",
    "import matplotlib.pyplot as plt\n",
    "import numpy as np\n",
    "import cartopy.crs as ccrs\n",
    "import cartopy.feature as cfeature"
   ]
  },
  {
   "cell_type": "markdown",
   "id": "0341d797-d284-43d8-b9f8-9dd0bb394ae0",
   "metadata": {},
   "source": [
    "## Function to load data and create a visualization\n",
    "Parameters:\n",
    "- file_path: The destination to the file.\n",
    "- lat_range, lon_range (optional): a tuple representing the latitude (resp. longitude) range to visualize.\n",
    "- color (optional): Colormap for the display, viridis by default. \n"
   ]
  },
  {
   "cell_type": "code",
   "execution_count": null,
   "id": "b79d4908-a17b-4c13-b552-8e627e0382ad",
   "metadata": {},
   "outputs": [],
   "source": [
    "def visualize(file_path, lat_range = None, lon_range = None, color = \"viridis\"):\n",
    "    # Load the netCDF data\n",
    "    data = xr.open_dataset(file_path)\n",
    "    \n",
    "    # If ranges are specified, apply them to select the desired subset\n",
    "    if lat_range:\n",
    "        data = data.sel(latitude=slice(*lat_range))\n",
    "    if lon_range:\n",
    "        data = data.sel(longitude=slice(*lon_range))\n",
    "\n",
    "    # Determine the index data and labels based on instrument used\n",
    "    index_key = 'fai_anomaly' if \"abi\" in file_path else 'nfai_mean'\n",
    "    colorbar_label = 'Floating Algae Index Anomaly (FAI)' if \"abi\" in file_path else 'Normalized Floating Algae Index (NFAI)'\n",
    "    title = 'FAI anomaly across the selected region on ' if \"abi\" in file_path else 'NFAI across the selected region on '\n",
    "    \n",
    "    # Set up a plot with geographic projections\n",
    "    fig, ax = plt.subplots(figsize=(12, 10), subplot_kw={'projection': ccrs.PlateCarree()})\n",
    "    \n",
    "    # Extract relevant data (NFAI or FAI anomaly) \n",
    "    index_data = data[index_key]\n",
    "\n",
    "    # Plot the data\n",
    "    # For the colormap we should choose a color that's good for OF algorithms\n",
    "    im = index_data.plot(ax=ax, x='longitude', y='latitude', transform=ccrs.PlateCarree(),\n",
    "                        cmap=color, add_colorbar=True, extend='both', cbar_kwargs={'shrink': 0.35})\n",
    "\n",
    "    # Add color bar details\n",
    "    im.colorbar.set_label(colorbar_label)\n",
    "\n",
    "    # Customize the map with coastlines and features (also optional)\n",
    "    ax.coastlines(resolution='10m', color='black')\n",
    "    ax.add_feature(cfeature.BORDERS, linestyle=':')\n",
    "    ax.add_feature(cfeature.LAND, facecolor='lightgray')\n",
    "    #ax.set_extent([lon_min, lon_max, lat_min, lat_max]) #Better not to use this for the moment\n",
    "\n",
    "    # Adding grid lines\n",
    "    gl = ax.gridlines(draw_labels=True, linewidth=1, color='gray', alpha=0.5, linestyle='--')\n",
    "    gl.top_labels = False\n",
    "    gl.right_labels = False\n",
    "    \n",
    "    # Show the plot with title\n",
    "    plt.title(title + str(data.time.values[0]))\n",
    "    plt.show()"
   ]
  },
  {
   "cell_type": "markdown",
   "id": "62284950-2be3-4d91-8775-0914bb4ff2c8",
   "metadata": {},
   "source": [
    "## MODIS Visualization"
   ]
  },
  {
   "cell_type": "code",
   "execution_count": null,
   "id": "6782046d-902e-4ab8-9e6d-6faf2497bf02",
   "metadata": {},
   "outputs": [],
   "source": [
    "if __name__ == '__main__':\n",
    "    file_path = \"/media/yahia/ballena/CLS/modis-aqua-global-lr/cls-modis-aqua-global-lr_1d_20220720.nc\"\n",
    "    visualize(file_path)\n",
    "    visualize(file_path,(12,17),(-67,-60),\"magma\")\n",
    "    visualize(file_path,(12,17),(-67,-60),\"binary\")"
   ]
  },
  {
   "cell_type": "markdown",
   "id": "974da53a-965e-41e3-8a59-563e2bc733f2",
   "metadata": {},
   "source": [
    "## OLCI Visualization"
   ]
  },
  {
   "cell_type": "code",
   "execution_count": null,
   "id": "c72bb223-8519-4f63-8682-ce6efa9735c1",
   "metadata": {},
   "outputs": [],
   "source": [
    "if __name__ == '__main__':\n",
    "    file_path = \"/media/yahia/ballena/CLS/olci-s3-global-lr/cls-olci-s3-global-lr_1d_20220720.nc\"\n",
    "    visualize(file_path)\n",
    "    visualize(file_path,(12,17),(-67,-60),\"viridis\")"
   ]
  },
  {
   "cell_type": "markdown",
   "id": "7685f8ef-5ebc-4f70-9ff3-210406f8a4b9",
   "metadata": {},
   "source": [
    "## ABI Visualization"
   ]
  },
  {
   "cell_type": "code",
   "execution_count": null,
   "id": "0f6dce42-9d3e-415b-baed-0e839172a232",
   "metadata": {},
   "outputs": [],
   "source": [
    "if __name__ == '__main__':\n",
    "    file_path = \"/media/yahia/ballena/CLS/abi-goes-global-hr/cls-abi-goes-global-hr_1d_20220928_10-00.nc\"\n",
    "    visualize(file_path)\n",
    "    visualize(file_path,(12,17),(-67,-60))"
   ]
  },
  {
   "cell_type": "markdown",
   "id": "0ef43913-36c1-4929-a88d-a79a88b27fa3",
   "metadata": {},
   "source": [
    "## Visualization Comments\n",
    "It seems the best instrument at detecting sargassum algae is **OLCI**, followed by **MODIS**, while **ABI** seems to be the worst."
   ]
  },
  {
   "cell_type": "markdown",
   "id": "a9633a2b-4ab9-482c-bbb9-468637cbc3f3",
   "metadata": {},
   "source": [
    "## Color Maps\n",
    "Here we're going to test different color maps to find out which are the best ones for identifying algae aggregations. We're going to work on **OLCI** images in the **Antilles** on **20/07/2022**."
   ]
  },
  {
   "cell_type": "markdown",
   "id": "e027c598-6968-4606-8a4a-7bf4f80cd5ff",
   "metadata": {},
   "source": [
    "### Color Map Test Results\n",
    "#### Uniform Sequential \n",
    "These types of color maps show really good contrast between the algae and the rest of the image. The best ones are **viridis**, **inferno** and **magma**. The last two show particularly good contrast.\n",
    "#### Sequential\n",
    "While these color maps do single out the algae efficiently, most of them tend to blend the clouds with the rest of the ocean, which may be turn out to be useful later.\n",
    "#### Sequential 2\n",
    "These color maps are similar to those from the Uniform Sequential list, but most of them do not show good contrast between the algae and the rest of the image. **Hot**, **afmhot** and **gist_heat** are good exceptions. **Binary** is also interesting but it's more like the color maps from the Sequential list.\n",
    "#### Diverging\n",
    "These color maps are great for visualizing the difference between negative and positive values, however some of them make it so the algae are sometimes hard to distinguish from the rest of the image. **Coolwarm** is a good exception though. **Bwr** also allows to distinguish clearly the algae when they are hard to see.\n",
    "#### Cyclic\n",
    "While these color maps do highlight the algae, they do not seem adapted to our study either.\n",
    "#### Qualitative\n",
    "These would be an interesting choice. While they do cause a loss of precision (especially for the first ones) by making the scale discrete, this may be useful later.\n",
    "#### Misc\n",
    "While none of these seem very adapted to our study, some have good contrast: **gnuplot2**, **brg**, **jet** and **nipy_spectral**."
   ]
  },
  {
   "cell_type": "markdown",
   "id": "c50f9ef3-a73e-4661-b980-33c8c779a6eb",
   "metadata": {},
   "source": [
    "## Case Study 1: ABI-GOES\n",
    "\n",
    "We're going to study an area in the **Antilles** to the west of Dominica and Martinique because of the high density of sargassum algae there. \n",
    "The selected date is **20/07/2022** for the same reasons and the instrument used is **ABI-GOES**."
   ]
  },
  {
   "cell_type": "code",
   "execution_count": null,
   "id": "5933c008-cfb5-4ac1-9d40-8104a2d285ab",
   "metadata": {},
   "outputs": [],
   "source": [
    "if __name__ == '__main__':\n",
    "    # Visualizing 6 of the ABI-GOES images of the region on 20/07/2022:\n",
    "    for i in range(6):\n",
    "        path_file = \"/media/yahia/ballena/CLS/abi-goes-global-hr/cls-abi-goes-global-hr_1d_20220720_11-\" + str(i) + \"0.nc\" \n",
    "        visualize(path_file,(12,17),(-67,-60))"
   ]
  },
  {
   "cell_type": "markdown",
   "id": "ce159fd5-35d8-4dcd-af07-8764b3354964",
   "metadata": {
    "jp-MarkdownHeadingCollapsed": true
   },
   "source": [
    "### Comments\n",
    "Apparently, ABI-GOES is much more affected by clouds than the other instruments which makes the detection of algae using it really complicated. \n",
    "This is going to be harder than working on the images of the other satellites. Using only ABI-GOES for sargassum detection does not seem very feasible."
   ]
  },
  {
   "cell_type": "markdown",
   "id": "a0b91915-6774-4f76-afff-8131fa86feab",
   "metadata": {},
   "source": [
    "## Case Study 2: OLCI\n",
    "\n",
    "We're going to study the same area, but since OLCI's temporal resolution is only 1-day, we can't study the dynamics on on a period of a day, so we'll try doing it for a week, starting from **20/07/2022** until **27/07/2022**."
   ]
  },
  {
   "cell_type": "code",
   "execution_count": null,
   "id": "192ddd6e-1523-4a02-b50f-f8e8edbb2e2c",
   "metadata": {},
   "outputs": [],
   "source": [
    "if __name__ == '__main__':\n",
    "    # Visualizing 7 of the OLCI images of the region on the week starting from 20/07/2022:\n",
    "    for i in range(7):\n",
    "        path_file = \"/media/yahia/ballena/CLS/olci-s3-global-lr/cls-olci-s3-global-lr_1d_2022072\" + str(i) + \".nc\" \n",
    "        visualize(path_file,(12,17),(-67,-60))"
   ]
  },
  {
   "cell_type": "markdown",
   "id": "a85f06a4-ad34-4660-bec0-8489fbf4fc0e",
   "metadata": {},
   "source": [
    "### Comments\n",
    "- While some of the OLCI images are really good (24/07/2022 in particular), a lot of them are ruined by clouds (25/07/2022) or are date for which the data simply isn't available in the region because of the limited coverage of the satellite on that given date.\n",
    "- The lower temporal resolution also poses a significant challenge in tracking aggregations; as we can see, if the detections are accurate, the aggregations detected next to the islands on 20/07/2022 drifted significantly and are undetectable the next day."
   ]
  },
  {
   "cell_type": "markdown",
   "id": "a85120a6-68f4-43df-acec-433c3219cbe6",
   "metadata": {},
   "source": [
    "## Case Study 3: MODIS\n",
    "\n",
    "Always in the same area, this time we're going to study the MODIS images on the same 1-week interval which should produce something similar to OLCI with less accuracy."
   ]
  },
  {
   "cell_type": "code",
   "execution_count": null,
   "id": "e9cf69c1-fc65-4f2c-8a32-781c0bb1408d",
   "metadata": {},
   "outputs": [],
   "source": [
    "if __name__ == '__main__':\n",
    "    # Visualizing 7 of the OLCI images of the region on the week starting from 20/07/2022:\n",
    "    for i in range(7):\n",
    "        path_file = \"/media/yahia/ballena/CLS/modis-aqua-global-lr/cls-modis-aqua-global-lr_1d_2022072\" + str(i) + \".nc\" \n",
    "        visualize(path_file,(12,17),(-67,-60))"
   ]
  },
  {
   "cell_type": "markdown",
   "id": "e3561714-b7b1-47a5-ac66-468e3ec29843",
   "metadata": {},
   "source": [
    "### Comments\n",
    "- As expected, the images are similar to OLCI's but less accurate, with more cloud interference and less algae aggregations detected.\n",
    "- We should try to find dates for which the images are more clear to test out velocity estimation algorithms, but if this is the best we can find, maybe we should look for a way to use these 3 instruments synergistically.\n",
    "- One idea would be to **sync** the images from the satellites to the same time, then superpose them after only leaving the algae (by either using an adapted colormap or using an index threshold) so that way we can have more dense aggregations to track using the algorithms we will write.\n",
    "- Syncing these images however is not an easy thing to do. I don't yet know when the images from OLCI and MODIS are taken **(I should look this up)**. An idea for syncing the images would be to fix a wisely chosen time (that's ideally already synced for two of the satellites) and use drift models to try to estimate the position of the algae at that time. "
   ]
  },
  {
   "cell_type": "code",
   "execution_count": null,
   "id": "546fcad2-3d53-4c96-9c07-943b3710dcda",
   "metadata": {},
   "outputs": [],
   "source": [
    "if __name__ == '__main__':\n",
    "    # Visualizing 6 of the ABI-GOES images of the region on 24/07/2022:\n",
    "    for i in range(6):\n",
    "        path_file = \"/media/yahia/ballena/CLS/abi-goes-global-hr/cls-abi-goes-global-hr_1d_20220724_12-\" + str(i) + \"0.nc\" \n",
    "        visualize(path_file,(12,17),(-67,-60))"
   ]
  }
 ],
 "metadata": {
  "kernelspec": {
   "display_name": "Python 3 (ipykernel)",
   "language": "python",
   "name": "python3"
  },
  "language_info": {
   "codemirror_mode": {
    "name": "ipython",
    "version": 3
   },
   "file_extension": ".py",
   "mimetype": "text/x-python",
   "name": "python",
   "nbconvert_exporter": "python",
   "pygments_lexer": "ipython3",
   "version": "3.11.7"
  }
 },
 "nbformat": 4,
 "nbformat_minor": 5
}
